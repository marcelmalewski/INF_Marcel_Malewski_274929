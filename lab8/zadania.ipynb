{
 "cells": [
  {
   "cell_type": "markdown",
   "source": [
    "zadanie 1\n",
    "a) Podziel w losowy sposób bazę danych na zbiór treningowy (70%) i testowy\n",
    "(30%)."
   ],
   "metadata": {
    "collapsed": false,
    "pycharm": {
     "name": "#%% md\n"
    }
   }
  },
  {
   "cell_type": "code",
   "execution_count": 266,
   "metadata": {
    "collapsed": true,
    "pycharm": {
     "name": "#%%\n"
    }
   },
   "outputs": [],
   "source": [
    "import pandas as pd\n",
    "from sklearn.model_selection import train_test_split\n",
    "\n",
    "df = pd.read_csv(\"iris.csv\")\n",
    "\n",
    "X = df.iloc[:, :-1].values\n",
    "y = df.iloc[:, 4].values\n",
    "\n",
    "#podzial na zbior testowy (30%) i treningowy (70%), ziarno losowosci = 274929\n",
    "X_train, X_test, y_train, y_test = train_test_split(X, y, train_size=0.7, random_state=274929)"
   ]
  },
  {
   "cell_type": "markdown",
   "source": [
    "b) Uruchom każdy z klasyfikatorów wykorzystując paczki i dokonaj ewaluacji ma\n",
    "zbiorze testowym wyświetlając procentową dokładność i macierz błędu.\n",
    "\n",
    "1. k-NN, k=3"
   ],
   "metadata": {
    "collapsed": false,
    "pycharm": {
     "name": "#%% md\n"
    }
   }
  },
  {
   "cell_type": "code",
   "execution_count": 267,
   "outputs": [
    {
     "name": "stdout",
     "output_type": "stream",
     "text": [
      "[[16  1  0]\n",
      " [ 0 14  1]\n",
      " [ 0  1 12]]\n",
      "Procent dobrze sklasyfikowanych irysów 93\n"
     ]
    }
   ],
   "source": [
    "from sklearn.preprocessing import StandardScaler\n",
    "from sklearn.neighbors import KNeighborsClassifier\n",
    "from sklearn.metrics import classification_report, confusion_matrix\n",
    "\n",
    "scaler = StandardScaler()\n",
    "scaler.fit(X_train)\n",
    "\n",
    "X_train = scaler.transform(X_train)\n",
    "X_test = scaler.transform(X_test)\n",
    "\n",
    "classifier = KNeighborsClassifier(n_neighbors=3)\n",
    "classifier.fit(X_train, y_train)\n",
    "\n",
    "y_pred = classifier.predict(X_test)\n",
    "\n",
    "print(confusion_matrix(y_test, y_pred))\n",
    "\n",
    "numberOfAll = X_test.shape[0]\n",
    "numberOfWrong = (y_test != y_pred).sum()\n",
    "numberOfCorrect = numberOfAll - numberOfWrong\n",
    "\n",
    "print(\"Procent dobrze sklasyfikowanych irysów %d\" % (numberOfCorrect/numberOfAll * 100))"
   ],
   "metadata": {
    "collapsed": false,
    "pycharm": {
     "name": "#%%\n"
    }
   }
  },
  {
   "cell_type": "markdown",
   "source": [
    "Otrzymany wynik to 93%"
   ],
   "metadata": {
    "collapsed": false,
    "pycharm": {
     "name": "#%% md\n"
    }
   }
  },
  {
   "cell_type": "markdown",
   "source": [
    "2. k-NN, k=5"
   ],
   "metadata": {
    "collapsed": false,
    "pycharm": {
     "name": "#%% md\n"
    }
   }
  },
  {
   "cell_type": "code",
   "execution_count": 268,
   "outputs": [
    {
     "name": "stdout",
     "output_type": "stream",
     "text": [
      "[[17  0  0]\n",
      " [ 0 14  1]\n",
      " [ 0  1 12]]\n",
      "Procent dobrze sklasyfikowanych irysów 95\n"
     ]
    }
   ],
   "source": [
    "classifier = KNeighborsClassifier(n_neighbors=5)\n",
    "classifier.fit(X_train, y_train)\n",
    "\n",
    "y_pred = classifier.predict(X_test)\n",
    "\n",
    "print(confusion_matrix(y_test, y_pred))\n",
    "\n",
    "numberOfAll = X_test.shape[0]\n",
    "numberOfWrong = (y_test != y_pred).sum()\n",
    "numberOfCorrect = numberOfAll - numberOfWrong\n",
    "\n",
    "print(\"Procent dobrze sklasyfikowanych irysów %d\" % (numberOfCorrect/numberOfAll * 100))"
   ],
   "metadata": {
    "collapsed": false,
    "pycharm": {
     "name": "#%%\n"
    }
   }
  },
  {
   "cell_type": "markdown",
   "source": [
    "Otrzymany wynik to 95%"
   ],
   "metadata": {
    "collapsed": false,
    "pycharm": {
     "name": "#%% md\n"
    }
   }
  },
  {
   "cell_type": "markdown",
   "source": [
    "3. k-NN, k=11"
   ],
   "metadata": {
    "collapsed": false,
    "pycharm": {
     "name": "#%% md\n"
    }
   }
  },
  {
   "cell_type": "code",
   "execution_count": 269,
   "outputs": [
    {
     "name": "stdout",
     "output_type": "stream",
     "text": [
      "[[17  0  0]\n",
      " [ 0 12  3]\n",
      " [ 0  2 11]]\n",
      "Procent dobrze sklasyfikowanych irysów 88\n"
     ]
    }
   ],
   "source": [
    "classifier = KNeighborsClassifier(n_neighbors=11)\n",
    "classifier.fit(X_train, y_train)\n",
    "\n",
    "y_pred = classifier.predict(X_test)\n",
    "\n",
    "print(confusion_matrix(y_test, y_pred))\n",
    "\n",
    "numberOfAll = X_test.shape[0]\n",
    "numberOfWrong = (y_test != y_pred).sum()\n",
    "numberOfCorrect = numberOfAll - numberOfWrong\n",
    "\n",
    "print(\"Procent dobrze sklasyfikowanych irysów %d\" % (numberOfCorrect/numberOfAll * 100))"
   ],
   "metadata": {
    "collapsed": false,
    "pycharm": {
     "name": "#%%\n"
    }
   }
  },
  {
   "cell_type": "markdown",
   "source": [
    "Otrzymany wynik to 88%"
   ],
   "metadata": {
    "collapsed": false,
    "pycharm": {
     "name": "#%% md\n"
    }
   }
  },
  {
   "cell_type": "markdown",
   "source": [
    "zadanie 2\n",
    "Dokonaj klasyfikacji zbioru danych z irysami za pomocą Naive Bayesa"
   ],
   "metadata": {
    "collapsed": false,
    "pycharm": {
     "name": "#%% md\n"
    }
   }
  },
  {
   "cell_type": "code",
   "execution_count": 270,
   "outputs": [
    {
     "name": "stdout",
     "output_type": "stream",
     "text": [
      "Procent 91\n"
     ]
    }
   ],
   "source": [
    "from sklearn.model_selection import train_test_split\n",
    "from sklearn.naive_bayes import GaussianNB\n",
    "\n",
    "df = pd.read_csv(\"iris.csv\")\n",
    "\n",
    "X = df.iloc[:, :-1].values\n",
    "y = df.iloc[:, 4].values\n",
    "\n",
    "X_train, X_test, y_train, y_test = train_test_split(X, y, train_size=0.7, random_state=274709)\n",
    "\n",
    "gnb = GaussianNB()\n",
    "y_pred = gnb.fit(X_train, y_train).predict(X_test)\n",
    "\n",
    "numberOfAll = X_test.shape[0]\n",
    "numberOfWrong = (y_test != y_pred).sum()\n",
    "numberOfCorrect = numberOfAll - numberOfWrong\n",
    "\n",
    "print(\"Procent %d\"% (numberOfCorrect/numberOfAll * 100))"
   ],
   "metadata": {
    "collapsed": false,
    "pycharm": {
     "name": "#%%\n"
    }
   }
  },
  {
   "cell_type": "markdown",
   "source": [
    "Wynik: 91% irysów zostało dobrze sklasyfikowanych."
   ],
   "metadata": {
    "collapsed": false,
    "pycharm": {
     "name": "#%% md\n"
    }
   }
  },
  {
   "cell_type": "markdown",
   "source": [
    "zad 3\n",
    "a) Załadować paczkę sklearn , bazę danych z irysami I podzielić irysy na część\n",
    "testową i treningową używając komendy: train_test_split ( 70% / 30% )."
   ],
   "metadata": {
    "collapsed": false,
    "pycharm": {
     "name": "#%% md\n"
    }
   }
  },
  {
   "cell_type": "code",
   "execution_count": 285,
   "outputs": [],
   "source": [
    "df = pd.read_csv(\"iris.csv\")\n",
    "\n",
    "X = df.iloc[:, :-1].values\n",
    "y = df.iloc[:, 4].values\n",
    "\n",
    "X_train, X_test, y_train, y_test = train_test_split(X, y, train_size=0.7, random_state=274779)"
   ],
   "metadata": {
    "collapsed": false,
    "pycharm": {
     "name": "#%%\n"
    }
   }
  },
  {
   "cell_type": "markdown",
   "source": [
    "b) Sieć neuronowa nie akceptuje napisów, jedynie liczby. Może się nauczyć\n",
    "rozpoznawać irysy, pod warunkiem że ich nazwy są numeryczne np. 0, 1 lub 2.\n",
    "Trzeba więc zamienić nazwy tekstowe na liczby przed treningiem."
   ],
   "metadata": {
    "collapsed": false,
    "pycharm": {
     "name": "#%% md\n"
    }
   }
  },
  {
   "cell_type": "code",
   "execution_count": 286,
   "outputs": [],
   "source": [
    "target = df[['class']].replace(['setosa','versicolor','virginica'],[0,1,2])\n",
    "# print(target.sample(n=5))"
   ],
   "metadata": {
    "collapsed": false,
    "pycharm": {
     "name": "#%%\n"
    }
   }
  },
  {
   "cell_type": "markdown",
   "source": [
    "Jakie to liczby? Jakim napisom odpowiadają?\n",
    "* setosa - 0\n",
    "* versicolor - 1\n",
    "* virginica - 2"
   ],
   "metadata": {
    "collapsed": false,
    "pycharm": {
     "name": "#%% md\n"
    }
   }
  },
  {
   "cell_type": "markdown",
   "source": [
    "c) Możesz przeskalować dane, ale ten punkt nie jest obowiązkowy"
   ],
   "metadata": {
    "collapsed": false,
    "pycharm": {
     "name": "#%% md\n"
    }
   }
  },
  {
   "cell_type": "code",
   "execution_count": 287,
   "outputs": [],
   "source": [
    "df_norm = df[['sepallength', 'sepalwidth', 'petallength', 'petalwidth']].apply(lambda x: (x - x.min()) / (x.max() - x.min()))"
   ],
   "metadata": {
    "collapsed": false,
    "pycharm": {
     "name": "#%%\n"
    }
   }
  },
  {
   "cell_type": "markdown",
   "source": [],
   "metadata": {
    "collapsed": false,
    "pycharm": {
     "name": "#%% md\n"
    }
   }
  },
  {
   "cell_type": "markdown",
   "source": [
    "d) Skonstruuj I wytrenuj model sieci neuronowej z czteroneuronową warstwą\n",
    "wejściową (bo są cztery pomiary irysów), jedną ukrytą warstwą z dwoma\n",
    "neuronami i warstwą wyjściową z jednym neuronem decydującym o gatunku\n",
    "irysa."
   ],
   "metadata": {
    "collapsed": false,
    "pycharm": {
     "name": "#%% md\n"
    }
   }
  },
  {
   "cell_type": "code",
   "execution_count": 288,
   "outputs": [
    {
     "name": "stdout",
     "output_type": "stream",
     "text": [
      "25     0\n",
      "128    2\n",
      "20     0\n",
      "54     1\n",
      "140    2\n",
      "      ..\n",
      "119    2\n",
      "97     1\n",
      "39     0\n",
      "24     0\n",
      "67     1\n",
      "Name: class, Length: 105, dtype: int64\n"
     ]
    }
   ],
   "source": [
    "import pandas as pd\n",
    "from sklearn.neural_network import MLPClassifier # neural network\n",
    "from sklearn import metrics\n",
    "\n",
    "df = pd.concat([df_norm, target], axis=1)\n",
    "# df.sample(n=5)\n",
    "\n",
    "train, test = train_test_split(df, train_size=0.7, random_state=274779)\n",
    "\n",
    "trainX = train[['sepallength','sepalwidth','petallength','petalwidth']]# taking the training data features\n",
    "\n",
    "trainY = train['class'] # output of our training data\n",
    "\n",
    "testX= test[['sepallength','sepalwidth','petallength','petalwidth']] # taking test data features\n",
    "\n",
    "testY = test['class'] # output value of test data\n",
    "\n",
    "clf = MLPClassifier(solver='lbfgs', alpha=1e-5, hidden_layer_sizes=(2,), random_state=1)\n",
    "\n",
    "clf.fit(trainX, trainY)\n",
    "\n",
    "print(trainY)"
   ],
   "metadata": {
    "collapsed": false,
    "pycharm": {
     "name": "#%%\n"
    }
   }
  },
  {
   "cell_type": "markdown",
   "source": [
    "e) Wyjaśnij jak liczby zwracane przez sieć (są to liczby rzeczywiste,\n",
    "zmiennoprzecinkowe) zamieniane są na odpowiedzi (gatunki irysa).\n",
    "\n",
    "wynik jest zaokrąglany.\n"
   ],
   "metadata": {
    "collapsed": false,
    "pycharm": {
     "name": "#%% md\n"
    }
   }
  },
  {
   "cell_type": "code",
   "execution_count": 289,
   "outputs": [
    {
     "name": "stdout",
     "output_type": "stream",
     "text": [
      "-\n",
      "[0 0 0 0 0 0 0 0 0 0 0 0 0 0 0 0 0 0 0 0 0 0 0 0 0 0 0 0 0 0 0 0 0 0 0 0 0\n",
      " 0 0 0 0 0 0 0 0]\n"
     ]
    }
   ],
   "source": [
    "prediction = clf.predict(testX)\n",
    "# print(testX)\n",
    "# print(testY)\n",
    "print(\"-\")\n",
    "print(prediction)"
   ],
   "metadata": {
    "collapsed": false,
    "pycharm": {
     "name": "#%%\n"
    }
   }
  },
  {
   "cell_type": "markdown",
   "source": [],
   "metadata": {
    "collapsed": false,
    "pycharm": {
     "name": "#%% md\n"
    }
   }
  },
  {
   "cell_type": "markdown",
   "source": [
    "f) Dokonaj ewaluacji sieci na zbiorze testowym. Wyświetl jej dokładność."
   ],
   "metadata": {
    "collapsed": false,
    "pycharm": {
     "name": "#%% md\n"
    }
   }
  },
  {
   "cell_type": "code",
   "execution_count": 290,
   "outputs": [
    {
     "name": "stdout",
     "output_type": "stream",
     "text": [
      "The accuracy of the Multi-layer Perceptron is: 0.24444444444444444\n"
     ]
    }
   ],
   "source": [
    "print('The accuracy of the Multi-layer Perceptron is:',metrics.accuracy_score(prediction,testY)) #(2,)"
   ],
   "metadata": {
    "collapsed": false,
    "pycharm": {
     "name": "#%%\n"
    }
   }
  },
  {
   "cell_type": "markdown",
   "source": [
    "Wyszło 28.8%"
   ],
   "metadata": {
    "collapsed": false,
    "pycharm": {
     "name": "#%% md\n"
    }
   }
  },
  {
   "cell_type": "markdown",
   "source": [
    "g) Sprawdź czy model sieci z trzema neuronami działa lepiej."
   ],
   "metadata": {
    "collapsed": false,
    "pycharm": {
     "name": "#%% md\n"
    }
   }
  },
  {
   "cell_type": "code",
   "execution_count": 291,
   "outputs": [
    {
     "name": "stdout",
     "output_type": "stream",
     "text": [
      "The accuracy of the Multi-layer Perceptron is: 0.9333333333333333\n"
     ]
    }
   ],
   "source": [
    "clf = MLPClassifier(solver='lbfgs', alpha=1e-5, hidden_layer_sizes=(3,), max_iter=1000, random_state=1)\n",
    "clf.fit(trainX, trainY)\n",
    "\n",
    "\n",
    "\n",
    "prediction = clf.predict(testX)\n",
    "# print(prediction)\n",
    "\n",
    "print('The accuracy of the Multi-layer Perceptron is:',metrics.accuracy_score(prediction,testY))"
   ],
   "metadata": {
    "collapsed": false,
    "pycharm": {
     "name": "#%%\n"
    }
   }
  },
  {
   "cell_type": "markdown",
   "source": [
    "Działa lepiej, wyszło 88.9%"
   ],
   "metadata": {
    "collapsed": false,
    "pycharm": {
     "name": "#%% md\n"
    }
   }
  },
  {
   "cell_type": "markdown",
   "source": [
    "h) Sprawdź czy model z dwiema warstwami neuronowymi, po 3 neurony każda,\n",
    "działa lepiej."
   ],
   "metadata": {
    "collapsed": false,
    "pycharm": {
     "name": "#%% md\n"
    }
   }
  },
  {
   "cell_type": "code",
   "execution_count": 292,
   "outputs": [
    {
     "name": "stdout",
     "output_type": "stream",
     "text": [
      "[2 1 2 0 1 2 2 1 0 1 1 0 1 2 2 2 0 1 1 2 1 2 2 2 2 0 2 2 2 2 2 1 0 1 0 1 0\n",
      " 2 0 1 0 2 2 1 0]\n",
      "The accuracy of the Multi-layer Perceptron is: 0.9777777777777777\n"
     ]
    }
   ],
   "source": [
    "clf = MLPClassifier(solver='lbfgs', alpha=1e-5, hidden_layer_sizes=(3, 3), random_state=1)\n",
    "\n",
    "clf.fit(trainX, trainY)\n",
    "\n",
    "prediction = clf.predict(testX)\n",
    "print(prediction)\n",
    "\n",
    "print('The accuracy of the Multi-layer Perceptron is:',metrics.accuracy_score(prediction,testY))"
   ],
   "metadata": {
    "collapsed": false,
    "pycharm": {
     "name": "#%%\n"
    }
   }
  },
  {
   "cell_type": "markdown",
   "source": [
    "Działa jeszcze lepiej, wyszło: 93.4%"
   ],
   "metadata": {
    "collapsed": false,
    "pycharm": {
     "name": "#%% md\n"
    }
   }
  },
  {
   "cell_type": "markdown",
   "source": [
    "i) Innym sposobem odgadywania irysów jest przyporządkowanie każdej wartości\n",
    "klasy jednemu neuronowi wyjściowemu (np. górny to setoa, środkowy\n",
    "versicolor, dolny virginica)."
   ],
   "metadata": {
    "collapsed": false,
    "pycharm": {
     "name": "#%% md\n"
    }
   }
  },
  {
   "cell_type": "code",
   "execution_count": 302,
   "outputs": [
    {
     "name": "stdout",
     "output_type": "stream",
     "text": [
      "[[0, 0, 1], [0, 0, 1], [0, 1, 0], [1, 0, 0], [0, 0, 1], [1, 0, 0], [0, 1, 0], [0, 1, 0], [1, 0, 0], [1, 0, 0], [1, 0, 0], [0, 0, 1], [0, 1, 0], [0, 1, 0], [0, 0, 1], [1, 0, 0], [0, 1, 0], [0, 0, 1], [0, 0, 1], [0, 0, 1], [1, 0, 0], [0, 0, 1], [0, 1, 0], [0, 0, 1], [1, 0, 0], [1, 0, 0], [0, 0, 1], [1, 0, 0], [0, 0, 1], [0, 1, 0], [0, 1, 0], [1, 0, 0], [0, 1, 0], [1, 0, 0], [0, 1, 0], [1, 0, 0], [0, 0, 1], [0, 0, 1], [1, 0, 0], [0, 1, 0], [0, 1, 0], [1, 0, 0], [0, 0, 1], [1, 0, 0], [1, 0, 0], [0, 1, 0], [0, 0, 1], [0, 0, 1], [1, 0, 0], [0, 0, 1], [1, 0, 0], [0, 1, 0], [0, 1, 0], [0, 1, 0], [0, 1, 0], [1, 0, 0], [0, 1, 0], [0, 0, 1], [1, 0, 0], [0, 1, 0], [0, 1, 0], [1, 0, 0], [0, 1, 0], [0, 1, 0], [0, 1, 0], [0, 0, 1], [1, 0, 0], [0, 0, 1], [0, 1, 0], [0, 0, 1], [1, 0, 0], [1, 0, 0], [1, 0, 0], [1, 0, 0], [0, 1, 0], [0, 1, 0], [0, 1, 0], [1, 0, 0], [1, 0, 0], [0, 1, 0], [0, 1, 0], [0, 1, 0], [0, 0, 1], [0, 0, 1], [0, 0, 1], [0, 0, 1], [0, 0, 1], [0, 0, 1], [1, 0, 0], [1, 0, 0], [0, 0, 1], [0, 0, 1], [0, 1, 0], [0, 0, 1], [0, 0, 1], [1, 0, 0], [0, 1, 0], [0, 1, 0], [0, 0, 1], [0, 0, 1], [0, 1, 0], [0, 0, 1], [1, 0, 0], [1, 0, 0], [0, 1, 0]]\n",
      "The accuracy of the Multi-layer Perceptron is: 0.35555555555555557\n"
     ]
    }
   ],
   "source": [
    "options = [\"setosa\", \"versicolor\", \"virginica\"]\n",
    "\n",
    "def name_to_list(name):\n",
    "    return [int(c == name) for c in options]\n",
    "\n",
    "# zamiast zamieniac nazwa_kwiatka -> liczba\n",
    "# zamieniam nazwa_kwiatka -> [liczba, liczba, liczba]\n",
    "def class_names_to_lists(classes_names):\n",
    "    return [name_to_list(c) for c in classes_names]\n",
    "\n",
    "df = pd.read_csv(\"iris.csv\")\n",
    "\n",
    "train, test = train_test_split(df, train_size=0.7, random_state=274779)\n",
    "\n",
    "trainX = train[['sepallength','sepalwidth','petallength','petalwidth']]# taking the training data features\n",
    "trainY = class_names_to_lists(train['class'])\n",
    "\n",
    "testX= test[['sepallength','sepalwidth','petallength','petalwidth']] # taking test data features\n",
    "testY = class_names_to_lists(test['class']) # output value of test data\n",
    "\n",
    "clf = MLPClassifier(solver='lbfgs', alpha=1e-5, hidden_layer_sizes=(2,), max_iter=1000, random_state=1)\n",
    "clf.fit(trainX, trainY)\n",
    "\n",
    "\n",
    "\n",
    "prediction = clf.predict(testX)\n",
    "#print(prediction)\n",
    "\n",
    "print(trainY)\n",
    "\n",
    "print('The accuracy of the Multi-layer Perceptron is:',metrics.accuracy_score(prediction,testY))"
   ],
   "metadata": {
    "collapsed": false,
    "pycharm": {
     "name": "#%%\n"
    }
   }
  },
  {
   "cell_type": "markdown",
   "source": [
    "hidden_layer_sizes=(2,):\n",
    "* poprzednio wyszło 28.8%\n",
    "* teraz: 66.7%\n",
    "czyli wynik się poprawił"
   ],
   "metadata": {
    "collapsed": false,
    "pycharm": {
     "name": "#%% md\n"
    }
   }
  },
  {
   "cell_type": "markdown",
   "source": [
    "hidden_layer_sizes=(3,):"
   ],
   "metadata": {
    "collapsed": false,
    "pycharm": {
     "name": "#%% md\n"
    }
   }
  },
  {
   "cell_type": "code",
   "execution_count": 298,
   "outputs": [
    {
     "name": "stdout",
     "output_type": "stream",
     "text": [
      "The accuracy of the Multi-layer Perceptron is: 0.6666666666666666\n"
     ]
    }
   ],
   "source": [
    "clf = MLPClassifier(solver='lbfgs', alpha=1e-5, hidden_layer_sizes=(3,), max_iter=1000, random_state=1)\n",
    "clf.fit(trainX, trainY)\n",
    "\n",
    "\n",
    "\n",
    "prediction = clf.predict(testX)\n",
    "# print(prediction)\n",
    "\n",
    "print('The accuracy of the Multi-layer Perceptron is:',metrics.accuracy_score(prediction,testY))"
   ],
   "metadata": {
    "collapsed": false,
    "pycharm": {
     "name": "#%%\n"
    }
   }
  },
  {
   "cell_type": "markdown",
   "source": [
    "* Poprzednio = 88.9%\n",
    "* Teraz = 57.8%\n",
    "Pogorszyło się"
   ],
   "metadata": {
    "collapsed": false,
    "pycharm": {
     "name": "#%% md\n"
    }
   }
  },
  {
   "cell_type": "markdown",
   "source": [
    "hidden_layer_sizes=(3,):"
   ],
   "metadata": {
    "collapsed": false,
    "pycharm": {
     "name": "#%% md\n"
    }
   }
  },
  {
   "cell_type": "code",
   "execution_count": 295,
   "outputs": [
    {
     "name": "stdout",
     "output_type": "stream",
     "text": [
      "The accuracy of the Multi-layer Perceptron is: 0.9555555555555556\n"
     ]
    }
   ],
   "source": [
    "clf = MLPClassifier(solver='lbfgs', alpha=1e-5, hidden_layer_sizes=(3,3), max_iter=1000, random_state=1)\n",
    "clf.fit(trainX, trainY)\n",
    "\n",
    "\n",
    "\n",
    "prediction = clf.predict(testX)\n",
    "# print(prediction)\n",
    "\n",
    "print('The accuracy of the Multi-layer Perceptron is:',metrics.accuracy_score(prediction,testY))"
   ],
   "metadata": {
    "collapsed": false,
    "pycharm": {
     "name": "#%%\n"
    }
   }
  },
  {
   "cell_type": "markdown",
   "source": [
    "* Poprzednio = 93.4%\n",
    "* Teraz = 95.6%\n",
    "Tym razem się polepszyło.\n",
    "Czyli raz trudno powiedzieć który sposób jest lepszy."
   ],
   "metadata": {
    "collapsed": false,
    "pycharm": {
     "name": "#%% md\n"
    }
   }
  }
 ],
 "metadata": {
  "kernelspec": {
   "display_name": "Python 3",
   "language": "python",
   "name": "python3"
  },
  "language_info": {
   "codemirror_mode": {
    "name": "ipython",
    "version": 2
   },
   "file_extension": ".py",
   "mimetype": "text/x-python",
   "name": "python",
   "nbconvert_exporter": "python",
   "pygments_lexer": "ipython2",
   "version": "2.7.6"
  }
 },
 "nbformat": 4,
 "nbformat_minor": 0
}