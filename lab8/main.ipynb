{
 "cells": [
  {
   "cell_type": "code",
   "execution_count": 2,
   "metadata": {
    "pycharm": {
     "name": "#%%\n"
    }
   },
   "outputs": [
    {
     "data": {
      "text/plain": "     sepallength  sepalwidth  petallength  petalwidth      class\n0            5.1         3.5          1.4         0.2     setosa\n1            4.9         3.0          1.4         0.2     setosa\n2            4.7         3.2          1.3         0.2     setosa\n3            4.6         3.1          1.5         0.2     setosa\n4            5.0         3.6          1.4         0.2     setosa\n..           ...         ...          ...         ...        ...\n145          6.7         3.0          5.2         2.3  virginica\n146          6.3         2.5          5.0         1.9  virginica\n147          6.5         3.0          5.2         2.0  virginica\n148          6.2         3.4          5.4         2.3  virginica\n149          5.9         3.0          5.1         1.8  virginica\n\n[150 rows x 5 columns]",
      "text/html": "<div>\n<style scoped>\n    .dataframe tbody tr th:only-of-type {\n        vertical-align: middle;\n    }\n\n    .dataframe tbody tr th {\n        vertical-align: top;\n    }\n\n    .dataframe thead th {\n        text-align: right;\n    }\n</style>\n<table border=\"1\" class=\"dataframe\">\n  <thead>\n    <tr style=\"text-align: right;\">\n      <th></th>\n      <th>sepallength</th>\n      <th>sepalwidth</th>\n      <th>petallength</th>\n      <th>petalwidth</th>\n      <th>class</th>\n    </tr>\n  </thead>\n  <tbody>\n    <tr>\n      <th>0</th>\n      <td>5.1</td>\n      <td>3.5</td>\n      <td>1.4</td>\n      <td>0.2</td>\n      <td>setosa</td>\n    </tr>\n    <tr>\n      <th>1</th>\n      <td>4.9</td>\n      <td>3.0</td>\n      <td>1.4</td>\n      <td>0.2</td>\n      <td>setosa</td>\n    </tr>\n    <tr>\n      <th>2</th>\n      <td>4.7</td>\n      <td>3.2</td>\n      <td>1.3</td>\n      <td>0.2</td>\n      <td>setosa</td>\n    </tr>\n    <tr>\n      <th>3</th>\n      <td>4.6</td>\n      <td>3.1</td>\n      <td>1.5</td>\n      <td>0.2</td>\n      <td>setosa</td>\n    </tr>\n    <tr>\n      <th>4</th>\n      <td>5.0</td>\n      <td>3.6</td>\n      <td>1.4</td>\n      <td>0.2</td>\n      <td>setosa</td>\n    </tr>\n    <tr>\n      <th>...</th>\n      <td>...</td>\n      <td>...</td>\n      <td>...</td>\n      <td>...</td>\n      <td>...</td>\n    </tr>\n    <tr>\n      <th>145</th>\n      <td>6.7</td>\n      <td>3.0</td>\n      <td>5.2</td>\n      <td>2.3</td>\n      <td>virginica</td>\n    </tr>\n    <tr>\n      <th>146</th>\n      <td>6.3</td>\n      <td>2.5</td>\n      <td>5.0</td>\n      <td>1.9</td>\n      <td>virginica</td>\n    </tr>\n    <tr>\n      <th>147</th>\n      <td>6.5</td>\n      <td>3.0</td>\n      <td>5.2</td>\n      <td>2.0</td>\n      <td>virginica</td>\n    </tr>\n    <tr>\n      <th>148</th>\n      <td>6.2</td>\n      <td>3.4</td>\n      <td>5.4</td>\n      <td>2.3</td>\n      <td>virginica</td>\n    </tr>\n    <tr>\n      <th>149</th>\n      <td>5.9</td>\n      <td>3.0</td>\n      <td>5.1</td>\n      <td>1.8</td>\n      <td>virginica</td>\n    </tr>\n  </tbody>\n</table>\n<p>150 rows × 5 columns</p>\n</div>"
     },
     "execution_count": 2,
     "metadata": {},
     "output_type": "execute_result"
    }
   ],
   "source": [
    "import pandas as pd\n",
    "import numpy as np\n",
    "\n",
    "\n",
    "classes: list[str] = [\"setosa\", \"versicolor\", \"virginica\"]\n",
    "df = pd.read_csv(\n",
    "\t\"./iris.csv\",\n",
    "\tdtype={\n",
    "\t\t\"sepallength\": np.float64,\n",
    "\t\t\"sepalwidth\": np.float64,\n",
    "\t\t\"petallength\": np.float64,\n",
    "\t\t\"petalwidth\": np.float64,\n",
    "\t\t\"class\": pd.CategoricalDtype(categories=classes),\n",
    "\t},\n",
    ")\n",
    "df"
   ]
  },
  {
   "cell_type": "code",
   "execution_count": 3,
   "metadata": {
    "pycharm": {
     "name": "#%%\n"
    }
   },
   "outputs": [
    {
     "data": {
      "text/plain": "array([[6.3, 3.3, 4.7, 1.6, 'versicolor'],\n       [5.1, 3.8, 1.9, 0.4, 'setosa'],\n       [7.7, 3.0, 6.1, 2.3, 'virginica'],\n       [5.5, 3.5, 1.3, 0.2, 'setosa'],\n       [4.8, 3.0, 1.4, 0.3, 'setosa'],\n       [6.7, 3.1, 4.7, 1.5, 'versicolor'],\n       [5.7, 2.9, 4.2, 1.3, 'versicolor'],\n       [6.3, 2.7, 4.9, 1.8, 'virginica'],\n       [7.1, 3.0, 5.9, 2.1, 'virginica'],\n       [5.5, 4.2, 1.4, 0.2, 'setosa'],\n       [5.5, 2.4, 3.8, 1.1, 'versicolor'],\n       [6.2, 2.2, 4.5, 1.5, 'versicolor'],\n       [6.1, 3.0, 4.9, 1.8, 'virginica'],\n       [5.1, 3.4, 1.5, 0.2, 'setosa'],\n       [6.1, 2.8, 4.7, 1.2, 'versicolor'],\n       [5.0, 3.0, 1.6, 0.2, 'setosa'],\n       [6.0, 2.7, 5.1, 1.6, 'versicolor'],\n       [6.4, 2.8, 5.6, 2.2, 'virginica'],\n       [5.4, 3.0, 4.5, 1.5, 'versicolor'],\n       [5.6, 2.9, 3.6, 1.3, 'versicolor'],\n       [6.5, 3.2, 5.1, 2.0, 'virginica'],\n       [6.1, 2.9, 4.7, 1.4, 'versicolor'],\n       [6.5, 3.0, 5.5, 1.8, 'virginica'],\n       [6.3, 2.5, 5.0, 1.9, 'virginica'],\n       [4.9, 2.4, 3.3, 1.0, 'versicolor'],\n       [7.7, 2.8, 6.7, 2.0, 'virginica'],\n       [5.5, 2.3, 4.0, 1.3, 'versicolor'],\n       [6.2, 2.8, 4.8, 1.8, 'virginica'],\n       [5.0, 3.3, 1.4, 0.2, 'setosa'],\n       [5.5, 2.5, 4.0, 1.3, 'versicolor'],\n       [7.4, 2.8, 6.1, 1.9, 'virginica'],\n       [6.0, 2.9, 4.5, 1.5, 'versicolor'],\n       [6.1, 2.8, 4.0, 1.3, 'versicolor'],\n       [5.4, 3.9, 1.7, 0.4, 'setosa'],\n       [5.9, 3.0, 5.1, 1.8, 'virginica'],\n       [4.5, 2.3, 1.3, 0.3, 'setosa'],\n       [7.2, 3.6, 6.1, 2.5, 'virginica'],\n       [6.3, 2.5, 4.9, 1.5, 'versicolor'],\n       [5.7, 3.0, 4.2, 1.2, 'versicolor'],\n       [5.4, 3.4, 1.7, 0.2, 'setosa'],\n       [6.2, 3.4, 5.4, 2.3, 'virginica'],\n       [6.2, 2.9, 4.3, 1.3, 'versicolor'],\n       [5.6, 2.7, 4.2, 1.3, 'versicolor'],\n       [6.1, 2.6, 5.6, 1.4, 'virginica'],\n       [6.4, 3.2, 4.5, 1.5, 'versicolor'],\n       [4.8, 3.4, 1.9, 0.2, 'setosa'],\n       [5.1, 3.5, 1.4, 0.2, 'setosa'],\n       [4.9, 3.0, 1.4, 0.2, 'setosa'],\n       [5.1, 3.7, 1.5, 0.4, 'setosa'],\n       [5.3, 3.7, 1.5, 0.2, 'setosa'],\n       [7.0, 3.2, 4.7, 1.4, 'versicolor'],\n       [6.0, 2.2, 5.0, 1.5, 'virginica'],\n       [6.4, 2.7, 5.3, 1.9, 'virginica'],\n       [4.7, 3.2, 1.3, 0.2, 'setosa'],\n       [6.8, 2.8, 4.8, 1.4, 'versicolor'],\n       [6.7, 2.5, 5.8, 1.8, 'virginica'],\n       [6.0, 3.0, 4.8, 1.8, 'virginica'],\n       [5.1, 3.8, 1.5, 0.3, 'setosa'],\n       [4.9, 3.1, 1.5, 0.1, 'setosa'],\n       [5.8, 2.7, 3.9, 1.2, 'versicolor'],\n       [4.8, 3.0, 1.4, 0.1, 'setosa'],\n       [5.8, 2.7, 5.1, 1.9, 'virginica'],\n       [5.9, 3.0, 4.2, 1.5, 'versicolor'],\n       [5.0, 3.5, 1.3, 0.3, 'setosa'],\n       [5.7, 2.8, 4.1, 1.3, 'versicolor'],\n       [6.3, 3.3, 6.0, 2.5, 'virginica'],\n       [5.7, 4.4, 1.5, 0.4, 'setosa'],\n       [5.0, 2.3, 3.3, 1.0, 'versicolor'],\n       [6.5, 3.0, 5.8, 2.2, 'virginica'],\n       [6.0, 2.2, 4.0, 1.0, 'versicolor'],\n       [6.3, 3.4, 5.6, 2.4, 'virginica'],\n       [6.9, 3.2, 5.7, 2.3, 'virginica'],\n       [6.3, 2.8, 5.1, 1.5, 'virginica'],\n       [6.4, 3.2, 5.3, 2.3, 'virginica'],\n       [5.1, 3.3, 1.7, 0.5, 'setosa'],\n       [5.1, 2.5, 3.0, 1.1, 'versicolor'],\n       [5.1, 3.5, 1.4, 0.3, 'setosa'],\n       [6.4, 2.8, 5.6, 2.1, 'virginica'],\n       [5.8, 2.8, 5.1, 2.4, 'virginica'],\n       [4.3, 3.0, 1.1, 0.1, 'setosa'],\n       [6.6, 3.0, 4.4, 1.4, 'versicolor'],\n       [4.9, 3.1, 1.5, 0.1, 'setosa'],\n       [6.9, 3.1, 5.1, 2.3, 'virginica'],\n       [4.9, 2.5, 4.5, 1.7, 'virginica'],\n       [5.6, 3.0, 4.5, 1.5, 'versicolor'],\n       [6.7, 3.3, 5.7, 2.1, 'virginica'],\n       [5.2, 3.5, 1.5, 0.2, 'setosa'],\n       [6.3, 2.3, 4.4, 1.3, 'versicolor'],\n       [5.6, 2.8, 4.9, 2.0, 'virginica'],\n       [5.8, 4.0, 1.2, 0.2, 'setosa'],\n       [6.7, 3.0, 5.2, 2.3, 'virginica'],\n       [4.6, 3.6, 1.0, 0.2, 'setosa'],\n       [7.2, 3.0, 5.8, 1.6, 'virginica'],\n       [5.6, 2.5, 3.9, 1.1, 'versicolor'],\n       [4.8, 3.4, 1.6, 0.2, 'setosa'],\n       [5.7, 2.8, 4.5, 1.3, 'versicolor'],\n       [4.4, 2.9, 1.4, 0.2, 'setosa'],\n       [6.9, 3.1, 5.4, 2.1, 'virginica'],\n       [4.4, 3.0, 1.3, 0.2, 'setosa'],\n       [6.7, 3.3, 5.7, 2.5, 'virginica'],\n       [5.5, 2.4, 3.7, 1.0, 'versicolor'],\n       [6.6, 2.9, 4.6, 1.3, 'versicolor'],\n       [5.4, 3.7, 1.5, 0.2, 'setosa'],\n       [4.7, 3.2, 1.6, 0.2, 'setosa'],\n       [7.7, 3.8, 6.7, 2.2, 'virginica']], dtype=object)"
     },
     "execution_count": 3,
     "metadata": {},
     "output_type": "execute_result"
    }
   ],
   "source": [
    "from sklearn.model_selection import train_test_split\n",
    "\n",
    "(train_set, test_set) = train_test_split(df.values, train_size=0.7,\n",
    "random_state=130)\n",
    "train_set"
   ]
  },
  {
   "cell_type": "code",
   "execution_count": 7,
   "metadata": {
    "pycharm": {
     "name": "#%%\n"
    }
   },
   "outputs": [
    {
     "name": "stdout",
     "output_type": "stream",
     "text": [
      "([array([6.3, 3.3, 4.7, 1.6]), array([5.1, 3.8, 1.9, 0.4]), array([7.7, 3. , 6.1, 2.3]), array([5.5, 3.5, 1.3, 0.2]), array([4.8, 3. , 1.4, 0.3]), array([6.7, 3.1, 4.7, 1.5]), array([5.7, 2.9, 4.2, 1.3]), array([6.3, 2.7, 4.9, 1.8]), array([7.1, 3. , 5.9, 2.1]), array([5.5, 4.2, 1.4, 0.2]), array([5.5, 2.4, 3.8, 1.1]), array([6.2, 2.2, 4.5, 1.5]), array([6.1, 3. , 4.9, 1.8]), array([5.1, 3.4, 1.5, 0.2]), array([6.1, 2.8, 4.7, 1.2]), array([5. , 3. , 1.6, 0.2]), array([6. , 2.7, 5.1, 1.6]), array([6.4, 2.8, 5.6, 2.2]), array([5.4, 3. , 4.5, 1.5]), array([5.6, 2.9, 3.6, 1.3]), array([6.5, 3.2, 5.1, 2. ]), array([6.1, 2.9, 4.7, 1.4]), array([6.5, 3. , 5.5, 1.8]), array([6.3, 2.5, 5. , 1.9]), array([4.9, 2.4, 3.3, 1. ]), array([7.7, 2.8, 6.7, 2. ]), array([5.5, 2.3, 4. , 1.3]), array([6.2, 2.8, 4.8, 1.8]), array([5. , 3.3, 1.4, 0.2]), array([5.5, 2.5, 4. , 1.3]), array([7.4, 2.8, 6.1, 1.9]), array([6. , 2.9, 4.5, 1.5]), array([6.1, 2.8, 4. , 1.3]), array([5.4, 3.9, 1.7, 0.4]), array([5.9, 3. , 5.1, 1.8]), array([4.5, 2.3, 1.3, 0.3]), array([7.2, 3.6, 6.1, 2.5]), array([6.3, 2.5, 4.9, 1.5]), array([5.7, 3. , 4.2, 1.2]), array([5.4, 3.4, 1.7, 0.2]), array([6.2, 3.4, 5.4, 2.3]), array([6.2, 2.9, 4.3, 1.3]), array([5.6, 2.7, 4.2, 1.3]), array([6.1, 2.6, 5.6, 1.4]), array([6.4, 3.2, 4.5, 1.5]), array([4.8, 3.4, 1.9, 0.2]), array([5.1, 3.5, 1.4, 0.2]), array([4.9, 3. , 1.4, 0.2]), array([5.1, 3.7, 1.5, 0.4]), array([5.3, 3.7, 1.5, 0.2]), array([7. , 3.2, 4.7, 1.4]), array([6. , 2.2, 5. , 1.5]), array([6.4, 2.7, 5.3, 1.9]), array([4.7, 3.2, 1.3, 0.2]), array([6.8, 2.8, 4.8, 1.4]), array([6.7, 2.5, 5.8, 1.8]), array([6. , 3. , 4.8, 1.8]), array([5.1, 3.8, 1.5, 0.3]), array([4.9, 3.1, 1.5, 0.1]), array([5.8, 2.7, 3.9, 1.2]), array([4.8, 3. , 1.4, 0.1]), array([5.8, 2.7, 5.1, 1.9]), array([5.9, 3. , 4.2, 1.5]), array([5. , 3.5, 1.3, 0.3]), array([5.7, 2.8, 4.1, 1.3]), array([6.3, 3.3, 6. , 2.5]), array([5.7, 4.4, 1.5, 0.4]), array([5. , 2.3, 3.3, 1. ]), array([6.5, 3. , 5.8, 2.2]), array([6. , 2.2, 4. , 1. ]), array([6.3, 3.4, 5.6, 2.4]), array([6.9, 3.2, 5.7, 2.3]), array([6.3, 2.8, 5.1, 1.5]), array([6.4, 3.2, 5.3, 2.3]), array([5.1, 3.3, 1.7, 0.5]), array([5.1, 2.5, 3. , 1.1]), array([5.1, 3.5, 1.4, 0.3]), array([6.4, 2.8, 5.6, 2.1]), array([5.8, 2.8, 5.1, 2.4]), array([4.3, 3. , 1.1, 0.1]), array([6.6, 3. , 4.4, 1.4]), array([4.9, 3.1, 1.5, 0.1]), array([6.9, 3.1, 5.1, 2.3]), array([4.9, 2.5, 4.5, 1.7]), array([5.6, 3. , 4.5, 1.5]), array([6.7, 3.3, 5.7, 2.1]), array([5.2, 3.5, 1.5, 0.2]), array([6.3, 2.3, 4.4, 1.3]), array([5.6, 2.8, 4.9, 2. ]), array([5.8, 4. , 1.2, 0.2]), array([6.7, 3. , 5.2, 2.3]), array([4.6, 3.6, 1. , 0.2]), array([7.2, 3. , 5.8, 1.6]), array([5.6, 2.5, 3.9, 1.1]), array([4.8, 3.4, 1.6, 0.2]), array([5.7, 2.8, 4.5, 1.3]), array([4.4, 2.9, 1.4, 0.2]), array([6.9, 3.1, 5.4, 2.1]), array([4.4, 3. , 1.3, 0.2]), array([6.7, 3.3, 5.7, 2.5]), array([5.5, 2.4, 3.7, 1. ]), array([6.6, 2.9, 4.6, 1.3]), array([5.4, 3.7, 1.5, 0.2]), array([4.7, 3.2, 1.6, 0.2]), array([7.7, 3.8, 6.7, 2.2])], ['versicolor', 'setosa', 'virginica', 'setosa', 'setosa', 'versicolor', 'versicolor', 'virginica', 'virginica', 'setosa', 'versicolor', 'versicolor', 'virginica', 'setosa', 'versicolor', 'setosa', 'versicolor', 'virginica', 'versicolor', 'versicolor', 'virginica', 'versicolor', 'virginica', 'virginica', 'versicolor', 'virginica', 'versicolor', 'virginica', 'setosa', 'versicolor', 'virginica', 'versicolor', 'versicolor', 'setosa', 'virginica', 'setosa', 'virginica', 'versicolor', 'versicolor', 'setosa', 'virginica', 'versicolor', 'versicolor', 'virginica', 'versicolor', 'setosa', 'setosa', 'setosa', 'setosa', 'setosa', 'versicolor', 'virginica', 'virginica', 'setosa', 'versicolor', 'virginica', 'virginica', 'setosa', 'setosa', 'versicolor', 'setosa', 'virginica', 'versicolor', 'setosa', 'versicolor', 'virginica', 'setosa', 'versicolor', 'virginica', 'versicolor', 'virginica', 'virginica', 'virginica', 'virginica', 'setosa', 'versicolor', 'setosa', 'virginica', 'virginica', 'setosa', 'versicolor', 'setosa', 'virginica', 'virginica', 'versicolor', 'virginica', 'setosa', 'versicolor', 'virginica', 'setosa', 'virginica', 'setosa', 'virginica', 'versicolor', 'setosa', 'versicolor', 'setosa', 'virginica', 'setosa', 'virginica', 'versicolor', 'versicolor', 'setosa', 'setosa', 'virginica'])\n"
     ]
    }
   ],
   "source": [
    "def format_data_to_x_y(data):\n",
    "\treturn ([row[:-1].astype(np.float64) for row in data], [row[-1] for row in data])\n",
    "\n",
    "train_x_y = format_data_to_x_y(train_set)\n",
    "test_x_y = format_data_to_x_y(test_set)"
   ]
  },
  {
   "cell_type": "code",
   "execution_count": 15,
   "metadata": {
    "pycharm": {
     "name": "#%%\n"
    }
   },
   "outputs": [
    {
     "name": "stdout",
     "output_type": "stream",
     "text": [
      "[0, 0, 1]\n",
      "list_repr\n",
      "[[0, 1, 0], [0, 0, 1], [0, 1, 0], [0, 1, 0], [0, 0, 1], [1, 0, 0], [0, 1, 0], [1, 0, 0], [0, 1, 0], [0, 1, 0], [0, 1, 0], [0, 0, 1], [1, 0, 0], [0, 0, 1], [0, 0, 1], [0, 1, 0], [0, 1, 0], [1, 0, 0], [0, 0, 1], [0, 1, 0], [0, 0, 1], [1, 0, 0], [0, 1, 0], [1, 0, 0], [0, 0, 1], [0, 1, 0], [0, 1, 0], [1, 0, 0], [1, 0, 0], [1, 0, 0], [0, 0, 1], [1, 0, 0], [1, 0, 0], [1, 0, 0], [1, 0, 0], [0, 1, 0], [0, 0, 1], [0, 1, 0], [1, 0, 0], [1, 0, 0], [0, 0, 1], [0, 0, 1], [1, 0, 0], [0, 0, 1], [1, 0, 0]]\n",
      "list_repr\n",
      "[[0, 1, 0], [0, 0, 1], [0, 1, 0], [0, 1, 0], [0, 0, 1], [1, 0, 0], [0, 1, 0], [1, 0, 0], [0, 1, 0], [0, 1, 0], [0, 1, 0], [0, 0, 1], [1, 0, 0], [0, 0, 1], [0, 0, 1], [0, 1, 0], [0, 1, 0], [1, 0, 0], [0, 0, 1], [0, 1, 0], [0, 0, 1], [1, 0, 0], [0, 1, 0], [1, 0, 0], [0, 0, 1], [0, 1, 0], [0, 1, 0], [1, 0, 0], [1, 0, 0], [1, 0, 0], [0, 0, 1], [1, 0, 0], [1, 0, 0], [1, 0, 0], [1, 0, 0], [0, 1, 0], [0, 0, 1], [0, 1, 0], [1, 0, 0], [1, 0, 0], [0, 0, 1], [0, 0, 1], [1, 0, 0], [0, 0, 1], [1, 0, 0]]\n",
      "list_repr\n",
      "[[0, 1, 0], [0, 0, 1], [0, 1, 0], [0, 1, 0], [0, 0, 1], [1, 0, 0], [0, 1, 0], [1, 0, 0], [0, 1, 0], [0, 1, 0], [0, 1, 0], [0, 0, 1], [1, 0, 0], [0, 0, 1], [0, 0, 1], [0, 1, 0], [0, 1, 0], [1, 0, 0], [0, 0, 1], [0, 1, 0], [0, 0, 1], [1, 0, 0], [0, 1, 0], [1, 0, 0], [0, 0, 1], [0, 1, 0], [0, 1, 0], [1, 0, 0], [1, 0, 0], [1, 0, 0], [0, 0, 1], [1, 0, 0], [1, 0, 0], [1, 0, 0], [1, 0, 0], [0, 1, 0], [0, 0, 1], [0, 1, 0], [1, 0, 0], [1, 0, 0], [0, 0, 1], [0, 0, 1], [1, 0, 0], [0, 0, 1], [1, 0, 0]]\n",
      "num_repr\n",
      "[1 2 1 1 2 0 1 0 1 1 1 2 0 2 2 1 1 0 2 1 2 0 1 0 2 1 1 0 0 0 2 0 0 0 0 1 2\n",
      " 1 0 0 2 2 0 2 0]\n",
      "num_repr\n",
      "[1 2 1 1 2 0 1 0 1 1 1 2 0 2 2 1 1 0 2 1 2 0 1 0 2 1 1 0 0 0 2 0 0 0 0 1 2\n",
      " 1 0 0 2 2 0 2 0]\n",
      "num_repr\n",
      "[1 2 1 1 2 0 1 0 1 1 1 2 0 2 2 1 1 0 2 1 2 0 1 0 2 1 1 0 0 0 2 0 0 0 0 1 2\n",
      " 1 0 0 2 2 0 2 0]\n",
      "list_repr\n",
      "[[0, 1, 0], [0, 0, 1], [0, 1, 0], [0, 1, 0], [0, 0, 1], [1, 0, 0], [0, 1, 0], [1, 0, 0], [0, 1, 0], [0, 1, 0], [0, 1, 0], [0, 0, 1], [1, 0, 0], [0, 0, 1], [0, 0, 1], [0, 1, 0], [0, 1, 0], [1, 0, 0], [0, 0, 1], [0, 1, 0], [0, 0, 1], [1, 0, 0], [0, 1, 0], [1, 0, 0], [0, 0, 1], [0, 1, 0], [0, 1, 0], [1, 0, 0], [1, 0, 0], [1, 0, 0], [0, 0, 1], [1, 0, 0], [1, 0, 0], [1, 0, 0], [1, 0, 0], [0, 1, 0], [0, 0, 1], [0, 1, 0], [1, 0, 0], [1, 0, 0], [0, 0, 1], [0, 0, 1], [1, 0, 0], [0, 0, 1], [1, 0, 0]]\n"
     ]
    }
   ],
   "source": [
    "from sklearn.neural_network import MLPClassifier\n",
    "\n",
    "def class_to_list_repr(class_):\n",
    "\treturn [int(c == class_) for c in classes]\n",
    "\n",
    "def list_repr_to_class(class_list_repr):\n",
    "\treturn classes[np.argmax(class_list_repr)]\n",
    "\n",
    "def class_to_num_repr(class_):\n",
    "\treturn [classes.index(class_)]\n",
    "\n",
    "print(class_to_list_repr(\"virginica\"))\n",
    "\n",
    "def num_repr_to_class(class_num_repr):\n",
    "\treturn classes[round(class_num_repr[0])]\n",
    "\n",
    "class Params:\n",
    "\tdef __init__(self,\n",
    "\t\thidden_layer_sizes,\n",
    "\t\ttype,\n",
    "\t):\n",
    "\t\tself.hidden_layer_sizes = hidden_layer_sizes\n",
    "\t\tself.type = type\n",
    "\n",
    "runs_params = [\n",
    "\tParams(\n",
    "\t\thidden_layer_sizes=(2,),\n",
    "\t\ttype=\"list_repr\",\n",
    "\t),\n",
    "\tParams(\n",
    "\t\thidden_layer_sizes=(3,),\n",
    "\t\ttype=\"list_repr\",\n",
    "\t),\n",
    "\tParams(\n",
    "\t\thidden_layer_sizes=(3,3),\n",
    "\t\ttype=\"list_repr\",\n",
    "\t),\n",
    "\tParams(\n",
    "\t\thidden_layer_sizes=(2,),\n",
    "\t\ttype=\"num_repr\",\n",
    "\t),\n",
    "\tParams(\n",
    "\t\thidden_layer_sizes=(3,),\n",
    "\t\ttype=\"num_repr\",\n",
    "\t),\n",
    "\tParams(\n",
    "\t\thidden_layer_sizes=(3,3),\n",
    "\t\ttype=\"num_repr\",\n",
    "\t),\n",
    "\tParams(\n",
    "\t\thidden_layer_sizes=(8,8,6),\n",
    "\t\ttype=\"list_repr\",\n",
    "\t),\n",
    "]\n",
    "\n",
    "def classes_to_repr(classes, type):\n",
    "\treturn [class_to_list_repr(c) for c in classes] \\\n",
    "\t\tif run_params.type == \"list_repr\" \\\n",
    "\t\telse np.ravel([class_to_num_repr(c) for c in classes]) \\\n",
    "\t\t\tif run_params.type == \"num_repr\" \\\n",
    "\t\t\telse None\n",
    "\n",
    "for run_params in runs_params:\n",
    "\tmlp = MLPClassifier(\n",
    "\t\tsolver=\"lbfgs\",\n",
    "\t\talpha=1e-5,\n",
    "\t\thidden_layer_sizes=run_params.hidden_layer_sizes,\n",
    "\t\trandom_state=3,\n",
    "\t\tactivation=\"logistic\",\n",
    "\t\tlearning_rate_init=0.01,\n",
    "\t\tlearning_rate=\"constant\",\n",
    "\t\tmax_iter=2000000,\n",
    "\t)\n",
    "\ttrain_x = train_x_y[0]\n",
    "\ttrain_y = classes_to_repr(train_x_y[1], run_params.type)\n",
    "\tmlp.fit(train_x, train_y)\n",
    "\ttest_x = test_x_y[0]\n",
    "\ttest_y = classes_to_repr(test_x_y[1], run_params.type)\n",
    "\n",
    "\tprint(run_params.type)\n",
    "\tprint(test_y)\n",
    "\n",
    "\t#print(f\"{run_params.hidden_layer_sizes}, {run_params.type} -> {mlp.score(test_x, test_y)}\")\n"
   ]
  }
 ],
 "metadata": {
  "interpreter": {
   "hash": "e7370f93d1d0cde622a1f8e1c04877d8463912d04d973331ad4851f04de6915a"
  },
  "kernelspec": {
   "display_name": "Python 3.10.4 64-bit",
   "language": "python",
   "name": "python3"
  },
  "language_info": {
   "codemirror_mode": {
    "name": "ipython",
    "version": 3
   },
   "file_extension": ".py",
   "mimetype": "text/x-python",
   "name": "python",
   "nbconvert_exporter": "python",
   "pygments_lexer": "ipython3",
   "version": "3.10.4"
  },
  "orig_nbformat": 4
 },
 "nbformat": 4,
 "nbformat_minor": 2
}