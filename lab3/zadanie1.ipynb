{
 "cells": [
  {
   "cell_type": "markdown",
   "source": [],
   "metadata": {
    "collapsed": false,
    "pycharm": {
     "name": "#%% md\n"
    }
   }
  },
  {
   "cell_type": "markdown",
   "source": [
    "import"
   ],
   "metadata": {
    "collapsed": false
   }
  },
  {
   "cell_type": "code",
   "execution_count": 2,
   "outputs": [],
   "source": [
    "import pygad\n",
    "import numpy\n",
    "import time"
   ],
   "metadata": {
    "collapsed": false,
    "pycharm": {
     "name": "#%%\n"
    }
   }
  },
  {
   "cell_type": "markdown",
   "source": [
    "ustawienia do algorytmu"
   ],
   "metadata": {
    "collapsed": false
   }
  },
  {
   "cell_type": "markdown",
   "source": [],
   "metadata": {
    "collapsed": false
   }
  },
  {
   "cell_type": "code",
   "execution_count": 3,
   "metadata": {
    "collapsed": true
   },
   "outputs": [],
   "source": [
    "S = [1, 2, 3, 6, 10, 17, 25, 29, 30, 41, 51, 60, 70, 79, 80]\n",
    "#definiujemy parametry chromosomu\n",
    "#geny to liczby: 0 lub 1\n",
    "gene_space = [0, 1]\n",
    "\n",
    "#definiujemy funkcję fitness\n",
    "def fitness_func(solution, solution_idx):\n",
    "    sum1 = numpy.sum(solution * S)\n",
    "    solution_invert = 1 - solution\n",
    "    sum2 = numpy.sum(solution_invert * S)\n",
    "    fitness = -numpy.abs(sum1-sum2)\n",
    "\n",
    "    return fitness\n",
    "# # gdy wynik jest wiekszy rowny zero konczymy\n",
    "stop_crit = [\"reach_0\"]\n",
    "# fitness function\n",
    "fitness_function = fitness_func\n",
    "#ile chromsomów w populacji\n",
    "sol_per_pop = 10\n",
    "#ile genow ma chromosom\n",
    "num_genes = len(S)\n",
    "#ile wylaniamy rodzicow do \"rozmanazania\" (okolo 50% populacji)\n",
    "num_parents_mating = 5\n",
    "#ile pokolen\n",
    "num_generations = 30\n",
    "#ilu rodzicow zachowac (kilka procent)\n",
    "keep_parents = 2\n",
    "#jaki typ selekcji rodzicow?\n",
    "#sss = steady, rws=roulette, rank = rankingowa, tournament = turniejowa\n",
    "parent_selection_type = \"sss\"\n",
    "#w il =u punktach robic krzyzowanie?\n",
    "crossover_type = \"single_point\"\n",
    "#mutacja ma dzialac na ilu procent genow?\n",
    "#trzeba pamietac ile genow ma chromosom\n",
    "mutation_type = \"random\"\n",
    "mutation_percent_genes = 8\n",
    "#inicjacja algorytmu z powyzszymi parametrami wpisanymi w atrybuty\n",
    "ga_instance = pygad.GA(gene_space=gene_space,\n",
    "                       num_generations=num_generations,\n",
    "                       num_parents_mating=num_parents_mating,\n",
    "                       fitness_func=fitness_function,\n",
    "                       sol_per_pop=sol_per_pop,\n",
    "                       num_genes=num_genes,\n",
    "                       parent_selection_type=parent_selection_type,\n",
    "                       keep_parents=keep_parents,\n",
    "                       crossover_type=crossover_type,\n",
    "                       mutation_type=mutation_type,\n",
    "                       mutation_percent_genes=mutation_percent_genes,\n",
    "                       stop_criteria=stop_crit)"
   ]
  },
  {
   "cell_type": "markdown",
   "source": [
    "uruchamianie algorytmu"
   ],
   "metadata": {
    "collapsed": false
   }
  },
  {
   "cell_type": "code",
   "execution_count": 5,
   "outputs": [
    {
     "name": "stdout",
     "output_type": "stream",
     "text": [
      "Parameters of the best solution : [0. 1. 0. 0. 1. 0. 0. 0. 1. 0. 1. 0. 0. 1. 1.]\n",
      "Fitness value of the best solution = -0.0\n",
      "Predicted output based on the best solution : 252.0\n",
      "time :  0.010343551635742188\n",
      "------------------------------------------------------------------------\n",
      "Parameters of the best solution : [0. 1. 0. 0. 1. 0. 0. 0. 1. 0. 1. 0. 0. 1. 1.]\n",
      "Fitness value of the best solution = -0.0\n",
      "Predicted output based on the best solution : 252.0\n",
      "time :  0.0\n",
      "------------------------------------------------------------------------\n",
      "Parameters of the best solution : [0. 1. 0. 0. 1. 0. 0. 0. 1. 0. 1. 0. 0. 1. 1.]\n",
      "Fitness value of the best solution = -0.0\n",
      "Predicted output based on the best solution : 252.0\n",
      "time :  0.008018255233764648\n",
      "------------------------------------------------------------------------\n",
      "Parameters of the best solution : [0. 1. 0. 0. 1. 0. 0. 0. 1. 0. 1. 0. 0. 1. 1.]\n",
      "Fitness value of the best solution = -0.0\n",
      "Predicted output based on the best solution : 252.0\n",
      "time :  0.0\n",
      "------------------------------------------------------------------------\n",
      "Parameters of the best solution : [0. 1. 0. 0. 1. 0. 0. 0. 1. 0. 1. 0. 0. 1. 1.]\n",
      "Fitness value of the best solution = -0.0\n",
      "Predicted output based on the best solution : 252.0\n",
      "time :  0.0\n",
      "------------------------------------------------------------------------\n",
      "Parameters of the best solution : [0. 1. 0. 0. 1. 0. 0. 0. 1. 0. 1. 0. 0. 1. 1.]\n",
      "Fitness value of the best solution = -0.0\n",
      "Predicted output based on the best solution : 252.0\n",
      "time :  0.007999658584594727\n",
      "------------------------------------------------------------------------\n",
      "Parameters of the best solution : [0. 1. 0. 0. 1. 0. 0. 0. 1. 0. 1. 0. 0. 1. 1.]\n",
      "Fitness value of the best solution = -0.0\n",
      "Predicted output based on the best solution : 252.0\n",
      "time :  0.008000373840332031\n",
      "------------------------------------------------------------------------\n",
      "Parameters of the best solution : [0. 1. 0. 0. 1. 0. 0. 0. 1. 0. 1. 0. 0. 1. 1.]\n",
      "Fitness value of the best solution = -0.0\n",
      "Predicted output based on the best solution : 252.0\n",
      "time :  0.0041065216064453125\n",
      "------------------------------------------------------------------------\n",
      "Parameters of the best solution : [0. 1. 0. 0. 1. 0. 0. 0. 1. 0. 1. 0. 0. 1. 1.]\n",
      "Fitness value of the best solution = -0.0\n",
      "Predicted output based on the best solution : 252.0\n",
      "time :  0.0065479278564453125\n",
      "------------------------------------------------------------------------\n",
      "Parameters of the best solution : [0. 1. 0. 0. 1. 0. 0. 0. 1. 0. 1. 0. 0. 1. 1.]\n",
      "Fitness value of the best solution = -0.0\n",
      "Predicted output based on the best solution : 252.0\n",
      "time :  0.0068242549896240234\n",
      "------------------------------------------------------------------------\n",
      "0.005184054374694824\n"
     ]
    }
   ],
   "source": [
    "# liczenie sredniej czasow\n",
    "average_time = 0\n",
    "# uruchomienie algorytmu\n",
    "for i in range(10):\n",
    "    start = time.time()\n",
    "\n",
    "    ga_instance.run()\n",
    "    #podsumowanie: najlepsze znalezione rozwiazanie (chromosom+ocena)\n",
    "    solution, solution_fitness, solution_idx = ga_instance.best_solution()\n",
    "    print(\"Parameters of the best solution : {solution}\".format(solution=solution))\n",
    "    print(\"Fitness value of the best solution = {solution_fitness}\".format(solution_fitness=solution_fitness))\n",
    "    prediction = numpy.sum(S*solution)\n",
    "    print(\"Predicted output based on the best solution : {prediction}\".format(prediction=prediction))\n",
    "    #print(\"Number of generetions : {num_generations}\".format(num_generations=num_generations))\n",
    "\n",
    "    end = time.time()\n",
    "    average_time += (end - start)\n",
    "    print(\"time : \", end - start)\n",
    "    print(\"------------------------------------------------------------------------\")\n",
    "# sredni czas\n",
    "print(average_time/10)"
   ],
   "metadata": {
    "collapsed": false,
    "pycharm": {
     "name": "#%%\n"
    }
   }
  },
  {
   "cell_type": "markdown",
   "source": [
    "sredni czas na moim komputerze: 0.005184054374694824"
   ],
   "metadata": {
    "collapsed": false
   }
  }
 ],
 "metadata": {
  "kernelspec": {
   "display_name": "Python 3",
   "language": "python",
   "name": "python3"
  },
  "language_info": {
   "codemirror_mode": {
    "name": "ipython",
    "version": 2
   },
   "file_extension": ".py",
   "mimetype": "text/x-python",
   "name": "python",
   "nbconvert_exporter": "python",
   "pygments_lexer": "ipython2",
   "version": "2.7.6"
  }
 },
 "nbformat": 4,
 "nbformat_minor": 0
}