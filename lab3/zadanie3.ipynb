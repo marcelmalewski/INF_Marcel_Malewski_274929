{
 "cells": [
  {
   "cell_type": "markdown",
   "source": [
    "import"
   ],
   "metadata": {
    "collapsed": false
   }
  },
  {
   "cell_type": "code",
   "execution_count": 14,
   "metadata": {
    "collapsed": true
   },
   "outputs": [],
   "source": [
    "import pygad\n",
    "import time"
   ]
  },
  {
   "cell_type": "markdown",
   "source": [
    "a) labirynt"
   ],
   "metadata": {
    "collapsed": false
   }
  },
  {
   "cell_type": "code",
   "execution_count": 15,
   "outputs": [],
   "source": [
    "labirynt = [[1, 1, 1, 1, 1, 1, 1, 1, 1, 1, 1, 1],\n",
    "            [1, 2, 0, 0, 1, 0, 0, 0, 1, 0, 0, 1],\n",
    "            [1, 1, 1, 0, 0, 0, 1, 0, 1, 1, 0, 1],\n",
    "            [1, 0, 0, 0, 1, 0, 1, 0, 0, 0, 0, 1],\n",
    "            [1, 0, 1, 0, 1, 1, 0, 0, 1, 1, 0, 1],\n",
    "            [1, 0, 0, 1, 1, 0, 0, 0, 1, 0, 0, 1],\n",
    "            [1, 0, 0, 0, 0, 0, 1, 0, 0, 0, 1, 1],\n",
    "            [1, 0, 1, 0, 0, 1, 1, 0, 1, 0, 0, 1],\n",
    "            [1, 0, 1, 1, 1, 0, 0, 0, 1, 1, 0, 1],\n",
    "            [1, 0, 1, 0, 1, 1, 0, 1, 0, 1, 0, 1],\n",
    "            [1, 0, 1, 0, 0, 0, 0, 0, 0, 0, 3, 1],\n",
    "            [1, 1, 1, 1, 1, 1, 1, 1, 1, 1, 1, 1]]\n",
    "entry = [1, 1]\n",
    "exit = [10, 10]"
   ],
   "metadata": {
    "collapsed": false,
    "pycharm": {
     "name": "#%%\n"
    }
   }
  },
  {
   "cell_type": "markdown",
   "source": [
    "ustawianie algorytmu"
   ],
   "metadata": {
    "collapsed": false
   }
  },
  {
   "cell_type": "code",
   "execution_count": 29,
   "outputs": [],
   "source": [
    "#   0\n",
    "#3     1\n",
    "#   2\n",
    "# 0 = gora\n",
    "# 1 = prawo\n",
    "# 2 = dol\n",
    "# 3 = lewo\n",
    "gene_space = [0, 1, 2, 3]\n",
    "#definiujemy funkcję fitness\n",
    "def fitness_func(solution, solution_idx):\n",
    "    y = 1\n",
    "    x = 1\n",
    "    for moveOption in solution:\n",
    "        # ruch gora\n",
    "        if moveOption == 0:\n",
    "            y = y - 1 if labirynt[y-1][x] == 0 else y\n",
    "        # ruch prawo\n",
    "        elif moveOption == 1:\n",
    "            x = x + 1 if labirynt[y-1][x] == 0 else x\n",
    "        # ruch dol\n",
    "        elif moveOption == 2:\n",
    "            y = y + 1 if labirynt[y-1][x] == 0 else y\n",
    "        # ruch lewo\n",
    "        elif moveOption == 3:\n",
    "            x = x - 1 if labirynt[y-1][x] == 0 else x\n",
    "\n",
    "    # odlegosc do wyjscia\n",
    "    distance_from_the_exit = -(abs(x - exit[1] + abs(y - exit[0])))\n",
    "    return distance_from_the_exit\n",
    "# gdy wynik jest wiekszy rowny zero konczymy\n",
    "stop_crit = [\"reach_0\"]\n",
    "# funkcja fitnes\n",
    "fitness_function = fitness_func\n",
    "#ile chromsomów w populacji\n",
    "sol_per_pop = 15\n",
    "#ile genow ma chromosom\n",
    "num_genes = 30\n",
    "#ile wylaniamy rodzicow do \"rozmanazania\" (okolo 50% populacji)\n",
    "num_parents_mating = 5\n",
    "#ile pokolen\n",
    "num_generations = 35\n",
    "#ilu rodzicow zachowac (kilka procent)\n",
    "keep_parents = 2\n",
    "#jaki typ selekcji rodzicow?\n",
    "#sss = steady, rws=roulette, rank = rankingowa, tournament = turniejowa\n",
    "parent_selection_type = \"sss\"\n",
    "#w il =u punktach robic krzyzowanie?\n",
    "crossover_type = \"single_point\"\n",
    "#mutacja ma dzialac na ilu procent genow?\n",
    "#trzeba pamietac ile genow ma chromosom\n",
    "mutation_type = \"random\"\n",
    "mutation_percent_genes = 4\n",
    "\n",
    "ga_instance = pygad.GA(gene_space=gene_space,\n",
    "                       num_generations=num_generations,\n",
    "                       num_parents_mating=num_parents_mating,\n",
    "                       fitness_func=fitness_function,\n",
    "                       sol_per_pop=sol_per_pop,\n",
    "                       num_genes=num_genes,\n",
    "                       parent_selection_type=parent_selection_type,\n",
    "                       keep_parents=keep_parents,\n",
    "                       crossover_type=crossover_type,\n",
    "                       mutation_type=mutation_type,\n",
    "                       mutation_percent_genes=mutation_percent_genes,\n",
    "                        stop_criteria=stop_crit)"
   ],
   "metadata": {
    "collapsed": false,
    "pycharm": {
     "name": "#%%\n"
    }
   }
  },
  {
   "cell_type": "markdown",
   "source": [
    "mierzenie czasu"
   ],
   "metadata": {
    "collapsed": false
   }
  },
  {
   "cell_type": "code",
   "execution_count": 31,
   "outputs": [
    {
     "name": "stdout",
     "output_type": "stream",
     "text": [
      "Parameters of the best solution : [1. 0. 3. 1. 3. 1. 3. 1. 3. 0. 1. 3. 1. 2. 2. 3. 3. 1. 3. 1. 1. 1. 1. 2.\n",
      " 0. 2. 3. 0. 1. 0.]\n",
      "Fitness value of the best solution = 0\n",
      "time :  0.0\n",
      "------------------------------------------------------------------------\n",
      "Parameters of the best solution : [3. 1. 1. 0. 1. 1. 1. 1. 2. 0. 1. 3. 1. 3. 2. 3. 2. 3. 3. 0. 1. 3. 3. 2.\n",
      " 3. 0. 0. 0. 3. 3.]\n",
      "Fitness value of the best solution = 0\n",
      "time :  0.008010149002075195\n",
      "------------------------------------------------------------------------\n",
      "Parameters of the best solution : [1. 0. 3. 1. 3. 1. 1. 1. 2. 0. 1. 3. 1. 2. 2. 3. 3. 1. 3. 1. 3. 1. 1. 2.\n",
      " 0. 2. 3. 0. 1. 0.]\n",
      "Fitness value of the best solution = 0\n",
      "time :  0.0\n",
      "------------------------------------------------------------------------\n",
      "Parameters of the best solution : [3. 1. 1. 0. 1. 0. 1. 0. 0. 2. 3. 2. 3. 0. 1. 3. 0. 3. 3. 2. 1. 3. 1. 3.\n",
      " 0. 2. 3. 0. 3. 3.]\n",
      "Fitness value of the best solution = 0\n",
      "time :  0.007990598678588867\n",
      "------------------------------------------------------------------------\n",
      "Parameters of the best solution : [1. 0. 3. 1. 3. 1. 1. 1. 2. 0. 1. 3. 1. 2. 2. 0. 3. 1. 3. 1. 3. 1. 1. 2.\n",
      " 0. 2. 3. 0. 1. 0.]\n",
      "Fitness value of the best solution = 0\n",
      "time :  0.009333610534667969\n",
      "------------------------------------------------------------------------\n",
      "Parameters of the best solution : [3. 1. 1. 0. 1. 1. 1. 0. 0. 2. 3. 2. 3. 0. 2. 3. 3. 1. 3. 2. 1. 3. 1. 3.\n",
      " 0. 2. 3. 0. 3. 3.]\n",
      "Fitness value of the best solution = 0\n",
      "time :  0.0016355514526367188\n",
      "------------------------------------------------------------------------\n",
      "Parameters of the best solution : [1. 0. 3. 1. 3. 1. 1. 1. 2. 0. 1. 3. 1. 2. 2. 0. 3. 1. 3. 2. 3. 1. 1. 2.\n",
      " 0. 2. 3. 0. 1. 0.]\n",
      "Fitness value of the best solution = 0\n",
      "time :  0.0\n",
      "------------------------------------------------------------------------\n",
      "Parameters of the best solution : [3. 1. 1. 0. 1. 1. 1. 0. 0. 2. 3. 2. 2. 0. 2. 3. 3. 3. 3. 2. 1. 3. 1. 3.\n",
      " 0. 2. 3. 0. 3. 3.]\n",
      "Fitness value of the best solution = 0\n",
      "time :  0.0\n",
      "------------------------------------------------------------------------\n",
      "Parameters of the best solution : [1. 3. 0. 1. 3. 1. 2. 1. 2. 0. 1. 3. 1. 2. 2. 0. 3. 1. 3. 2. 3. 1. 1. 2.\n",
      " 0. 2. 3. 0. 1. 0.]\n",
      "Fitness value of the best solution = 0\n",
      "time :  0.008035898208618164\n",
      "------------------------------------------------------------------------\n",
      "Parameters of the best solution : [3. 1. 1. 0. 1. 1. 1. 0. 0. 2. 3. 2. 2. 0. 2. 3. 3. 3. 3. 2. 1. 3. 1. 3.\n",
      " 3. 2. 3. 0. 3. 3.]\n",
      "Fitness value of the best solution = 0\n",
      "time :  0.0\n",
      "------------------------------------------------------------------------\n",
      "0.0035005807876586914\n"
     ]
    }
   ],
   "source": [
    "average_time = 0\n",
    "\n",
    "for number in range(10):\n",
    "    #start mierzenia czasu\n",
    "    start = time.time()\n",
    "\n",
    "    ga_instance.run()\n",
    "    #podsumowanie: najlepsze znalezione rozwiazanie (chromosom+ocena)\n",
    "    solution, solution_fitness, solution_idx = ga_instance.best_solution()\n",
    "    print(\"Parameters of the best solution : {solution}\".format(solution=solution))\n",
    "    print(\"Fitness value of the best solution = {solution_fitness}\".format(solution_fitness=solution_fitness))\n",
    "    #wyswietlenie wykresu:z\n",
    "    #ga_instance.plot_fitness()\n",
    "\n",
    "    #stop mierzenia czasu i wyswietlanie czasu\n",
    "    end = time.time()\n",
    "    average_time += (end - start)\n",
    "    print(\"time : \", end - start)\n",
    "    print(\"------------------------------------------------------------------------\")\n",
    "# sredni czas\n",
    "print(average_time/10)"
   ],
   "metadata": {
    "collapsed": false,
    "pycharm": {
     "name": "#%%\n"
    }
   }
  },
  {
   "cell_type": "markdown",
   "source": [
    "sredni czas na moim komputerze: 0.0035005807876586914"
   ],
   "metadata": {
    "collapsed": false
   }
  }
 ],
 "metadata": {
  "kernelspec": {
   "display_name": "Python 3",
   "language": "python",
   "name": "python3"
  },
  "language_info": {
   "codemirror_mode": {
    "name": "ipython",
    "version": 2
   },
   "file_extension": ".py",
   "mimetype": "text/x-python",
   "name": "python",
   "nbconvert_exporter": "python",
   "pygments_lexer": "ipython2",
   "version": "2.7.6"
  }
 },
 "nbformat": 4,
 "nbformat_minor": 0
}