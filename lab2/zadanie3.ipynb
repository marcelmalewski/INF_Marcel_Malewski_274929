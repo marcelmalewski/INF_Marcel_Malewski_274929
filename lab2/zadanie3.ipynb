{
 "cells": [
  {
   "cell_type": "markdown",
   "source": [
    "importy"
   ],
   "metadata": {
    "collapsed": false
   }
  },
  {
   "cell_type": "code",
   "execution_count": 34,
   "outputs": [],
   "source": [
    "import pygad\n",
    "import numpy"
   ],
   "metadata": {
    "collapsed": false,
    "pycharm": {
     "name": "#%%\n"
    }
   }
  },
  {
   "cell_type": "markdown",
   "source": [
    "plecak"
   ],
   "metadata": {
    "collapsed": false
   }
  },
  {
   "cell_type": "code",
   "execution_count": 35,
   "outputs": [],
   "source": [
    "S = [[\"zegar\", 100, 7], [\"obraz-pejzaz\", 300, 7], [\"obraz-portet\", 200, 6], [\"radio\", 40, 2], [\"laptop\", 500, 5], [\"lampka nocna\", 70, 6], [\"srebrne sztucce\", 100, 1], [\"porcelana\", 250, 3], [\"figura z brazu\", 300, 10], [\"skorzana toreba\", 280, 3], [\"odkurzacz\", 300, 15]]"
   ],
   "metadata": {
    "collapsed": false,
    "pycharm": {
     "name": "#%%\n"
    }
   }
  },
  {
   "cell_type": "markdown",
   "source": [
    "funkcja fitness"
   ],
   "metadata": {
    "collapsed": false
   }
  },
  {
   "cell_type": "code",
   "execution_count": 36,
   "outputs": [],
   "source": [
    "def fitness_func(solution, solution_idx):\n",
    "    sWag = numpy.sum(solution * list(map(lambda el : el[2], S)))\n",
    "    sWart = numpy.sum(solution * list(map(lambda el : el[1], S)))\n",
    "\n",
    "    if sWag > 25:\n",
    "        return 0\n",
    "    else :\n",
    "        return sWart"
   ],
   "metadata": {
    "collapsed": false,
    "pycharm": {
     "name": "#%%\n"
    }
   }
  },
  {
   "cell_type": "markdown",
   "source": [
    "algorytm genetyczny"
   ],
   "metadata": {
    "collapsed": false
   }
  },
  {
   "cell_type": "code",
   "execution_count": 86,
   "outputs": [
    {
     "name": "stdout",
     "output_type": "stream",
     "text": [
      "Parameters of the best solution : [0. 1. 1. 0. 1. 0. 1. 1. 0. 1. 0.]\n",
      "Fitness value of the best solution = 1630.0\n",
      "Predicted output based on the best solution : ['zegar', 'obraz-pejzaz', 'obraz-portet', 'zegar', 'laptop', 'zegar', 'srebrne sztucce', 'porcelana', 'zegar', 'skorzana toreba', 'zegar']\n"
     ]
    },
    {
     "data": {
      "text/plain": "<Figure size 432x288 with 1 Axes>",
      "image/png": "[encoded data removed]"
     },
     "metadata": {
      "needs_background": "light"
     },
     "output_type": "display_data"
    },
    {
     "data": {
      "text/plain": "<Figure size 432x288 with 1 Axes>",
      "image/png": "[encoded data removed]"
     },
     "execution_count": 86,
     "metadata": {},
     "output_type": "execute_result"
    }
   ],
   "source": [
    "#definiujemy parametry chromosomu\n",
    "#geny to liczby: 0 lub 1\n",
    "gene_space = [0, 1]\n",
    "#definiujemy funkcję fitness\n",
    "fitness_function = fitness_func\n",
    "#ile chromsomów w populacji\n",
    "#ile genow ma chromosom\n",
    "sol_per_pop = 11\n",
    "num_genes = len(S)\n",
    "#ile wylaniamy rodzicow do \"rozmanazania\" (okolo 50% populacji)\n",
    "#ile pokolen\n",
    "#ilu rodzicow zachowac (kilka procent)\n",
    "num_parents_mating = 5\n",
    "num_generations = 25\n",
    "keep_parents = 2\n",
    "#jaki typ selekcji rodzicow?\n",
    "#sss = steady, rws=roulette, rank = rankingowa, tournament = turniejowa\n",
    "parent_selection_type = \"sss\"\n",
    "#w il =u punktach robic krzyzowanie?\n",
    "crossover_type = \"single_point\"\n",
    "#mutacja ma dzialac na ilu procent genow?\n",
    "#trzeba pamietac ile genow ma chromosom\n",
    "mutation_type = \"random\"\n",
    "mutation_percent_genes = 9\n",
    "#inicjacja algorytmu z powyzszymi parametrami wpisanymi w atrybuty\n",
    "ga_instance = pygad.GA(gene_space=gene_space,\n",
    "                       num_generations=num_generations,\n",
    "                       num_parents_mating=num_parents_mating,\n",
    "                       fitness_func=fitness_function,\n",
    "                       sol_per_pop=sol_per_pop,\n",
    "                       num_genes=num_genes,\n",
    "                       parent_selection_type=parent_selection_type,\n",
    "                       keep_parents=keep_parents,\n",
    "                       crossover_type=crossover_type,\n",
    "                       mutation_type=mutation_type,\n",
    "                       mutation_percent_genes=mutation_percent_genes)\n",
    "\n",
    "#uruchomienie algorytmu\n",
    "ga_instance.run()\n",
    "#podsumowanie: najlepsze znalezione rozwiazanie (chromosom+ocena)\n",
    "solution, solution_fitness, solution_idx = ga_instance.best_solution()\n",
    "print(\"Parameters of the best solution : {solution}\".format(solution=solution))\n",
    "print(\"Fitness value of the best solution = {solution_fitness}\".format(solution_fitness=solution_fitness))\n",
    "#tutaj dodatkowo wyswietlamy przedmioty\n",
    "predictionHelper = [int(i) for i in list(list(range(11)) * solution)]\n",
    "prediction = list([S[el][0] for el in predictionHelper])\n",
    "print(\"Predicted output based on the best solution : {prediction}\".format(prediction=prediction))\n",
    "#wyswietlenie wykresu:z\n",
    "ga_instance.plot_fitness()"
   ],
   "metadata": {
    "collapsed": false,
    "pycharm": {
     "name": "#%%\n"
    }
   }
  },
  {
   "cell_type": "markdown",
   "source": [
    "najlepsze rozwiązanie?\n",
    "wartosc plecaka - 1650\n",
    "zawartosc plecaka -\n",
    "['zegar', 'obraz-pejzaz', 'obraz-portet', 'zegar', 'laptop', 'zegar', 'srebrne sztucce', 'porcelana', 'zegar', 'skorzana toreba', 'zegar']"
   ],
   "metadata": {
    "collapsed": false
   }
  }
 ],
 "metadata": {
  "kernelspec": {
   "display_name": "Python 3",
   "language": "python",
   "name": "python3"
  },
  "language_info": {
   "codemirror_mode": {
    "name": "ipython",
    "version": 2
   },
   "file_extension": ".py",
   "mimetype": "text/x-python",
   "name": "python",
   "nbconvert_exporter": "python",
   "pygments_lexer": "ipython2",
   "version": "2.7.6"
  }
 },
 "nbformat": 4,
 "nbformat_minor": 0
}