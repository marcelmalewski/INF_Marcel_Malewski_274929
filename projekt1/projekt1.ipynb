{
 "cells": [
  {
   "cell_type": "markdown",
   "source": [
    "notatki\n",
    "probujemy na wiekszych zagadkach\n",
    "wymyslic inne fitnesy\n",
    "po probowac rozne parametry i to udokumentowac\n",
    "punkty poprowac rozne dawanie\n",
    "i nakoncu sprawdzac wyniki funbkcją podstawawą ile pol sie nie zgadza\n"
   ],
   "metadata": {
    "collapsed": false
   }
  },
  {
   "cell_type": "markdown",
   "source": [
    "links\n",
    "https://matplotlib.org/3.5.0/gallery/animation/dynamic_image.html"
   ],
   "metadata": {
    "collapsed": false
   }
  },
  {
   "cell_type": "markdown",
   "source": [
    "Rzeczy które musimy zaimportować"
   ],
   "metadata": {
    "collapsed": false
   }
  },
  {
   "cell_type": "code",
   "execution_count": 1,
   "outputs": [],
   "source": [
    "import pygad\n",
    "import time\n",
    "import numpy as np\n",
    "import matplotlib.pylab as plt\n",
    "import matplotlib.animation as animation\n",
    "import matplotlib.image as mpimg"
   ],
   "metadata": {
    "collapsed": false,
    "pycharm": {
     "name": "#%%\n"
    }
   }
  },
  {
   "cell_type": "markdown",
   "source": [
    "Bierzemy wybrany fill-a-pix na początku wezmę 10x10 i robimy z niego tablice tablic, każda kolumna to jedna tablica.\n",
    "\"-1\" - to puste pole."
   ],
   "metadata": {
    "collapsed": false
   }
  },
  {
   "cell_type": "markdown",
   "source": [
    "Wyświetlam finalny uzupełniony fill-a-pix 10x10."
   ],
   "metadata": {
    "collapsed": false
   }
  },
  {
   "cell_type": "code",
   "execution_count": 2,
   "outputs": [
    {
     "data": {
      "text/plain": "<matplotlib.image.AxesImage at 0x1d00839e8e0>"
     },
     "execution_count": 2,
     "metadata": {},
     "output_type": "execute_result"
    },
    {
     "data": {
      "text/plain": "<Figure size 432x288 with 1 Axes>",
      "image/png": "[encoded data removed]"
     },
     "metadata": {
      "needs_background": "light"
     },
     "output_type": "display_data"
    }
   ],
   "source": [
    "img = mpimg.imread('./fillAPix10x10.PNG')\n",
    "plt.imshow(img)"
   ],
   "metadata": {
    "collapsed": false,
    "pycharm": {
     "name": "#%%\n"
    }
   }
  },
  {
   "cell_type": "markdown",
   "source": [
    "Obrazej wyżej przedstawiony w formi tablicy tablic 10x10 i zmienna \"fill_a_pix_10_x_10_images\" w ktorej zbieramy wszystkie etapy szukania ,żeby zrobić z tego animacje."
   ],
   "metadata": {
    "collapsed": false
   }
  },
  {
   "cell_type": "code",
   "execution_count": 134,
   "outputs": [
    {
     "data": {
      "text/plain": "<Figure size 432x288 with 1 Axes>",
      "image/png": "[encoded data removed]"
     },
     "metadata": {
      "needs_background": "light"
     },
     "output_type": "display_data"
    }
   ],
   "source": [
    "fill_a_pix_10_x_10 =    [[-1, 2, 3, -1, -1, 0, -1, -1, -1, -1],\n",
    "                        [-1, 2, -1, -1, 3, -1, 2, -1, -1, 6],\n",
    "                        [-1, -1, 5, -1, 5, 3, -1, 5, 7, 4],\n",
    "                        [-1, 4, -1, 5, -1, 5, -1, 6, -1, 3],\n",
    "                        [-1, -1, 4, -1, 5, -1, 6, -1, -1, 3],\n",
    "                        [-1, -1, -1, 2, -1, 5, -1, -1, -1, -1],\n",
    "                        [4, -1, 1, -1, -1, -1, 1, 1, -1, -1],\n",
    "                        [4, -1, 1, -1, -1, -1, 1, -1, 4, -1],\n",
    "                        [-1, -1, -1, -1, 6, -1, -1, -1, -1, 4],\n",
    "                        [-1, 4, 4, -1, -1, -1, -1, 4, -1, -1]]\n",
    "\n",
    "fill_a_pix_20_x_20 = [[4, -1, -1, 6, -1, -1, -1, 6, -1, -1, 4, -1, 4, -1, -1, 1, -1, -1, 3, -1],\n",
    "                    [-1, -1, 9, -1, 8, -1, 9, 8, -1, -1, -1, -1, -1, 2, 2, -1, 6, -1, -1, 3],\n",
    "                    [6, -1, -1, -1, -1, 7, 7, -1, -1, 2, -1, 1, 2, -1, 2, 4, 6, 8, -1, 4],\n",
    "                    [5, -1, -1, -1, 3, -1, -1, -1, 3, -1, -1, -1, 0, -1, -1, -1, -1, -1, 7, -1],\n",
    "                    [-1, -1, 1, -1, -1, -1, -1, -1, -1, 0, -1, -1, -1, -1, -1, -1, 5, 5, -1, 4],\n",
    "                    [-1, -1, -1, -1, -1, 0, -1, -1, 1, -1, -1, -1, -1, -1, -1, 4, -1, 6, -1, 4],\n",
    "                    [-1, 0, -1, -1, -1, 3, -1, -1, 3, -1, 2, -1, 2, -1, 1, 3, 4, -1, -1, -1],\n",
    "                    [-1, -1, -1, 6, -1, -1, -1, -1, 3, 4, -1, -1, 5, -1, -1, -1, 6, -1, -1, -1],\n",
    "                    [0, -1, -1, 8, -1, -1, 3, -1, 4, -1, 6, 8, 6, -1, -1, -1, -1, 8, -1, 3],\n",
    "                    [-1, -1, -1, -1, 6, 4, -1, 2, 3, -1, -1, -1, -1, 7, 6, -1, 7, 9, -1, -1],\n",
    "                    [-1, -1, -1, -1, -1, 5, -1, -1, -1, 5, -1, 6, 7, -1, -1, -1, 5, 7, -1, 4],\n",
    "                    [-1, 7, 8, -1, 8, -1, -1, -1, -1, -1, 4, -1, -1, 6, -1, -1, -1, 6, -1, -1],\n",
    "                    [-1, -1, -1, 7, -1, -1, 7, -1, -1, 5, -1, -1, -1, -1, -1, 1, -1, -1, 6, -1],\n",
    "                    [5, -1, -1, -1, -1, -1, -1, -1, 3, 3, -1, 6, -1, -1, 5, -1, -1, -1, -1, -1],\n",
    "                    [-1, -1, 7, -1, 7, -1, -1, -1, 5, -1, -1, -1, 7, -1, 3, -1, 3, -1, -1, 5],\n",
    "                    [-1, 5, -1, 7, -1, -1, -1, 1, -1, 1, -1, -1, 7, -1, -1, -1, -1, -1, -1, -1],\n",
    "                    [-1, 5, -1, -1, -1, 4, 5, -1, -1, -1, -1, -1, -1, -1, 1, -1, 2, 5, -1, 3],\n",
    "                    [-1, 7, 9, -1, 8, -1, -1, 1, -1, -1, -1, -1, 7, -1, -1, 6, -1, -1, 5, -1],\n",
    "                    [-1, 5, -1, 7, -1, -1, -1, -1, -1, 5, -1, -1, -1, -1, 3, -1, -1, -1, -1, 3],\n",
    "                    [-1, -1, -1, -1, 6, 5, -1, -1, 4, 5, 5, -1, -1, 3, -1, -1, -1, 3, -1, -1]]\n",
    "\n",
    "fill_a_pix_20_x_20_solution = [[1, 1, 1, 1, 1, 1, 1, 1, 1, 1, 1, 1, 1, 0, 0, 0, 0, 1, 0, 0],\n",
    "                            [1, 1, 1, 1, 1, 1, 1, 1, 1, 0, 0, 1, 0, 1, 0, 0, 1, 1, 1, 0],\n",
    "                            [1, 1, 1, 1, 0, 1, 1, 1, 0, 1, 0, 0, 0, 0, 0, 1, 1, 1, 1, 1],\n",
    "                            [1, 1, 0, 0, 1, 0, 1, 0, 0, 0, 0, 0, 0, 0, 0, 0, 1, 0, 1, 0],\n",
    "                            [1, 0, 0, 0, 0, 0, 0, 1, 0, 0, 0, 0, 0, 0, 0, 1, 1, 1, 1, 1],\n",
    "                            [0, 0, 0, 0, 0, 0, 0, 0, 0, 0, 0, 0, 0, 0, 0, 1, 0, 0, 0, 1],\n",
    "                            [0, 0, 0, 1, 0, 0, 0, 0, 0, 0, 0, 0, 1, 0, 0, 0, 1, 1, 1, 0],\n",
    "                            [0, 0, 0, 1, 1, 1, 1, 1, 1, 1, 1, 0, 1, 0, 0, 0, 1, 0, 1, 0],\n",
    "                            [0, 0, 1, 1, 1, 0, 0, 0, 0, 0, 1, 1, 1, 1, 1, 1, 1, 1, 1, 0],\n",
    "                            [0, 0, 1, 1, 1, 0, 0, 0, 1, 0, 1, 1, 1, 0, 1, 0, 1, 1, 1, 0],\n",
    "                            [0, 1, 1, 0, 1, 1, 0, 1, 0, 1, 0, 1, 0, 1, 1, 0, 1, 1, 1, 1],\n",
    "                            [0, 1, 1, 1, 1, 1, 0, 1, 1, 1, 0, 1, 1, 1, 0, 0, 0, 1, 0, 1],\n",
    "                            [1, 1, 1, 1, 1, 1, 1, 0, 0, 0, 0, 0, 1, 1, 0, 1, 0, 1, 1, 0],\n",
    "                            [1, 1, 0, 1, 0, 1, 1, 1, 1, 1, 1, 1, 1, 0, 0, 0, 0, 0, 1, 1],\n",
    "                            [0, 1, 1, 1, 1, 1, 0, 0, 0, 0, 0, 1, 1, 1, 1, 1, 1, 1, 1, 1],\n",
    "                            [0, 1, 0, 1, 0, 1, 0, 1, 0, 1, 0, 1, 1, 0, 0, 0, 0, 0, 1, 0],\n",
    "                            [0, 1, 1, 1, 1, 1, 0, 0, 0, 0, 0, 1, 1, 0, 1, 0, 1, 0, 1, 0],\n",
    "                            [0, 1, 1, 1, 0, 1, 0, 1, 0, 0, 0, 1, 1, 0, 0, 0, 1, 0, 1, 0],\n",
    "                            [1, 1, 1, 1, 1, 1, 0, 0, 0, 1, 1, 1, 1, 1, 1, 1, 1, 1, 1, 1],\n",
    "                            [0, 0, 0, 1, 1, 1, 1, 1, 1, 1, 1, 0, 0, 0, 0, 0, 0, 0, 0, 0]]\n",
    "\n",
    "\n",
    "# zmiennepotrzebne, do stworzenia animacji\n",
    "fill_a_pix_10_x_10_images = []\n",
    "fig, ax = plt.subplots()"
   ],
   "metadata": {
    "collapsed": false,
    "pycharm": {
     "name": "#%%\n"
    }
   }
  },
  {
   "cell_type": "markdown",
   "source": [
    "### Pierwsza funkcja fitness.\n",
    "Jeżeli znajdziemy bloczek który ma dodatnią liczbe to ta liczba reprezentuje ile ma być czarych pól do okoła wliczając też ten bloczek który analizujemy.\n",
    "Liczymy ile jest czarnych bloczków i patrzymy o ile się różni ta liczba od tego ile być powinno i ten wynik zmieniamy na ujemną licze i tą są punkty karne.\n",
    "Dążymy do tego by punktów karnych nie było czyli dążymy do zera."
   ],
   "metadata": {
    "collapsed": false
   }
  },
  {
   "cell_type": "markdown",
   "source": [
    "Funkcja fitness_func przyjmuje jako argument \"solution\", czyli liste 100 zer i jedynek.\n",
    "Trzeba ją zmienić na liste list 10x10, żeby móc ją porównać z naszym fillAPix10x10.\n",
    "Do tego wykorzystamny funckje \"change_to_array_10_x_10\""
   ],
   "metadata": {
    "collapsed": false
   }
  },
  {
   "cell_type": "code",
   "source": [
    "def change_to_array_20_x_20(array):\n",
    "    # ostateczny wynik\n",
    "    array_20_x_20 = []\n",
    "    # pojedyncza kolumna bo do ostatecznego wyniku będziemy dodawać kolumny(listy)\n",
    "    array_20_x_20_column = []\n",
    "    # na ktorem indexe jestesmy w liście którą zmieniamy\n",
    "    array_index = 0\n",
    "\n",
    "    for index1 in range(20):\n",
    "        for index2 in range(20):\n",
    "            array_20_x_20_column.append(array[array_index])\n",
    "            array_index += 1\n",
    "\n",
    "        # dodajemy kolumne i ją resetujemy\n",
    "        array_20_x_20.append(array_20_x_20_column)\n",
    "        array_20_x_20_column = []\n",
    "\n",
    "    return array_20_x_20"
   ],
   "metadata": {
    "collapsed": false,
    "pycharm": {
     "name": "#%%\n"
    }
   },
   "execution_count": 115,
   "outputs": []
  },
  {
   "cell_type": "markdown",
   "source": [
    "Teraz funkcja fitness"
   ],
   "metadata": {
    "collapsed": false
   }
  },
  {
   "cell_type": "markdown",
   "source": [],
   "metadata": {
    "collapsed": false
   }
  },
  {
   "cell_type": "code",
   "execution_count": 116,
   "outputs": [],
   "source": [
    "def fitness_func(solution, solution_idx):\n",
    "\n",
    "    # liczym punkty karne, idealnie = brak punktów karnych\n",
    "    penalty_points = 0\n",
    "\n",
    "    # solution jest wypełniony zerami i jedynmaki, zero = biale pole, jedynka = czarne pole\n",
    "    solution_20_x_20 = change_to_array_20_x_20(solution)\n",
    "\n",
    "    for index1 in range(20):\n",
    "        for index2 in range(20):\n",
    "            if fill_a_pix_20_x_20[index1][index2] != -1:\n",
    "                # sprawdz ile czarnych pol jest\n",
    "                # przy sumowanie wystrczy sumować wartości pól bo czarne pole to 1, a białe to 0\n",
    "\n",
    "                # odpowiednia liczba czarnych bloczkow to wartość pola obrazka w formie tablicy tablic\n",
    "                correct_number_of_black_blocks = fill_a_pix_20_x_20[index1][index2]\n",
    "                # na starcie do sumy dodjamy wartość pola ktore analizujemy\n",
    "                number_of_black_blocks = solution_20_x_20[index1][index2]\n",
    "\n",
    "                # zanim sprawdzimy wartość bloczka trzeba sprawdzyc czy ten bloczek nie wychodzi poza tablice\n",
    "                # jezeli wychodzi zwracamy 0 ktore w dodawaniu nic nie zmienia\n",
    "\n",
    "                # sprawdzamy bloczek po prawej stronie\n",
    "                number_of_black_blocks += solution_20_x_20[index1][index2 + 1] if (index2 + 1) < 20 else 0\n",
    "                # sprawdzamy bloczek po lewej stronie\n",
    "                number_of_black_blocks += solution_20_x_20[index1][index2 - 1] if (index2 - 1) >= 0 else 0\n",
    "\n",
    "\n",
    "\n",
    "                # sprawdzamy bloczki na górze\n",
    "                number_of_black_blocks += solution_20_x_20[index1 - 1][index2] if (index1 - 1) >= 0 else 0\n",
    "                number_of_black_blocks += solution_20_x_20[index1 - 1][index2 + 1] if (index1 - 1) >= 0 and (index2 + 1) < 20 else 0\n",
    "                number_of_black_blocks += solution_20_x_20[index1 - 1][index2 - 1] if (index1 - 1) >= 0 and (index2 - 1) >= 0 else 0\n",
    "\n",
    "                # sprawdzamy bloczki na dole\n",
    "                number_of_black_blocks += solution_20_x_20[index1 + 1][index2] if index1 + 1 < 20 else 0\n",
    "                number_of_black_blocks += solution_20_x_20[index1 + 1][index2 + 1] if (index1 + 1) < 20 and (index2 + 1) < 20 else 0\n",
    "                number_of_black_blocks += solution_20_x_20[index1 + 1][index2 - 1] if (index1 + 1) < 20 and (index2 - 1) >= 0 else 0\n",
    "\n",
    "                # o ile od prawidlowej liczby czarnych blokow roznila sie uzyskana liczba blokow razy 2\n",
    "                penalty_points -= abs(correct_number_of_black_blocks - number_of_black_blocks)\n",
    "\n",
    "\n",
    "    # zbieramy obrazki każdego etapu by zrobić z nich animacje\n",
    "    # im = ax.imshow(solution_20_x_20, animated=True)\n",
    "    # fill_a_pix_20_x_20_images.append([im])\n",
    "\n",
    "    # karne punkty są ujemne bo im zwracana liczba jest wyższa tym lepiej\n",
    "    return penalty_points"
   ],
   "metadata": {
    "collapsed": false,
    "pycharm": {
     "name": "#%%\n"
    }
   }
  },
  {
   "cell_type": "markdown",
   "source": [
    "### Konfuguracja algorytmu."
   ],
   "metadata": {
    "collapsed": false
   }
  },
  {
   "cell_type": "code",
   "execution_count": 158,
   "outputs": [],
   "source": [
    "# zakres wartość pojawiających się w solution tylko zera i jedynki\n",
    "gene_space = [0, 1]\n",
    "\n",
    "# gdy wynik jest wiekszy rowny zero konczymy\n",
    "stop_crit = [\"reach_0\"]\n",
    "# funkcja fitnes\n",
    "fitness_function = fitness_func\n",
    "#ile chromsomów w populacji\n",
    "sol_per_pop = 40 #30\n",
    "#ile genow ma chromosom\n",
    "num_genes = 400 #100\n",
    "#ile wylaniamy rodzicow do \"rozmanazania\" (okolo 50% populacji)\n",
    "num_parents_mating = 8 #15\n",
    "#ile pokolen\n",
    "num_generations = 250 # 150\n",
    "#ilu rodzicow zachowac (kilka procent)\n",
    "keep_parents = 8 # 5\n",
    "#jaki typ selekcji rodzicow?\n",
    "#sss = steady, rws=roulette, rank = rankingowa, tournament = turniejowa\n",
    "parent_selection_type = \"sss\"\n",
    "#w il =u punktach robic krzyzowanie?\n",
    "crossover_type = \"single_point\"\n",
    "#mutacja ma dzialac na ilu procent genow?\n",
    "#trzeba pamietac ile genow ma chromosom\n",
    "mutation_type = \"random\"\n",
    "mutation_percent_genes = 1 #2"
   ],
   "metadata": {
    "collapsed": false,
    "pycharm": {
     "name": "#%%\n"
    }
   }
  },
  {
   "cell_type": "markdown",
   "source": [
    "### uruchomienie algorytmu."
   ],
   "metadata": {
    "collapsed": false
   }
  },
  {
   "cell_type": "code",
   "execution_count": 159,
   "outputs": [
    {
     "name": "stdout",
     "output_type": "stream",
     "text": [
      "Fitness value of the best solution = -45.0\n",
      "Real number of wrong pixels = 88\n",
      "Fitness value of the best solution = -45.0\n",
      "Real number of wrong pixels = 92\n",
      "Fitness value of the best solution = -52.0\n",
      "Real number of wrong pixels = 107\n",
      "Fitness value of the best solution = -47.0\n",
      "Real number of wrong pixels = 114\n",
      "Fitness value of the best solution = -44.0\n",
      "Real number of wrong pixels = 99\n",
      "Fitness value of the best solution = -50.0\n",
      "Real number of wrong pixels = 99\n",
      "Fitness value of the best solution = -40.0\n",
      "Real number of wrong pixels = 95\n",
      "Fitness value of the best solution = -45.0\n",
      "Real number of wrong pixels = 97\n",
      "Fitness value of the best solution = -33.0\n",
      "Real number of wrong pixels = 77\n",
      "Fitness value of the best solution = -46.0\n",
      "Real number of wrong pixels = 100\n",
      "srednia -44.7\n"
     ]
    }
   ],
   "source": [
    "# czyścimy z poprzednich obrazkow do animacji\n",
    "fill_a_pix_20_x_20_images = []\n",
    "results = 0\n",
    "for a in range(10):\n",
    "\n",
    "    ga_instance = pygad.GA(gene_space=gene_space,\n",
    "                           num_generations=num_generations,\n",
    "                           num_parents_mating=num_parents_mating,\n",
    "                           fitness_func=fitness_function,\n",
    "                           sol_per_pop=sol_per_pop,\n",
    "                           num_genes=num_genes,\n",
    "                           parent_selection_type=parent_selection_type,\n",
    "                           keep_parents=keep_parents,\n",
    "                           crossover_type=crossover_type,\n",
    "                           mutation_type=mutation_type,\n",
    "                           mutation_percent_genes=mutation_percent_genes,\n",
    "                           stop_criteria=stop_crit,\n",
    "                           )\n",
    "\n",
    "    # uruchomienie algorytmu\n",
    "    ga_instance.run()\n",
    "\n",
    "    #podsumowanie: najlepsze znalezione rozwiazanie (chromosom+ocena)\n",
    "    solution, solution_fitness, solution_idx = ga_instance.best_solution()\n",
    "\n",
    "    print(\"Fitness value of the best solution = {solution_fitness}\".format(solution_fitness=solution_fitness))\n",
    "    # wyswietlenie wykresu: jak się zmieniała wartość karnych punktow na kolejnych etapach\n",
    "    # ga_instance.plot_fitness()\n",
    "\n",
    "    # do zrobienia obrazka potrzebujemy liste list 10x10\n",
    "    solution_20_x_20 = change_to_array_20_x_20(solution)\n",
    "    # zrobienie obrazka z finalnego rozwiazania\n",
    "    # mask = np.array(solution_20_x_20, dtype=bool)\n",
    "    # # wyświetlenie tego obrazka\n",
    "    # plt.imshow(mask, cmap='gray')\n",
    "    # plt.show()\n",
    "\n",
    "    number_of_wrong_pixels = 0\n",
    "    # policzenie realnej ilosc blednie uzupelnionych pexeli porownujac z rozwiazaniem\n",
    "    for index1 in range (20):\n",
    "        for index2 in range (20):\n",
    "            if fill_a_pix_20_x_20_solution[index1][index2] != solution_20_x_20[index1][index2]:\n",
    "                number_of_wrong_pixels += 1\n",
    "\n",
    "    results += solution_fitness\n",
    "\n",
    "    print(\"Real number of wrong pixels = {number_of_wrong_pixels}\".format(number_of_wrong_pixels=number_of_wrong_pixels))\n",
    "\n",
    "# stworzenie i zapisanie animacji\n",
    "# ani = animation.ArtistAnimation(fig, fill_a_pix_20_x_20_images, interval=50000, blit=True,\n",
    "#                                 repeat_delay=1000)\n",
    "#\n",
    "# writer = animation.FFMpegWriter(\n",
    "#     fps=15, metadata=dict(artist='Me'), bitrate=1800)\n",
    "# ani.save(\"movie2.mp4\", writer=writer)\n",
    "print(\"srednia\", results/10)"
   ],
   "metadata": {
    "collapsed": false,
    "pycharm": {
     "name": "#%%\n"
    }
   }
  },
  {
   "cell_type": "markdown",
   "source": [
    "#### Testowanie obrazka 10x10\n",
    "##### Ustawienia\n",
    "ile chromsomów w populacji: sol_per_pop = 30\n",
    "ile genow ma chromosom: num_genes = 100\n",
    "ile wylaniamy rodzicow do \"rozmanazania\": num_parents_mating = 15\n",
    "ile pokolen: num_generations = 150\n",
    "ilu rodzicow zachowac (kilka procent): keep_parents = 5\n",
    "mutacja ma dzialac na ilu procent genow?: mutation_percent_genes = 2\n",
    "\n",
    "##### testy robione na 10 próbach\n",
    "##### Obecne ustawienia:\n",
    "pozwoliły osiągnąć średni wynik -6.9\n",
    "\n",
    "##### Zmiana\n",
    "\"mutation_percent_genes\" na wyższe liczby 6, 8\n",
    "* 6 - średnia skoczyła do -15.6\n",
    "* 8 - średnia skoczyła do -19.3\n",
    "Wzrost mutacji pogarsza wyniki.\n",
    "\n",
    "##### Zmiana\n",
    "num_parents_mating = 10\n",
    "* średnia po zmianie to -5.8\n",
    "Gdy wykorzystujemy mniejszą liczbe rodziców wynik się poprawia\n",
    "\n",
    "##### Zmiana\n",
    "num_parents_mating = 10\n",
    "sol_per_pop = 25\n",
    "* średnia po zmianie to -7.1\n",
    "Gdy zmniejszamy liczby chromosow to wynik sie pogarsza\n",
    "\n",
    "##### Zmiana\n",
    "num_parents_mating = 10\n",
    "mutation_percent_genes = 1\n",
    "* średnia po zmianie to -4.4\n",
    "* najlepszy wynik to -2.0\n",
    "Zmniejszenie losowości znacznie poprawiło wyniki\n",
    "\n",
    "#### Testowanie obrazka 20x20\n",
    "##### Ustawienia\n",
    "ile chromsomów w populacji: sol_per_pop = 30\n",
    "ile genow ma chromosom: num_genes = 200\n",
    "ile wylaniamy rodzicow do \"rozmanazania\": num_parents_mating = 15\n",
    "ile pokolen: num_generations = 150\n",
    "ilu rodzicow zachowac (kilka procent): keep_parents = 5\n",
    "mutacja ma dzialac na ilu procent genow?: mutation_percent_genes = 2"
   ],
   "metadata": {
    "collapsed": false
   }
  },
  {
   "cell_type": "markdown",
   "source": [
    "Rój"
   ],
   "metadata": {
    "collapsed": false
   }
  },
  {
   "cell_type": "code",
   "execution_count": null,
   "outputs": [],
   "source": [
    "def endurance(params):\n",
    "    # liczym punkty karne, idealnie = brak punktów karnych\n",
    "    penalty_points = 0\n",
    "\n",
    "    # solution jest wypełniony zerami i jedynmaki, zero = biale pole, jedynka = czarne pole\n",
    "    solution_20_x_20 = change_to_array_20_x_20(solution)\n",
    "\n",
    "    for index1 in range(20):\n",
    "        for index2 in range(20):\n",
    "            if fill_a_pix_20_x_20[index1][index2] != -1:\n",
    "                # sprawdz ile czarnych pol jest\n",
    "                # przy sumowanie wystrczy sumować wartości pól bo czarne pole to 1, a białe to 0\n",
    "\n",
    "                # odpowiednia liczba czarnych bloczkow to wartość pola obrazka w formie tablicy tablic\n",
    "                correct_number_of_black_blocks = fill_a_pix_20_x_20[index1][index2]\n",
    "                # na starcie do sumy dodjamy wartość pola ktore analizujemy\n",
    "                number_of_black_blocks = solution_20_x_20[index1][index2]\n",
    "\n",
    "                # zanim sprawdzimy wartość bloczka trzeba sprawdzyc czy ten bloczek nie wychodzi poza tablice\n",
    "                # jezeli wychodzi zwracamy 0 ktore w dodawaniu nic nie zmienia\n",
    "\n",
    "                # sprawdzamy bloczek po prawej stronie\n",
    "                number_of_black_blocks += solution_20_x_20[index1][index2 + 1] if (index2 + 1) < 20 else 0\n",
    "                # sprawdzamy bloczek po lewej stronie\n",
    "                number_of_black_blocks += solution_20_x_20[index1][index2 - 1] if (index2 - 1) >= 0 else 0\n",
    "\n",
    "\n",
    "\n",
    "                # sprawdzamy bloczki na górze\n",
    "                number_of_black_blocks += solution_20_x_20[index1 - 1][index2] if (index1 - 1) >= 0 else 0\n",
    "                number_of_black_blocks += solution_20_x_20[index1 - 1][index2 + 1] if (index1 - 1) >= 0 and (index2 + 1) < 20 else 0\n",
    "                number_of_black_blocks += solution_20_x_20[index1 - 1][index2 - 1] if (index1 - 1) >= 0 and (index2 - 1) >= 0 else 0\n",
    "\n",
    "                # sprawdzamy bloczki na dole\n",
    "                number_of_black_blocks += solution_20_x_20[index1 + 1][index2] if index1 + 1 < 20 else 0\n",
    "                number_of_black_blocks += solution_20_x_20[index1 + 1][index2 + 1] if (index1 + 1) < 20 and (index2 + 1) < 20 else 0\n",
    "                number_of_black_blocks += solution_20_x_20[index1 + 1][index2 - 1] if (index1 + 1) < 20 and (index2 - 1) >= 0 else 0\n",
    "\n",
    "                # o ile od prawidlowej liczby czarnych blokow roznila sie uzyskana liczba blokow razy 2\n",
    "                penalty_points -= abs(correct_number_of_black_blocks - number_of_black_blocks)\n",
    "    return -1\n",
    "\n",
    "def f(x):\n",
    "    n_particles = x.shape[0]\n",
    "    j = [endurance(x[i]) for i in range(n_particles)]\n",
    "    return np.array(j)"
   ],
   "metadata": {
    "collapsed": false,
    "pycharm": {
     "name": "#%%\n"
    }
   }
  }
 ],
 "metadata": {
  "kernelspec": {
   "display_name": "Python 3",
   "language": "python",
   "name": "python3"
  },
  "language_info": {
   "codemirror_mode": {
    "name": "ipython",
    "version": 2
   },
   "file_extension": ".py",
   "mimetype": "text/x-python",
   "name": "python",
   "nbconvert_exporter": "python",
   "pygments_lexer": "ipython2",
   "version": "2.7.6"
  }
 },
 "nbformat": 4,
 "nbformat_minor": 0
}