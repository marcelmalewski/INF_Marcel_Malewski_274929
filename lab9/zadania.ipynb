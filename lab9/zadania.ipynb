{
 "cells": [
  {
   "cell_type": "markdown",
   "source": [
    "analiza tekstu\n",
    "zadanie1\n",
    "a)\n",
    "article -> \"The Kystriksveien: Earth's most beautiful road trip?\""
   ],
   "metadata": {
    "collapsed": false,
    "pycharm": {
     "name": "#%% md\n"
    }
   }
  },
  {
   "cell_type": "code",
   "execution_count": 1,
   "outputs": [
    {
     "name": "stdout",
     "output_type": "stream",
     "text": [
      "Bucking and weaving along the rugged contours of Norway's fractured coastline, the 670km road to the Artic is a triumph of human ingenuity and perseverance.\n",
      "N\n",
      "Norway's coastal road from the town of Stiklestad to the Arctic city of BodĂ¸ is a 670km journey between two very different worlds. It's also one of the most beautiful road trips on the planet.\n",
      "\n",
      "At one end is the quiet sophistication of central Norway, with its perfectly manicured meadows and oxblood-red wooden cabins. At the other is the spare, serene beauty of the north: a world of glaciers, ice-bound mountains and empty, far horizons. Connecting the two, the Kystriksveien â€“ a route also known as the Coastal Way or Fv17 â€“ charts a sinuous path along the coast, bucking and weaving along rugged contours all the way to the Arctic.\n",
      "\n",
      "The Scandinavian nation is blessed with one of the most beautiful yet difficult stretches of coast in Europe. Seeming to wrap itself around the country like a protective shield from the freezing Arctic, Norway's coastline appears to have shattered under the strain, riven as it is with islands and fjords cutting deep fissures inland. Along such a coast, it seems impossible that a road should exist here at all. In short, it seems like a miracle.\n",
      "\n",
      "It was perhaps appropriate, therefore, that my road trip began, like so many European journeys, at a place of ancient pilgrimage.\n",
      "Stiklestad is where the story of modern Norway began. It was here, in 1030, that the Christian King Olav Haraldsson was killed by a Viking army. Despite his apparent defeat, Olav and his death became the rallying cry for the spread of Christianity and a turning point in the struggle for a unified Norway, with the battle marking the beginning of the end for Viking Norway and its feuding chiefs. In 1164, Pope Alexander III confirmed Olav's sainthood, and the site of the battle â€“ along with Trondheim's cathedral, where Olav's tomb remains â€“ has been a place of pilgrimage ever since.\n",
      "\n",
      "Stiklestad was a fitting place for me to begin my journey, because the Kystriksveien that unfurls away to the north also goes to the heart of how Norwegians see themselves and their nation.\n",
      "\n",
      "Few, if any, countries in Europe overcame such formidable challenges as Norway in settling the land within their borders. Where Norway's leaders through the centuries used the story of Stiklestad to unify the country â€“ building a strong national identity around the narrative of a united, independent and Christian country that had left behind its medieval past â€“ its road builders and pioneers later stared down a forbidding Arctic and sub-Arctic climate and the challenges posed by a beautiful, but inhospitable terrain to chisel out routes like the Kystriksveien.\n",
      "\n",
      "\"We won the land\" is something of a national mantra. Museums across the country construct exhibitions around the phrase, telling how Norway was tamed and made habitable. \"If Mount Everest was in Norway,\" Stiklestad historian Mette Larsen told me, \"We would have built a road to the summit.\"\n",
      "At first, it was difficult to imagine what she meant. As I drove north from Stiklestad, the gentle, rural road hugged the water's edge to the provincial town of Steinkjer. Beyond Steinkjer, where Norway narrowed and headed for the Arctic, the Kystriksveien cut across an increasingly bare and sparsely inhabited land.\n",
      "\n",
      "However, as the country turned wilder and signs of human presence receded, it quickly became clear that to build any roads along this fractured coastline was surely a triumph of human ingenuity and perseverance.\n",
      "\n",
      "\"In Norway, if there is an obstacle, like a mountain or a body of water, we build a road over it or around it, a bridge across it or a tunnel under it,\" said Larsen. \"We have the longest road tunnels in the world. We build roads in places that others think are impossible. And where we can't build a tunnel, we send a ferry.\"\n",
      "\n",
      "Back in the mid-20th Century, Larsen told me, road-building projects were about building character as much as they were about building a nation. In 1939, unemployed youth were put to work constructing the 108km Sognefjellet road across the roof of Norway and through what is now Jotunheimen National Park. A few years later, in the 1940s, nearly 150,000 prisoners and the unemployed were given the no-less-challenging task of taming the coastline with the Kystriksveien.\n",
      "\n",
      "In Norway, if there is an obstacle, like a mountain or a body of water, we build a road over it or around it, a bridge across it or a tunnel under it\n",
      "Some of the obstacles they faced soon became apparent. Not long before the town of BrĂ¸nnĂ¸ysund, where brightly painted wooden houses watched over waters that lapped at the city centre, stark rocky outcrops blocked the road's path, forcing it to find another route. Just off the coast, one such outcrop, Torghatten, rose from an island shore. It resembled nothing more than a hunched troll, frozen in stone and watching over the town. When the clouds rolled in, it loomed in and out of view, as if playing hide and seek.\n",
      "Beyond BrĂ¸nnĂ¸ysund, I drove through an elemental landscape of rock and ice, water and hills. The road climbed higher with each passing kilometre and the land seemed increasingly beset with drama all the way into the small town of SandnessjĂ¸en. Whereas BrĂ¸nnĂ¸ysund was marked by a single, troll-like reminder of the spirit world, SandnessjĂ¸en went seven better: local legend has it that the seven summits of the Syv SĂ¸stre (Seven Sisters mountain peaks), which range from 910m to 1,072m, are female trolls suffering eternal punishment.\n",
      "\n",
      "Stories such as these are as Norwegian as their can-do passion for building impossible roads. \"We like to work hard,\" Larsen told me. \"But we also like to tell stories. Look at the landscape you're travelling through. How could you not believe in trolls and fairies and mysteries? These are the stories we tell our children, but most of us end up believing them.\"\n",
      "\n",
      "It was difficult to tell whether she was joking.\n",
      "\n",
      "The road continued north, crossing Helgelandsbrua (the Helgeland Bridge), which made possible in five minutes what would otherwise involve an hour-long detour. Mountains, snow-capped until well into summer, rose all around. Although I had not yet entered the Arctic, the road meandered across high plateaus denuded of trees, evoking the Arctic in all but geography. Then it descended to the shores of lakes and harbours and fjords. Water was everywhere.\n",
      "\n",
      "At the tiny village of LĂĄvong, the road stopped at the water's edge. There was no bridge and it was impossible to see where it continued on the far side. No tunnel smoothed the way forward. I joined the long line of cars and waited for the ferry.\n",
      "I got talking to Joost and Anneke Visser, Dutch campervanners who were driving the Kystriksveien for the fifth time. (Although you can drive the Kystriksveien year-round, it's at its best, and busiest, in summer.) \"The first time we came, we couldn't believe how beautiful it was,\" said Joost. \"Now we don't feel like it's summer unless we come and drive this road.\"\n",
      "\n",
      "It's the most spectacular coast in Europeâ€¦ Every time we drive this road, we discover something new\n",
      "\"It's the most spectacular coast in Europe,\" agreed Anneke. \"Joost didn't want to come the first time. Now he's the one who can't get enough of it. And he's right. Every time we drive this road, we discover something new.\"\n",
      "\n",
      "Like all Norwegian ferries, the boat arrived in its own time and was loaded and unloaded with characteristic Scandinavian efficiency. On the far side, at Nesna, another tiny Norwegian village, the road hugged the shoreline of fjords, never more than a few metres from the water's edge, passing stilted cabins and stone fences, as if tracing in outline the outermost perimeter of the northern European mainland.\n",
      "\n",
      "Beyond the quiet little town of StokkvĂĄgen, the Kystriksveien passed a World War Two-era fort at GrĂ¸nsvik. In places, it felt as if there were nowhere for the road to go, its onward path blocked by a sheer mountain wall or a water-filled horizon. But every time, occasionally at the last minute, I discovered that the road builders of Norway had found a solution that carried me further north into a horizon filled with mountains.\n",
      "\n",
      "At one point in the journey, on the cusp of the true Arctic, I pulled over to the side of the road. Steep mountains crowded the shore. The North Sea was a deep and perfect blue. And offshore, craggy islands rose from the ocean like the last stops on a journey out towards the very ends of the Earth.\n",
      "On the hour-long Kilboghamn-Jektvik ferry, the route crossed a fjord that felt like open ocean, the far horizon filling with jagged ridges, one after the other, as far as the eye could see. Norway's favourite literary son, Henrik Ibsen, once described Norway's high country as \"palace piled upon palace\". Here more than ever, I knew what he meant.\n",
      "\n",
      "Sometime after leaving Kilboghamn, but before the ferry arrived at Jektvik, I crossed the Arctic Circle. To the north of this line, on 21 December, the day's shortest year, the sun will not rise; on 21 June, it will not set.\n",
      "\n",
      "Each of the six ferry journeys along the route felt like a rite of passage, none more so than the crossing of the Arctic Circle. A line on the map shouldn't make a difference, but here the mountains seemed even higher, the ice a deeper shade of blue. There was a certain gravitas too, in the knowledge that the vast Svartisen icecap, one of mainland Norway's largest, lay hidden from view just beyond the wall of mountains. Glacier tongues swept steeply down from the heights to the shores of cobalt-blue fjords that were themselves carved by glaciers in aeons past; some of the fjords here are more than 1km deep.\n",
      "\n",
      "The wildly beautiful drive was nearly done. Traffic and noise and roadside buildings gathered on the final approach to BodĂ¸. But one more surprise lay in wait: Saltstraumen, the largest tidal maelstrom on the planet. Looking for all the world like a horizontal waterfall, the 3km-long, 150m-wide Saltstraumen Strait churns with 400 million cubic metres of water every six hours. At its strongest, it resembles a series of giant whirlpools that threatens to suck everything down into unseen depths below the surface of the Earth. This being Norway, there is a bridge over it, and looking down on the surging waters from above, it was hard not to feel a sense of vertigo.\n",
      "\n",
      "It was almost too much drama for one trip, too much beauty to take in, too much wonder to absorb. Not for the first time, I understood why Joost and Anneke return to drive the Kystriksveien over and over again. I already knew that once was never going to be enough.\n",
      "\n",
      "The Open Road is a celebration of the world's most remarkable highways and byways, and a reminder that some of the greatest travel adventures happen via wheels.\n",
      "\n",
      "--\n",
      "\n",
      "Join more than three million BBC Travel fans by liking us on Facebook, or follow us on Twitter and Instagram.\n",
      "\n",
      "If you liked this story, sign up for the weekly bbc.com features newsletter called \"The Essential List\". A handpicked selection of stories from BBC Future, Culture, Worklife and Travel, delivered to your inbox every Friday.\n"
     ]
    }
   ],
   "source": [
    "with open('article.txt') as f:\n",
    "    article = f.read()\n",
    "\n",
    "print(article)"
   ],
   "metadata": {
    "collapsed": false,
    "pycharm": {
     "name": "#%%\n"
    }
   }
  },
  {
   "cell_type": "markdown",
   "source": [
    "b) Dokonaj tokenizacji dokumentu. Podaj liczbę słów po tym etapie."
   ],
   "metadata": {
    "collapsed": false,
    "pycharm": {
     "name": "#%% md\n"
    }
   }
  },
  {
   "cell_type": "code",
   "execution_count": 2,
   "outputs": [
    {
     "name": "stdout",
     "output_type": "stream",
     "text": [
      "2208\n"
     ]
    }
   ],
   "source": [
    "from nltk import RegexpTokenizer\n",
    "import nltk\n",
    "# nltk.download('punkt')\n",
    "from nltk.tokenize import word_tokenize\n",
    "\n",
    "# to words\n",
    "tokenized_word = word_tokenize(article)\n",
    "#print(tokenized_word)\n",
    "print(len(tokenized_word))"
   ],
   "metadata": {
    "collapsed": false,
    "pycharm": {
     "name": "#%%\n"
    }
   }
  },
  {
   "cell_type": "markdown",
   "source": [
    "Ilość słów: 2208"
   ],
   "metadata": {
    "collapsed": false,
    "pycharm": {
     "name": "#%% md\n"
    }
   }
  },
  {
   "cell_type": "markdown",
   "source": [
    "c) Usuń stop-words z artykułu używając standardowej listy dla słów angielskich.\n",
    "Podaj liczbę słów po tym etapie."
   ],
   "metadata": {
    "collapsed": false,
    "pycharm": {
     "name": "#%% md\n"
    }
   }
  },
  {
   "cell_type": "code",
   "execution_count": 3,
   "metadata": {
    "collapsed": true,
    "pycharm": {
     "name": "#%%\n"
    }
   },
   "outputs": [
    {
     "name": "stdout",
     "output_type": "stream",
     "text": [
      "Before: 2208\n",
      "Filtered: 1425\n"
     ]
    }
   ],
   "source": [
    "# stop words\n",
    "# nltk.download('stopwords')\n",
    "from nltk.corpus import stopwords\n",
    "stop_words = set(stopwords.words(\"english\"))\n",
    "#print(stop_words)\n",
    "\n",
    "filtered_sent_first_step = []\n",
    "for w in tokenized_word:\n",
    "    if w not in stop_words:\n",
    "        filtered_sent_first_step.append(w)\n",
    "\n",
    "print(\"Before:\", len(tokenized_word))\n",
    "print(\"Filtered:\", len(filtered_sent_first_step))\n",
    "\n",
    "# print(\"Before:\", len(tokenized_word))\n",
    "# print(\"Filtered:\", filtered_sent)"
   ]
  },
  {
   "cell_type": "markdown",
   "source": [
    "Ilość słów: 1425"
   ],
   "metadata": {
    "collapsed": false,
    "pycharm": {
     "name": "#%% md\n"
    }
   }
  },
  {
   "cell_type": "markdown",
   "source": [
    "d) Sprawdź czy w naszym zestawie słów (bag of words) są jeszcze jakieś pominięte\n",
    "niepotrzebne słowa. Wówczas dodaj do listy stopwords dodatkowe słowa\n",
    "ręcznie (np. za pomocą komendy append lub extend). Podaj liczbę słów po tym\n",
    "etapie."
   ],
   "metadata": {
    "collapsed": false,
    "pycharm": {
     "name": "#%% md\n"
    }
   }
  },
  {
   "cell_type": "code",
   "execution_count": 4,
   "outputs": [
    {
     "name": "stdout",
     "output_type": "stream",
     "text": [
      "Before: 1425\n",
      "Filtered: 1081\n"
     ]
    }
   ],
   "source": [
    "# stop words\n",
    "from nltk.corpus import stopwords\n",
    "stop_words = set(stopwords.words(\"english\"))\n",
    "# print(stop_words)\n",
    "\n",
    "# dodawanie nowych słów\n",
    "my_stop_words = {\",\", \".\", \"“\", \"''\", \"1030\", \"I\", \"``\", \"?\", \"Just\", \"BrÃ¸nnÃ¸ysund\", \"1,072m\", \"910m\", \"How\", \"'re\", \"(\", \")\", \"We\", \"It\", \"'s\", \"one\", \"The\", \"670km\", \"six\"}\n",
    "\n",
    "stop_words.update(my_stop_words)\n",
    "\n",
    "filtered_sent_second_step = []\n",
    "for w in tokenized_word:\n",
    "    if w not in stop_words:\n",
    "        filtered_sent_second_step.append(w)\n",
    "\n",
    "# print(filtered_sent_first_step)\n",
    "print(\"Before:\", len(filtered_sent_first_step))\n",
    "print(\"Filtered:\", len(filtered_sent_second_step))"
   ],
   "metadata": {
    "collapsed": false,
    "pycharm": {
     "name": "#%%\n"
    }
   }
  },
  {
   "cell_type": "markdown",
   "source": [
    "Ilość słów: 1081"
   ],
   "metadata": {
    "collapsed": false,
    "pycharm": {
     "name": "#%% md\n"
    }
   }
  },
  {
   "cell_type": "markdown",
   "source": [
    "e) Dokonaj lematyzacji dokumentu. Jaki lematyzer został wybrany? Alternatywnie:\n",
    "możesz dokonać stemmingu. Podaj liczbę słów po tym etapie."
   ],
   "metadata": {
    "collapsed": false,
    "pycharm": {
     "name": "#%% md\n"
    }
   }
  },
  {
   "cell_type": "code",
   "execution_count": 5,
   "outputs": [
    {
     "name": "stdout",
     "output_type": "stream",
     "text": [
      "Filtered Sentence: 1081\n",
      "Stemmed Sentence: 1081\n"
     ]
    }
   ],
   "source": [
    "#Lexicon Normalization\n",
    "#performing stemming and Lemmatization\n",
    "# nltk.download('wordnet')\n",
    "# nltk.download('omw-1.4')\n",
    "\n",
    "from nltk.stem.wordnet import WordNetLemmatizer\n",
    "lem = WordNetLemmatizer()\n",
    "\n",
    "#--------------------------------------------------------\n",
    "lemmed_words = []\n",
    "for w in filtered_sent_second_step:\n",
    "    lemmed_words.append(lem.lemmatize(w))\n",
    "\n",
    "print(\"Filtered Sentence:\",len(filtered_sent_second_step))\n",
    "print(\"Stemmed Sentence:\",len(lemmed_words))\n",
    "# print(lemmed_words)"
   ],
   "metadata": {
    "collapsed": false,
    "pycharm": {
     "name": "#%%\n"
    }
   }
  },
  {
   "cell_type": "markdown",
   "source": [
    "Ilość słów: 1081"
   ],
   "metadata": {
    "collapsed": false,
    "pycharm": {
     "name": "#%% md\n"
    }
   }
  },
  {
   "cell_type": "markdown",
   "source": [
    "f) Podaj przetworzony dokument w formie wektora zliczającego słowa. Następnie\n",
    "wyświetl na wykresie słupkowym 10 najczęściej występujących słów (oś X:\n",
    "słowa, oś Y: liczba wystąpień słowa w tekście)."
   ],
   "metadata": {
    "collapsed": false,
    "pycharm": {
     "name": "#%% md\n"
    }
   }
  },
  {
   "cell_type": "code",
   "execution_count": 6,
   "outputs": [
    {
     "data": {
      "text/plain": "<Figure size 432x288 with 1 Axes>",
      "image/png": "[encoded data removed]"
     },
     "metadata": {
      "needs_background": "light"
     },
     "output_type": "display_data"
    }
   ],
   "source": [
    "from nltk.probability import FreqDist\n",
    "fdist = FreqDist(lemmed_words)\n",
    "\n",
    "import matplotlib.pyplot as plt\n",
    "fdist.plot(10,cumulative=False)\n",
    "plt.show()"
   ],
   "metadata": {
    "collapsed": false,
    "pycharm": {
     "name": "#%%\n"
    }
   }
  },
  {
   "cell_type": "markdown",
   "source": [
    "g) Stwórz chmurę tagów (word cloud) dla Twojego dokumentu. Pomocne linki:"
   ],
   "metadata": {
    "collapsed": false,
    "pycharm": {
     "name": "#%% md\n"
    }
   }
  },
  {
   "cell_type": "code",
   "execution_count": 7,
   "outputs": [
    {
     "data": {
      "text/plain": "<Figure size 432x288 with 1 Axes>",
      "image/png": "[encoded data removed]"
     },
     "metadata": {
      "needs_background": "light"
     },
     "output_type": "display_data"
    }
   ],
   "source": [
    "# Start with loading all necessary libraries\n",
    "import numpy as np\n",
    "import pandas as pd\n",
    "from os import path\n",
    "from PIL import Image\n",
    "from wordcloud import WordCloud, STOPWORDS, ImageColorGenerator\n",
    "\n",
    "import matplotlib.pyplot as plt\n",
    "# % matplotlib inline\n",
    "\n",
    "import warnings\n",
    "warnings.filterwarnings(\"ignore\")\n",
    "\n",
    "lemmed_words_as_text = \"\"\n",
    "\n",
    "for w in lemmed_words:\n",
    "    lemmed_words_as_text = lemmed_words_as_text + \" \" + w\n",
    "\n",
    "# Start with one review:\n",
    "text = lemmed_words_as_text\n",
    "\n",
    "# Create and generate a word cloud image:\n",
    "wordcloud = WordCloud().generate(text)\n",
    "\n",
    "# Display the generated image:\n",
    "plt.imshow(wordcloud, interpolation='bilinear')\n",
    "plt.axis(\"off\")\n",
    "plt.show()"
   ],
   "metadata": {
    "collapsed": false,
    "pycharm": {
     "name": "#%%\n"
    }
   }
  },
  {
   "cell_type": "markdown",
   "source": [
    "Ściągnij dodatkowo jeszcze 2 artykuły i zapisz je jako pliki (razem są 3). Następnie:\n",
    "\n",
    "a) Stwórz macierz Document-Term Matrix (DTM) dla tych trzech dokumentów\n",
    "(odpowiednio przetworzonych stopwords, lematyzerem)"
   ],
   "metadata": {
    "collapsed": false,
    "pycharm": {
     "name": "#%% md\n"
    }
   }
  },
  {
   "cell_type": "markdown",
   "source": [
    "Przetwarzanie artykułu nr 2\n",
    "\"Why humans get less sleep than other primates\""
   ],
   "metadata": {
    "collapsed": false,
    "pycharm": {
     "name": "#%% md\n"
    }
   }
  },
  {
   "cell_type": "code",
   "execution_count": 8,
   "outputs": [
    {
     "name": "stdout",
     "output_type": "stream",
     "text": [
      "2120\n",
      "Before: 2120\n",
      "Filtered: 1140\n"
     ]
    }
   ],
   "source": [
    "# wczytanie pliku ------------------------------------------\n",
    "with open('article2.txt') as f:\n",
    "    article2 = f.read()\n",
    "\n",
    "# print(len(article2))\n",
    "\n",
    "# tokenizacja -----------------------------------------------\n",
    "\n",
    "tokenized_word2 = word_tokenize(article2)\n",
    "# print(tokenized_word2)\n",
    "print(len(tokenized_word2)) # 2120\n",
    "\n",
    "# usuwanie słów ---------------------------------------------\n",
    "\n",
    "stop_words2 = set(stopwords.words(\"english\"))\n",
    "#print(stop_words)\n",
    "\n",
    "my_stop_words2 = {\"The\", \".\", \",\", \"O\", \"On\", \"13\", \"9.5\", \"â€\", \"“\", \"'s\", \"24\", \"?\", \"A\", \"(\", \")\", \"He\"}\n",
    "\n",
    "stop_words2.update(my_stop_words2)\n",
    "\n",
    "filtered_sent_first_step2 = []\n",
    "for w in tokenized_word2:\n",
    "    if w not in stop_words2:\n",
    "        filtered_sent_first_step2.append(w)\n",
    "\n",
    "print(\"Before:\", len(tokenized_word2))\n",
    "print(\"Filtered:\", len(filtered_sent_first_step2)) # 1140\n",
    "\n",
    "# lemberdize ---------------------------------------------------\n",
    "\n",
    "lemmed_words2 = []\n",
    "for w in filtered_sent_first_step2:\n",
    "    lemmed_words2.append(lem.lemmatize(w))\n",
    "\n",
    "lemmed_words_as_text2 = \"\"\n",
    "for w in lemmed_words2:\n",
    "    lemmed_words_as_text2 = lemmed_words_as_text2 + \" \" + w"
   ],
   "metadata": {
    "collapsed": false,
    "pycharm": {
     "name": "#%%\n"
    }
   }
  },
  {
   "cell_type": "markdown",
   "source": [
    "Przetwarzanie artykułu nr 3\n",
    "\"Aeroplanes are incredibly polluting, but could we ever live completely without them?\""
   ],
   "metadata": {
    "collapsed": false,
    "pycharm": {
     "name": "#%% md\n"
    }
   }
  },
  {
   "cell_type": "code",
   "execution_count": 9,
   "outputs": [
    {
     "name": "stdout",
     "output_type": "stream",
     "text": [
      "Before: 3961\n",
      "Filtered: 2189\n"
     ]
    }
   ],
   "source": [
    "# wczytanie pliku ------------------------------------------\n",
    "with open('article3.txt') as f:\n",
    "    article3 = f.read()\n",
    "\n",
    "# print(len(article3))\n",
    "\n",
    "# tokenizacja -----------------------------------------------\n",
    "\n",
    "tokenized_word3 = word_tokenize(article3)\n",
    "# print(tokenized_word3)\n",
    "# print(len(tokenized_word3)) # 3961\n",
    "\n",
    "# usuwanie słów ---------------------------------------------\n",
    "\n",
    "stop_words3 = set(stopwords.words(\"english\"))\n",
    "\n",
    "my_stop_words3 = {\"The\", \".\", \",\", \"``\", \"''\", \":\", \"(\", \")\", \"'s\", \"CO2\", \"%\", \"It\", \"30\", \"2013\", \"2019\", \"2020\", \"As\", \"?\", \"60\",\"â€\", \"“\"}\n",
    "\n",
    "stop_words3.update(my_stop_words3)\n",
    "\n",
    "filtered_sent3 = []\n",
    "for w in tokenized_word3:\n",
    "    if w not in stop_words3:\n",
    "        filtered_sent3.append(w)\n",
    "\n",
    "print(\"Before:\", len(tokenized_word3))\n",
    "print(\"Filtered:\", len(filtered_sent3)) # 2189\n",
    "\n",
    "# lemberdize ---------------------------------------------------\n",
    "\n",
    "lemmed_words3 = []\n",
    "for w in filtered_sent3:\n",
    "    lemmed_words3.append(lem.lemmatize(w))\n",
    "\n",
    "# print(\"Filtered Sentence:\",len(filtered_sent3))\n",
    "# print(\"Stemmed Sentence:\",len(lemmed_words3))\n",
    "\n",
    "lemmed_words_as_text3 = \"\"\n",
    "\n",
    "for w in lemmed_words3:\n",
    "    lemmed_words_as_text3 = lemmed_words_as_text3 + \" \" + w"
   ],
   "metadata": {
    "collapsed": false,
    "pycharm": {
     "name": "#%%\n"
    }
   }
  },
  {
   "cell_type": "code",
   "execution_count": 24,
   "outputs": [
    {
     "name": "stdout",
     "output_type": "stream",
     "text": [
      "   ability  abroad  abruptly  absorb  accelerating  acceptable  accessible  \\\n",
      "0        0       0         0       1             0           0           0   \n",
      "1        0       0         0       0             0           0           0   \n",
      "2        1       1         1       0             1           1           3   \n",
      "\n",
      "   accommodate  according  accurately  ...  wrap  year  yetish  york  youth  \\\n",
      "0            0          0           0  ...     1     3       0     0      1   \n",
      "1            0          0           1  ...     0     2      11     0      0   \n",
      "2            1          1           0  ...     0     7       0     2      0   \n",
      "\n",
      "   ysund  zero  zheng  zone  zoo  \n",
      "0      3     0      0     0    0  \n",
      "1      0     0      0     0    1  \n",
      "2      0     4      2     1    0  \n",
      "\n",
      "[3 rows x 1554 columns]\n"
     ]
    }
   ],
   "source": [
    "from sklearn.feature_extraction.text import CountVectorizer\n",
    "\n",
    "# lemmed_words\n",
    "# lemmed_words2\n",
    "# lemmed_words3\n",
    "\n",
    "all_articles = [lemmed_words_as_text, lemmed_words_as_text2, lemmed_words_as_text3]\n",
    "\n",
    "token = RegexpTokenizer(r'[a-zA-Z]+')\n",
    "coun_vect = CountVectorizer(lowercase=True, stop_words=\"english\", tokenizer=token.tokenize)\n",
    "\n",
    "count_matrix = coun_vect.fit_transform(all_articles)\n",
    "\n",
    "count_array = count_matrix.toarray()\n",
    "\n",
    "df = pd.DataFrame(data=count_array,columns = coun_vect.get_feature_names())\n",
    "\n",
    "print(df)\n",
    "# print(lemmed_words_as_text)"
   ],
   "metadata": {
    "collapsed": false,
    "pycharm": {
     "name": "#%%\n"
    }
   }
  },
  {
   "cell_type": "markdown",
   "source": [
    "b) Podaj również macierz TF i TFIDF.\n",
    "Obliczenia najlepiej zrobić ręcznie. Można też poszukać narzędzi by zrobić to\n",
    "automatycznie."
   ],
   "metadata": {
    "collapsed": false
   }
  },
  {
   "cell_type": "code",
   "execution_count": 26,
   "outputs": [
    {
     "name": "stdout",
     "output_type": "stream",
     "text": [
      "    ability    abroad  abruptly    absorb  accelerating  acceptable  \\\n",
      "0  0.000000  0.000000  0.000000  0.001016      0.000000    0.000000   \n",
      "1  0.000000  0.000000  0.000000  0.000000      0.000000    0.000000   \n",
      "2  0.000502  0.000502  0.000502  0.000000      0.000502    0.000502   \n",
      "\n",
      "   accessible  accommodate  according  accurately  ...      wrap  year  \\\n",
      "0    0.000000     0.000000   0.000000    0.000000  ...  0.001016     0   \n",
      "1    0.000000     0.000000   0.000000    0.000964  ...  0.000000     0   \n",
      "2    0.001506     0.000502   0.000502    0.000000  ...  0.000000     0   \n",
      "\n",
      "     yetish      york     youth     ysund      zero     zheng      zone  \\\n",
      "0  0.000000  0.000000  0.001016  0.003049  0.000000  0.000000  0.000000   \n",
      "1  0.010601  0.000000  0.000000  0.000000  0.000000  0.000000  0.000000   \n",
      "2  0.000000  0.001004  0.000000  0.000000  0.002008  0.001004  0.000502   \n",
      "\n",
      "        zoo  \n",
      "0  0.000000  \n",
      "1  0.000964  \n",
      "2  0.000000  \n",
      "\n",
      "[3 rows x 1554 columns]\n"
     ]
    }
   ],
   "source": [
    "import math\n",
    "\n",
    "# lemmed_words # bag_of_words\n",
    "# lemmed_words2 # bag_of_words\n",
    "# lemmed_words3 # bag_of_words\n",
    "\n",
    "df_tf = pd.DataFrame(data=count_array,columns = coun_vect.get_feature_names())\n",
    "\n",
    "#liczenie TF -------------------------------------------------------------------\n",
    "for word in coun_vect.get_feature_names():\n",
    "    df_tf.at[0, word]= df_tf.at[0, word] / len(lemmed_words)\n",
    "    df_tf.at[1, word]= df_tf.at[1, word] / len(lemmed_words2)\n",
    "    df_tf.at[2, word]= df_tf.at[2, word] / len(lemmed_words3)\n",
    "\n",
    "# print(df_tf)\n",
    "# reset\n",
    "# liczenie TF-IDF ----------------------------------------------------------------\n",
    "df_tf_idf = pd.DataFrame(data=count_array,columns = coun_vect.get_feature_names())\n",
    "\n",
    "number_of_articles = 3\n",
    "\n",
    "for word in coun_vect.get_feature_names():\n",
    "    number_of_articles_which_have_this_word = 0\n",
    "\n",
    "    for i in range(0, 3):\n",
    "        if df_tf_idf.at[i, word] > 0:\n",
    "            number_of_articles_which_have_this_word += 1\n",
    "\n",
    "    idf_for_current_word = math.log(number_of_articles / number_of_articles_which_have_this_word)\n",
    "\n",
    "    df_tf_idf.at[0, word] = (df_tf_idf.at[0, word] / len(lemmed_words)) * idf_for_current_word\n",
    "    df_tf_idf.at[1, word] = (df_tf_idf.at[1, word] / len(lemmed_words2)) * idf_for_current_word\n",
    "    df_tf_idf.at[2, word] = (df_tf_idf.at[2, word] / len(lemmed_words3)) * idf_for_current_word\n",
    "\n",
    "print(df_tf_idf)"
   ],
   "metadata": {
    "collapsed": false,
    "pycharm": {
     "name": "#%%\n"
    }
   }
  },
  {
   "cell_type": "markdown",
   "source": [
    "c) Oblicz podobieństwo cosinusowe między wszystkimi dokumentami (wszystkie\n",
    "możliwe pary) używając do tego macierzy TF."
   ],
   "metadata": {
    "collapsed": false
   }
  },
  {
   "cell_type": "code",
   "execution_count": 37,
   "outputs": [
    {
     "name": "stdout",
     "output_type": "stream",
     "text": [
      "[[1.         0.09477062 0.19428719]\n",
      " [0.09477062 1.         0.20642375]\n",
      " [0.19428719 0.20642375 1.        ]]\n"
     ]
    }
   ],
   "source": [
    "from sklearn.metrics.pairwise import cosine_similarity\n",
    "\n",
    "print(cosine_similarity(df_tf))"
   ],
   "metadata": {
    "collapsed": false,
    "pycharm": {
     "name": "#%%\n"
    }
   }
  },
  {
   "cell_type": "code",
   "execution_count": 36,
   "outputs": [
    {
     "name": "stdout",
     "output_type": "stream",
     "text": [
      "similarity:  0.2886751345948129\n"
     ]
    }
   ],
   "source": [
    "# Program to measure the similarity between\n",
    "# two sentences using cosine similarity.\n",
    "from nltk.corpus import stopwords\n",
    "from nltk.tokenize import word_tokenize\n",
    "\n",
    "# X = input(\"Enter first string: \").lower()\n",
    "# Y = input(\"Enter second string: \").lower()\n",
    "X =\"I love horror movies\"\n",
    "Y =\"Lights out is a horror movie\"\n",
    "\n",
    "# tokenization\n",
    "X_list = word_tokenize(X)\n",
    "Y_list = word_tokenize(Y)\n",
    "\n",
    "# sw contains the list of stopwords\n",
    "sw = stopwords.words('english')\n",
    "l1 =[]\n",
    "l2 =[]\n",
    "\n",
    "# remove stop words from the string\n",
    "X_set = {w for w in X_list if not w in sw}\n",
    "Y_set = {w for w in Y_list if not w in sw}\n",
    "\n",
    "# form a set containing keywords of both strings\n",
    "rvector = X_set.union(Y_set)\n",
    "\n",
    "for w in rvector:\n",
    "    if w in X_set: l1.append(1) # create a vector\n",
    "    else: l1.append(0)\n",
    "\n",
    "    if w in Y_set: l2.append(1)\n",
    "    else: l2.append(0)\n",
    "c = 0\n",
    "\n",
    "# # cosine formula\n",
    "# for i in range(len(rvector)):\n",
    "#     c+= l1[i]*l2[i]\n",
    "# cosine = c / float((sum(l1)*sum(l2))**0.5)\n",
    "# print(\"similarity: \", cosine)"
   ],
   "metadata": {
    "collapsed": false,
    "pycharm": {
     "name": "#%%\n"
    }
   }
  },
  {
   "cell_type": "markdown",
   "source": [
    "zadanie 3\n",
    "\n",
    "a) znajdź jedną pozytywną opinię o jakimś hotelu i\n",
    "jedną zdecydowanie negatywną. Wybierz opinie w języku angielskim składające\n",
    "się z przynajmniej kilku zdań."
   ],
   "metadata": {
    "collapsed": false
   }
  },
  {
   "cell_type": "code",
   "execution_count": 30,
   "outputs": [],
   "source": [
    "negative_opinion = \"A case of (the filmmakers) had a character, but didnt quite know what to do with it. I think its quite a messy plot that doesnt always make that much sense A bit different with the horror theme, but nothing special.\"\n",
    "\n",
    "positive_opinion = \"The conclusion of this epic storyline is meant to be, err, epic, and in many ways it succeeds. Marvel throws a proverbial feast for it's legions of fandom for sticking through 10 years and many divergent stories, and many different heroes. Of course, they cannot do justice to everyone and so many get simply a nod or a wave, but the overall effect is still worthy - for first viewing and how ever many viewings that will come after.\""
   ],
   "metadata": {
    "collapsed": false,
    "pycharm": {
     "name": "#%%\n"
    }
   }
  },
  {
   "cell_type": "markdown",
   "source": [
    "b) Używając narzędzia Vader sprawdź w jakim stopniu obie opinie są pozytywne\n",
    "(pos), negatywne (neg), neutralne (neu) i jaki jest wynik zagregowany wszystkich\n",
    "opinii (compound), który waha się od -1 (negatywny) do 1 (pozytywny)."
   ],
   "metadata": {
    "collapsed": false
   }
  },
  {
   "cell_type": "code",
   "execution_count": 35,
   "outputs": [
    {
     "name": "stdout",
     "output_type": "stream",
     "text": [
      "Overall sentiment dictionary is :  {'neg': 0.234, 'neu': 0.766, 'pos': 0.0, 'compound': -0.9119}\n",
      "sentence was rated as  23.400000000000002 % Negative\n",
      "sentence was rated as  76.6 % Neutral\n",
      "sentence was rated as  0.0 % Positive\n",
      "Sentence Overall Rated As Negative\n",
      "Overall sentiment dictionary is :  {'neg': 0.022, 'neu': 0.862, 'pos': 0.116, 'compound': 0.7971}\n",
      "sentence was rated as  2.1999999999999997 % Negative\n",
      "sentence was rated as  86.2 % Neutral\n",
      "sentence was rated as  11.600000000000001 % Positive\n",
      "Sentence Overall Rated As Positive\n"
     ]
    }
   ],
   "source": [
    "from vaderSentiment.vaderSentiment import SentimentIntensityAnalyzer\n",
    "\n",
    "# function to print sentiments\n",
    "# of the sentence.\n",
    "def sentiment_scores(sentence):\n",
    "    # Create a SentimentIntensityAnalyzer object.\n",
    "    sid_obj = SentimentIntensityAnalyzer()\n",
    "\n",
    "    # polarity_scores method of SentimentIntensityAnalyzer\n",
    "    # oject gives a sentiment dictionary.\n",
    "    # which contains pos, neg, neu, and compound scores.\n",
    "    sentiment_dict = sid_obj.polarity_scores(sentence)\n",
    "\n",
    "    print(\"Overall sentiment dictionary is : \", sentiment_dict)\n",
    "    print(\"sentence was rated as \", sentiment_dict['neg']*100, \"% Negative\")\n",
    "    print(\"sentence was rated as \", sentiment_dict['neu']*100, \"% Neutral\")\n",
    "    print(\"sentence was rated as \", sentiment_dict['pos']*100, \"% Positive\")\n",
    "    print(\"Sentence Overall Rated As\", end = \" \")\n",
    "    # decide sentiment as positive, negative and neutral\n",
    "    if sentiment_dict['compound'] >= 0.05 :\n",
    "        print(\"Positive\")\n",
    "    elif sentiment_dict['compound'] <= - 0.05 :\n",
    "        print(\"Negative\")\n",
    "    else :\n",
    "        print(\"Neutral\")\n",
    "\n",
    "# function calling\n",
    "sentiment_scores(negative_opinion)\n",
    "sentiment_scores(positive_opinion)"
   ],
   "metadata": {
    "collapsed": false,
    "pycharm": {
     "name": "#%%\n"
    }
   }
  },
  {
   "cell_type": "markdown",
   "source": [
    "c)\n",
    "Wyniki są zgodne z oczekiwaniami"
   ],
   "metadata": {
    "collapsed": false
   }
  },
  {
   "cell_type": "markdown",
   "source": [
    "Zadanie 4\n",
    "\n",
    "a) Wybierz temat tweetów (może być jakiś konkretny hasztag) np. belarus,\n",
    "coronavirus, christmas, blackfriday lub inny\n",
    "temat: \"League of legends\" (nazwa gry)\n",
    "\n",
    "b) Wykorzystaj Tweepy lub Snscrape do pozyskania około 100 tweetów na dany\n",
    "temat. Wyświetl te tweety.\n",
    "\n",
    "zostało to zrobione w pliku \"gettingTweets.py\"\n",
    "\n",
    "c) Zbadaj czy można pobierać tweety z różnych okresów czasu, różnych lokalizacji.\n",
    "Spróbuj zebrać tweety z wybranego okresu czasu z okolic Gdańska.\n",
    "\n",
    "zostało to zrobione w pliku \"gettingTweets2.py\"\n",
    "\n",
    "wybrany okres: 2020-12-20 - 2022-02-15\n",
    "za pomocą hastagów: #Gdańsk, #covid\n",
    "są to tweety z okolic Gdańska o covidzie"
   ],
   "metadata": {
    "collapsed": false,
    "pycharm": {
     "name": "#%% md\n"
    }
   }
  }
 ],
 "metadata": {
  "kernelspec": {
   "display_name": "Python 3",
   "language": "python",
   "name": "python3"
  },
  "language_info": {
   "codemirror_mode": {
    "name": "ipython",
    "version": 2
   },
   "file_extension": ".py",
   "mimetype": "text/x-python",
   "name": "python",
   "nbconvert_exporter": "python",
   "pygments_lexer": "ipython2",
   "version": "2.7.6"
  }
 },
 "nbformat": 4,
 "nbformat_minor": 0
}