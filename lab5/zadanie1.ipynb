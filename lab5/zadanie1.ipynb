{
 "cells": [
  {
   "cell_type": "markdown",
   "source": [
    "import"
   ],
   "metadata": {
    "collapsed": false
   }
  },
  {
   "cell_type": "code",
   "execution_count": 7,
   "metadata": {
    "collapsed": true
   },
   "outputs": [],
   "source": [
    "import pyswarms as ps\n",
    "import matplotlib.pyplot as plt\n",
    "from pyswarms.utils.functions import single_obj as fx\n",
    "from pyswarms.utils.plotters import plot_cost_history\n",
    "import numpy as np\n",
    "import math"
   ]
  },
  {
   "cell_type": "markdown",
   "source": [
    "funkcja"
   ],
   "metadata": {
    "collapsed": false
   }
  },
  {
   "cell_type": "code",
   "execution_count": 26,
   "outputs": [],
   "source": [
    "def endurance(params):\n",
    "    [x, y, z, v, u, w] = params\n",
    "    return -1 * math.exp(-2*(y-math.sin(x))**2)+math.sin(z*u)+math.cos(v*w)\n",
    "\n",
    "def f(x):\n",
    "    n_particles = x.shape[0]\n",
    "    j = [endurance(x[i]) for i in range(n_particles)]\n",
    "    return np.array(j)"
   ],
   "metadata": {
    "collapsed": false,
    "pycharm": {
     "name": "#%%\n"
    }
   }
  },
  {
   "cell_type": "markdown",
   "source": [
    "zadanie1"
   ],
   "metadata": {
    "collapsed": false
   }
  },
  {
   "cell_type": "code",
   "execution_count": 27,
   "outputs": [
    {
     "name": "stderr",
     "output_type": "stream",
     "text": [
      "2022-04-06 11:24:02,167 - pyswarms.single.global_best - INFO - Optimize for 1000 iters with {'c1': 0.5, 'c2': 0.3, 'w': 0.9}\n",
      "pyswarms.single.global_best: 100%|██████████|1000/1000, best_cost=-.43\n",
      "2022-04-06 11:24:03,988 - pyswarms.single.global_best - INFO - Optimization finished | best cost: -0.42976912013523727, best pos: [0.45381396 0.4496141  0.05086105 0.98675092 0.01274199 0.97806268]\n"
     ]
    },
    {
     "data": {
      "text/plain": "(-0.42976912013523727,\n array([0.45381396, 0.4496141 , 0.05086105, 0.98675092, 0.01274199,\n        0.97806268]))"
     },
     "execution_count": 27,
     "metadata": {},
     "output_type": "execute_result"
    }
   ],
   "source": [
    "options = {'c1': 0.5, 'c2': 0.3, 'w':0.9}\n",
    "\n",
    "# wprowadzamy ograniczenia\n",
    "x_max = np.ones(6)\n",
    "x_min = np.zeros(6)\n",
    "my_bounds = (x_min, x_max)\n",
    "\n",
    "optimizer = ps.single.GlobalBestPSO(n_particles=10, dimensions=6,\n",
    "                                    options=options, bounds=my_bounds)\n",
    "optimizer.optimize(f, iters=1000)"
   ],
   "metadata": {
    "collapsed": false,
    "pycharm": {
     "name": "#%%\n"
    }
   }
  },
  {
   "cell_type": "markdown",
   "source": [
    "zadanie 2"
   ],
   "metadata": {
    "collapsed": false
   }
  },
  {
   "cell_type": "code",
   "execution_count": 31,
   "outputs": [],
   "source": [
    "def fitness_func(solution):\n",
    "    sum1 = np.sum(solution * S)\n",
    "    solution_invert = 1 - solution\n",
    "    sum2 = np.sum(solution_invert * S)\n",
    "    fitness = np.abs(sum1-sum2)\n",
    "    return fitness\n",
    "\n",
    "def f2(x):\n",
    "    n_particles = x.shape[0]\n",
    "    j = [fitness_func(x[i]) for i in range(n_particles)]\n",
    "    return np.array(j)"
   ],
   "metadata": {
    "collapsed": false,
    "pycharm": {
     "name": "#%%\n"
    }
   }
  },
  {
   "cell_type": "code",
   "execution_count": 33,
   "outputs": [
    {
     "name": "stderr",
     "output_type": "stream",
     "text": [
      "2022-04-06 11:41:57,026 - pyswarms.discrete.binary - INFO - Optimize for 30 iters with {'c1': 0.5, 'c2': 0.3, 'w': 0.9, 'k': 2, 'p': 1}\n",
      "pyswarms.discrete.binary: 100%|██████████|30/30, best_cost=4\n",
      "2022-04-06 11:41:57,098 - pyswarms.discrete.binary - INFO - Optimization finished | best cost: 4.0, best pos: [1 1 1 1 1 1 0 0 1 1 0 1 0 0 1]\n"
     ]
    },
    {
     "data": {
      "text/plain": "<Figure size 720x576 with 1 Axes>",
      "image/png": "[encoded data removed]"
     },
     "metadata": {
      "needs_background": "light"
     },
     "output_type": "display_data"
    }
   ],
   "source": [
    "S = [1, 2, 3, 6, 10, 17, 25, 29, 30, 41, 51, 60, 70, 79, 80]\n",
    "options = {'c1': 0.5, 'c2': 0.3, 'w':0.9, 'k':2, 'p':1}\n",
    "\n",
    "optimizer = ps.discrete.BinaryPSO(n_particles=10, dimensions=15,\n",
    "                                  options=options)\n",
    "optimizer.optimize(f2, iters=30, verbose=True)\n",
    "cost_history = optimizer.cost_history\n",
    "plot_cost_history(cost_history)\n",
    "plt.show()"
   ],
   "metadata": {
    "collapsed": false,
    "pycharm": {
     "name": "#%%\n"
    }
   }
  }
 ],
 "metadata": {
  "kernelspec": {
   "display_name": "Python 3",
   "language": "python",
   "name": "python3"
  },
  "language_info": {
   "codemirror_mode": {
    "name": "ipython",
    "version": 2
   },
   "file_extension": ".py",
   "mimetype": "text/x-python",
   "name": "python",
   "nbconvert_exporter": "python",
   "pygments_lexer": "ipython2",
   "version": "2.7.6"
  }
 },
 "nbformat": 4,
 "nbformat_minor": 0
}