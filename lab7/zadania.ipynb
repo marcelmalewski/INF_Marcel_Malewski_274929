{
 "cells": [
  {
   "cell_type": "markdown",
   "source": [
    "Zadanie 1\n",
    "\n",
    "a) Ściągnij plik iris.csv i umieść go w katalogu z plikami pythonowymi.\n",
    "b) Użyj paczki pandas do wczytania tego pliku do Pythona i wyświetl bazę danych.\n",
    "c) W obiekcie df mamy bazę danych typu dataframe. Żeby bezpośrednio wejść\n",
    "do danych z tej bazy trzeba odwołać się do wartości (values)."
   ],
   "metadata": {
    "collapsed": false
   }
  },
  {
   "cell_type": "code",
   "execution_count": 217,
   "outputs": [
    {
     "name": "stdout",
     "output_type": "stream",
     "text": [
      "[[6 148 72 ... 0.627 50 'tested_positive']\n",
      " [1 85 66 ... 0.351 31 'tested_negative']\n",
      " [8 183 64 ... 0.672 32 'tested_positive']\n",
      " ...\n",
      " [5 121 72 ... 0.245 30 'tested_negative']\n",
      " [1 126 60 ... 0.349 47 'tested_positive']\n",
      " [1 93 70 ... 0.315 23 'tested_negative']]\n"
     ]
    }
   ],
   "source": [
    "import pandas as pd\n",
    "\n",
    "df2 = pd.read_csv(\"diabetes.csv\")\n",
    "\n",
    "print(df2.values)"
   ],
   "metadata": {
    "collapsed": false,
    "pycharm": {
     "name": "#%%\n"
    }
   }
  },
  {
   "cell_type": "markdown",
   "source": [
    "d) Spróbujmy wyświetlić różne fragmenty danych."
   ],
   "metadata": {
    "collapsed": false
   }
  },
  {
   "cell_type": "code",
   "execution_count": 95,
   "outputs": [
    {
     "name": "stdout",
     "output_type": "stream",
     "text": [
      "[5.1 4.9 4.7 4.6 5.0 5.4 4.6 5.0 4.4 4.9 5.4 4.8 4.8 4.3 5.8 5.7 5.4 5.1\n",
      " 5.7 5.1 5.4 5.1 4.6 5.1 4.8 5.0 5.0 5.2 5.2 4.7 4.8 5.4 5.2 5.5 4.9 5.0\n",
      " 5.5 4.9 4.4 5.1 5.0 4.5 4.4 5.0 5.1 4.8 5.1 4.6 5.3 5.0 7.0 6.4 6.9 5.5\n",
      " 6.5 5.7 6.3 4.9 6.6 5.2 5.0 5.9 6.0 6.1 5.6 6.7 5.6 5.8 6.2 5.6 5.9 6.1\n",
      " 6.3 6.1 6.4 6.6 6.8 6.7 6.0 5.7 5.5 5.5 5.8 6.0 5.4 6.0 6.7 6.3 5.6 5.5\n",
      " 5.5 6.1 5.8 5.0 5.6 5.7 5.7 6.2 5.1 5.7 6.3 5.8 7.1 6.3 6.5 7.6 4.9 7.3\n",
      " 6.7 7.2 6.5 6.4 6.8 5.7 5.8 6.4 6.5 7.7 7.7 6.0 6.9 5.6 7.7 6.3 6.7 7.2\n",
      " 6.2 6.1 6.4 7.2 7.4 7.9 6.4 6.3 6.1 7.7 6.3 6.4 6.0 6.9 6.7 6.9 5.8 6.8\n",
      " 6.7 6.7 6.3 6.5 6.2 5.9]\n",
      "[[5.4 3.9 1.7 0.4 'Setosa']\n",
      " [4.6 3.4 1.4 0.3 'Setosa']\n",
      " [5.0 3.4 1.5 0.2 'Setosa']\n",
      " [4.4 2.9 1.4 0.2 'Setosa']\n",
      " [4.9 3.1 1.5 0.1 'Setosa']\n",
      " [5.4 3.7 1.5 0.2 'Setosa']]\n",
      "Setosa\n"
     ]
    }
   ],
   "source": [
    "#wszystkie wiersze, kolumna nr 0\n",
    "print(df.values[:, 0])\n",
    "#wiersze od 5 do 10, wszystkie kolumny\n",
    "print(df.values[5:11, :])\n",
    "#dane w komórce [1,4]\n",
    "print(df.values[1, 4])"
   ],
   "metadata": {
    "collapsed": false,
    "pycharm": {
     "name": "#%%\n"
    }
   }
  },
  {
   "cell_type": "markdown",
   "source": [
    "e) Pora na podział zbioru na zbiór testowy i treningowy. Wykorzystamy do tego\n",
    "funkcję train_test_split z paczki sklearn. Dodaj na górze programu odpowiedni"
   ],
   "metadata": {
    "collapsed": false
   }
  },
  {
   "cell_type": "code",
   "execution_count": 96,
   "outputs": [],
   "source": [
    "from sklearn.model_selection import train_test_split"
   ],
   "metadata": {
    "collapsed": false,
    "pycharm": {
     "name": "#%%\n"
    }
   }
  },
  {
   "cell_type": "markdown",
   "source": [
    "Następnie dopisz na dole programu funckję dzielącą zbiór df.values na dwa\n",
    "kawałki w proporcjach 70% i 30%, w losowy sposób."
   ],
   "metadata": {
    "collapsed": false
   }
  },
  {
   "cell_type": "code",
   "execution_count": 97,
   "outputs": [],
   "source": [
    "#podzial na zbior testowy (30%) i treningowy (70%), ziarno losowosci = 13\n",
    "(train_set, test_set) = train_test_split(df.values, train_size=0.7,\n",
    "                                         random_state=274929)"
   ],
   "metadata": {
    "collapsed": false,
    "pycharm": {
     "name": "#%%\n"
    }
   }
  },
  {
   "cell_type": "markdown",
   "source": [
    "f) Sprawdź jakie rekordy znalazły się w zbiorze testowym i ile ma on rekordów."
   ],
   "metadata": {
    "collapsed": false
   }
  },
  {
   "cell_type": "code",
   "execution_count": 98,
   "outputs": [
    {
     "name": "stdout",
     "output_type": "stream",
     "text": [
      "[[5.7 2.8 4.5 1.3 'Versicolor']\n",
      " [5.6 2.9 3.6 1.3 'Versicolor']\n",
      " [5.1 3.7 1.5 0.4 'Setosa']\n",
      " [5.8 2.7 5.1 1.9 'Virginica']\n",
      " [6.8 3.0 5.5 2.1 'Virginica']\n",
      " [5.5 4.2 1.4 0.2 'Setosa']\n",
      " [7.7 3.0 6.1 2.3 'Virginica']\n",
      " [6.3 2.7 4.9 1.8 'Virginica']\n",
      " [5.1 3.8 1.6 0.2 'Setosa']\n",
      " [5.5 2.6 4.4 1.2 'Versicolor']\n",
      " [6.0 3.0 4.8 1.8 'Virginica']\n",
      " [6.3 2.8 5.1 1.5 'Virginica']\n",
      " [6.3 2.3 4.4 1.3 'Versicolor']\n",
      " [5.1 3.8 1.9 0.4 'Setosa']\n",
      " [5.8 2.8 5.1 2.4 'Virginica']\n",
      " [4.8 3.1 1.6 0.2 'Setosa']\n",
      " [6.1 3.0 4.9 1.8 'Virginica']\n",
      " [6.5 3.0 5.8 2.2 'Virginica']\n",
      " [6.1 3.0 4.6 1.4 'Versicolor']\n",
      " [4.4 2.9 1.4 0.2 'Setosa']\n",
      " [6.0 2.9 4.5 1.5 'Versicolor']\n",
      " [5.7 4.4 1.5 0.4 'Setosa']\n",
      " [5.1 3.5 1.4 0.3 'Setosa']\n",
      " [7.4 2.8 6.1 1.9 'Virginica']\n",
      " [5.4 3.0 4.5 1.5 'Versicolor']\n",
      " [6.7 3.3 5.7 2.5 'Virginica']\n",
      " [5.8 4.0 1.2 0.2 'Setosa']\n",
      " [7.7 2.6 6.9 2.3 'Virginica']\n",
      " [6.1 2.9 4.7 1.4 'Versicolor']\n",
      " [6.4 2.8 5.6 2.2 'Virginica']\n",
      " [6.4 3.1 5.5 1.8 'Virginica']\n",
      " [5.2 4.1 1.5 0.1 'Setosa']\n",
      " [5.4 3.4 1.5 0.4 'Setosa']\n",
      " [6.9 3.1 5.1 2.3 'Virginica']\n",
      " [6.3 2.5 5.0 1.9 'Virginica']\n",
      " [6.2 2.9 4.3 1.3 'Versicolor']\n",
      " [5.1 3.3 1.7 0.5 'Setosa']\n",
      " [5.6 3.0 4.5 1.5 'Versicolor']\n",
      " [6.2 2.2 4.5 1.5 'Versicolor']\n",
      " [4.8 3.0 1.4 0.1 'Setosa']\n",
      " [5.2 3.5 1.5 0.2 'Setosa']\n",
      " [6.1 2.6 5.6 1.4 'Virginica']\n",
      " [5.7 2.9 4.2 1.3 'Versicolor']\n",
      " [7.2 3.2 6.0 1.8 'Virginica']\n",
      " [6.5 3.2 5.1 2.0 'Virginica']]\n",
      "45\n"
     ]
    }
   ],
   "source": [
    "print(test_set)\n",
    "print(test_set.shape[0])"
   ],
   "metadata": {
    "collapsed": false,
    "pycharm": {
     "name": "#%%\n"
    }
   }
  },
  {
   "cell_type": "markdown",
   "source": [
    "g) Bywa, że zbiór testowy i treningowy trzeba podzielić dodatkowo na inputy\n",
    "(kolumny numeryczne) i klasy (odmiany irysów). Wówczas z 2 zbiorów danych\n",
    "zrobią się nam cztery."
   ],
   "metadata": {
    "collapsed": false
   }
  },
  {
   "cell_type": "code",
   "execution_count": 99,
   "outputs": [],
   "source": [
    "train_inputs = train_set[:, 0:4]\n",
    "train_classes = train_set[:, 4]\n",
    "test_inputs = test_set[:, 0:4]\n",
    "test_classes = test_set[:, 4]"
   ],
   "metadata": {
    "collapsed": false,
    "pycharm": {
     "name": "#%%\n"
    }
   }
  },
  {
   "cell_type": "markdown",
   "source": [
    "Zadanie 2"
   ],
   "metadata": {
    "collapsed": false
   }
  },
  {
   "cell_type": "markdown",
   "source": [
    "a) Rozpocznij od przygotowania zbioru treningowego i testowego, tak jak w\n",
    "poprzednim zadaniu."
   ],
   "metadata": {
    "collapsed": false
   }
  },
  {
   "cell_type": "code",
   "execution_count": 100,
   "outputs": [],
   "source": [
    "import pandas as pd\n",
    "from sklearn.model_selection import train_test_split\n",
    "\n",
    "df = pd.read_csv(\"iris.csv\")\n",
    "(train_set, test_set) = train_test_split(df.values, train_size=0.7,\n",
    "                                         random_state=274929)"
   ],
   "metadata": {
    "collapsed": false,
    "pycharm": {
     "name": "#%%\n"
    }
   }
  },
  {
   "cell_type": "markdown",
   "source": [
    "b) Napiszemy w Pythonie funkcję, która na podstawie czterech numerycznych\n",
    "parametrów irysa odgadnie jego gatunek wykorzystując do tego jedynie dwie\n",
    "instrukcje if, elif oraz else (jednokrotnie)."
   ],
   "metadata": {
    "collapsed": false
   }
  },
  {
   "cell_type": "code",
   "execution_count": 117,
   "outputs": [],
   "source": [
    "def classify_iris(sl, sw, pl, pw):\n",
    "    if sl > 4:\n",
    "        return(\"Setosa\")\n",
    "    elif pl <= 5:\n",
    "        return(\"Virginica\")\n",
    "    else:\n",
    "        return(\"Versicolor\")"
   ],
   "metadata": {
    "collapsed": false,
    "pycharm": {
     "name": "#%%\n"
    }
   }
  },
  {
   "cell_type": "markdown",
   "source": [
    "c)"
   ],
   "metadata": {
    "collapsed": false,
    "pycharm": {
     "name": "#%% md\n"
    }
   }
  },
  {
   "cell_type": "code",
   "execution_count": 192,
   "outputs": [
    {
     "name": "stdout",
     "output_type": "stream",
     "text": [
      "17\n",
      "37.77777777777778 %\n"
     ]
    }
   ],
   "source": [
    "good_predictions = 0\n",
    "len = test_set.shape[0]\n",
    "\n",
    "for i in range(len):\n",
    "    if classify_iris(test_inputs[i][0], test_inputs[i][1], test_inputs[i][2], test_inputs[i][3]) == test_set[i][4]:\n",
    "        good_predictions += 1\n",
    "\n",
    "print(good_predictions)\n",
    "print(good_predictions/len*100, \"%\")"
   ],
   "metadata": {
    "collapsed": false,
    "pycharm": {
     "name": "#%%\n"
    }
   }
  },
  {
   "cell_type": "markdown",
   "source": [
    "Wyniki:\n",
    "17\n",
    "37.77777777777778 %"
   ],
   "metadata": {
    "collapsed": false
   }
  },
  {
   "cell_type": "markdown",
   "source": [
    "d) Poprawiony klasyfikator."
   ],
   "metadata": {
    "collapsed": false
   }
  },
  {
   "cell_type": "code",
   "execution_count": 211,
   "outputs": [],
   "source": [
    "def classify_iris2(sl, sw, pl, pw):\n",
    "    if pw < 1:\n",
    "        return(\"Setosa\")\n",
    "    elif pl > 4.8 and pw > 1.7:\n",
    "        return(\"Virginica\")\n",
    "    else:\n",
    "        return(\"Versicolor\")"
   ],
   "metadata": {
    "collapsed": false,
    "pycharm": {
     "name": "#%%\n"
    }
   }
  },
  {
   "cell_type": "code",
   "execution_count": 172,
   "outputs": [
    {
     "name": "stdout",
     "output_type": "stream",
     "text": [
      "[[5.0 3.6 1.4 0.2 'Setosa']\n",
      " [5.2 4.1 1.5 0.1 'Setosa']\n",
      " [5.0 3.5 1.6 0.6 'Setosa']\n",
      " [4.8 3.0 1.4 0.3 'Setosa']\n",
      " [5.5 4.2 1.4 0.2 'Setosa']\n",
      " [5.1 3.8 1.9 0.4 'Setosa']\n",
      " [5.1 3.5 1.4 0.2 'Setosa']\n",
      " [5.1 3.8 1.6 0.2 'Setosa']\n",
      " [4.8 3.0 1.4 0.1 'Setosa']\n",
      " [4.6 3.2 1.4 0.2 'Setosa']\n",
      " [4.8 3.1 1.6 0.2 'Setosa']\n",
      " [5.4 3.4 1.7 0.2 'Setosa']\n",
      " [5.0 3.2 1.2 0.2 'Setosa']\n",
      " [4.9 3.1 1.5 0.1 'Setosa']\n",
      " [5.4 3.9 1.7 0.4 'Setosa']\n",
      " [5.2 3.4 1.4 0.2 'Setosa']\n",
      " [5.1 3.7 1.5 0.4 'Setosa']\n",
      " [5.7 4.4 1.5 0.4 'Setosa']\n",
      " [4.4 3.2 1.3 0.2 'Setosa']\n",
      " [5.4 3.4 1.5 0.4 'Setosa']\n",
      " [5.1 3.3 1.7 0.5 'Setosa']\n",
      " [5.8 4.0 1.2 0.2 'Setosa']\n",
      " [4.9 3.0 1.4 0.2 'Setosa']\n",
      " [5.0 3.3 1.4 0.2 'Setosa']\n",
      " [5.0 3.0 1.6 0.2 'Setosa']\n",
      " [4.3 3.0 1.1 0.1 'Setosa']\n",
      " [5.3 3.7 1.5 0.2 'Setosa']\n",
      " [5.2 3.5 1.5 0.2 'Setosa']\n",
      " [5.4 3.9 1.3 0.4 'Setosa']\n",
      " [5.1 3.8 1.5 0.3 'Setosa']\n",
      " [4.9 3.1 1.5 0.1 'Setosa']\n",
      " [4.9 3.1 1.5 0.1 'Setosa']\n",
      " [4.6 3.6 1.0 0.2 'Setosa']\n",
      " [6.0 2.7 5.1 1.6 'Versicolor']\n",
      " [6.7 3.1 4.4 1.4 'Versicolor']\n",
      " [6.0 2.2 4.0 1.0 'Versicolor']\n",
      " [5.6 2.7 4.2 1.3 'Versicolor']\n",
      " [6.4 2.9 4.3 1.3 'Versicolor']\n",
      " [5.6 3.0 4.1 1.3 'Versicolor']\n",
      " [5.7 2.6 3.5 1.0 'Versicolor']\n",
      " [6.3 3.3 4.7 1.6 'Versicolor']\n",
      " [6.1 3.0 4.6 1.4 'Versicolor']\n",
      " [6.8 2.8 4.8 1.4 'Versicolor']\n",
      " [5.7 2.9 4.2 1.3 'Versicolor']\n",
      " [6.2 2.9 4.3 1.3 'Versicolor']\n",
      " [5.1 2.5 3.0 1.1 'Versicolor']\n",
      " [5.7 2.8 4.5 1.3 'Versicolor']\n",
      " [5.4 3.0 4.5 1.5 'Versicolor']\n",
      " [5.6 3.0 4.5 1.5 'Versicolor']\n",
      " [4.9 2.4 3.3 1.0 'Versicolor']\n",
      " [6.2 2.2 4.5 1.5 'Versicolor']\n",
      " [5.6 2.5 3.9 1.1 'Versicolor']\n",
      " [6.6 2.9 4.6 1.3 'Versicolor']\n",
      " [5.9 3.0 4.2 1.5 'Versicolor']\n",
      " [5.0 2.3 3.3 1.0 'Versicolor']\n",
      " [6.1 2.9 4.7 1.4 'Versicolor']\n",
      " [7.0 3.2 4.7 1.4 'Versicolor']\n",
      " [5.9 3.2 4.8 1.8 'Versicolor']\n",
      " [5.7 2.8 4.1 1.3 'Versicolor']\n",
      " [5.7 3.0 4.2 1.2 'Versicolor']\n",
      " [5.5 2.4 3.7 1.0 'Versicolor']\n",
      " [6.3 2.3 4.4 1.3 'Versicolor']\n",
      " [6.0 2.9 4.5 1.5 'Versicolor']\n",
      " [6.7 3.1 4.7 1.5 'Versicolor']\n",
      " [5.8 2.7 3.9 1.2 'Versicolor']\n",
      " [5.5 2.6 4.4 1.2 'Versicolor']\n",
      " [5.5 2.4 3.8 1.1 'Versicolor']\n",
      " [5.5 2.3 4.0 1.3 'Versicolor']\n",
      " [6.4 2.8 5.6 2.1 'Virginica']\n",
      " [7.7 2.8 6.7 2.0 'Virginica']\n",
      " [7.3 2.9 6.3 1.8 'Virginica']\n",
      " [6.1 3.0 4.9 1.8 'Virginica']\n",
      " [6.7 3.1 5.6 2.4 'Virginica']\n",
      " [7.2 3.0 5.8 1.6 'Virginica']\n",
      " [7.2 3.2 6.0 1.8 'Virginica']\n",
      " [6.5 3.0 5.5 1.8 'Virginica']\n",
      " [5.6 2.8 4.9 2.0 'Virginica']\n",
      " [6.7 3.0 5.2 2.3 'Virginica']\n",
      " [6.4 2.7 5.3 1.9 'Virginica']\n",
      " [6.3 2.7 4.9 1.8 'Virginica']\n",
      " [6.4 3.2 5.3 2.3 'Virginica']\n",
      " [5.9 3.0 5.1 1.8 'Virginica']\n",
      " [7.1 3.0 5.9 2.1 'Virginica']\n",
      " [7.6 3.0 6.6 2.1 'Virginica']\n",
      " [6.2 2.8 4.8 1.8 'Virginica']\n",
      " [6.3 3.3 6.0 2.5 'Virginica']\n",
      " [7.4 2.8 6.1 1.9 'Virginica']\n",
      " [6.5 3.0 5.2 2.0 'Virginica']\n",
      " [6.9 3.1 5.1 2.3 'Virginica']\n",
      " [6.0 2.2 5.0 1.5 'Virginica']\n",
      " [6.9 3.2 5.7 2.3 'Virginica']\n",
      " [6.3 2.8 5.1 1.5 'Virginica']\n",
      " [7.7 2.6 6.9 2.3 'Virginica']\n",
      " [7.7 3.8 6.7 2.2 'Virginica']\n",
      " [6.9 3.1 5.4 2.1 'Virginica']\n",
      " [5.7 2.5 5.0 2.0 'Virginica']\n",
      " [6.5 3.2 5.1 2.0 'Virginica']\n",
      " [5.8 2.7 5.1 1.9 'Virginica']\n",
      " [6.7 2.5 5.8 1.8 'Virginica']\n",
      " [6.7 3.3 5.7 2.5 'Virginica']\n",
      " [6.8 3.0 5.5 2.1 'Virginica']\n",
      " [7.9 3.8 6.4 2.0 'Virginica']\n",
      " [6.5 3.0 5.8 2.2 'Virginica']\n",
      " [6.8 3.2 5.9 2.3 'Virginica']\n",
      " [6.4 2.8 5.6 2.2 'Virginica']]\n"
     ]
    }
   ],
   "source": [
    "#sorted\n",
    "print(train_set[train_set[:, 4].argsort()])"
   ],
   "metadata": {
    "collapsed": false,
    "pycharm": {
     "name": "#%%\n"
    }
   }
  },
  {
   "cell_type": "code",
   "execution_count": 212,
   "outputs": [
    {
     "name": "stdout",
     "output_type": "stream",
     "text": [
      "42\n",
      "93.33333333333333 %\n"
     ]
    }
   ],
   "source": [
    "good_predictions2 = 0\n",
    "len = test_set.shape[0]\n",
    "\n",
    "for i in range(len):\n",
    "    if classify_iris2(test_inputs[i][0], test_inputs[i][1], test_inputs[i][2], test_inputs[i][3]) == test_set[i][4]:\n",
    "        good_predictions2 += 1\n",
    "\n",
    "print(good_predictions2)\n",
    "print(good_predictions2/len*100, \"%\")"
   ],
   "metadata": {
    "collapsed": false,
    "pycharm": {
     "name": "#%%\n"
    }
   }
  },
  {
   "cell_type": "markdown",
   "source": [
    "Wyniki:\n",
    "42\n",
    "93.3%"
   ],
   "metadata": {
    "collapsed": false
   }
  },
  {
   "cell_type": "markdown",
   "source": [
    "zadanie 3"
   ],
   "metadata": {
    "collapsed": false
   }
  },
  {
   "cell_type": "markdown",
   "source": [
    "a) Podziel w losowy sposób bazę danych irysów na zbiór treningowy i zbiór\n",
    "testowy w proporcjach 70%/30%. Wyświetl oba zbiory. Podziel te zbiory na\n",
    "cztery części (inputy i class), jeśli jest taka potrzeba."
   ],
   "metadata": {
    "collapsed": false
   }
  },
  {
   "cell_type": "code",
   "execution_count": 156,
   "outputs": [],
   "source": [
    "df = pd.read_csv(\"iris.csv\")\n",
    "(train_set, test_set) = train_test_split(df.values, train_size=0.7,\n",
    "                                         random_state=274929)\n",
    "\n",
    "train_inputs = train_set[:, 0:4]\n",
    "train_classes = train_set[:, 4]\n",
    "test_inputs = test_set[:, 0:4]\n",
    "test_classes = test_set[:, 4]"
   ],
   "metadata": {
    "collapsed": false,
    "pycharm": {
     "name": "#%%\n"
    }
   }
  },
  {
   "cell_type": "markdown",
   "source": [
    "b) Zainicjuj drzewo decyzyjne metodą DecisionTreeClassifier."
   ],
   "metadata": {
    "collapsed": false
   }
  },
  {
   "cell_type": "code",
   "execution_count": 157,
   "outputs": [],
   "source": [
    "from sklearn.tree import DecisionTreeClassifier\n",
    "\n",
    "dtc = DecisionTreeClassifier()"
   ],
   "metadata": {
    "collapsed": false,
    "pycharm": {
     "name": "#%%\n"
    }
   }
  },
  {
   "cell_type": "markdown",
   "source": [
    "c) Wytrenuj drzewo decyzyjne na zbiorze treningowym, wykorzystując funkcję fit."
   ],
   "metadata": {
    "collapsed": false
   }
  },
  {
   "cell_type": "code",
   "execution_count": 213,
   "outputs": [
    {
     "data": {
      "text/plain": "DecisionTreeClassifier()"
     },
     "execution_count": 213,
     "metadata": {},
     "output_type": "execute_result"
    }
   ],
   "source": [
    "dtc.fit(train_inputs, train_classes)"
   ],
   "metadata": {
    "collapsed": false,
    "pycharm": {
     "name": "#%%\n"
    }
   }
  },
  {
   "cell_type": "markdown",
   "source": [
    "d) Wyświetl drzewo w formie tekstowej i/lub w formie graficznej. Jeśli masz\n",
    "problemy z tym podpunktem – pomiń go."
   ],
   "metadata": {
    "collapsed": false
   }
  },
  {
   "cell_type": "code",
   "execution_count": 214,
   "outputs": [
    {
     "name": "stdout",
     "output_type": "stream",
     "text": [
      "|--- petal width (cm) <= 0.80\n",
      "|   |--- class: Setosa\n",
      "|--- petal width (cm) >  0.80\n",
      "|   |--- petal length (cm) <= 4.85\n",
      "|   |   |--- petal width (cm) <= 1.70\n",
      "|   |   |   |--- class: Versicolor\n",
      "|   |   |--- petal width (cm) >  1.70\n",
      "|   |   |   |--- sepal width (cm) <= 3.00\n",
      "|   |   |   |   |--- class: Virginica\n",
      "|   |   |   |--- sepal width (cm) >  3.00\n",
      "|   |   |   |   |--- class: Versicolor\n",
      "|   |--- petal length (cm) >  4.85\n",
      "|   |   |--- petal width (cm) <= 1.70\n",
      "|   |   |   |--- petal width (cm) <= 1.55\n",
      "|   |   |   |   |--- class: Virginica\n",
      "|   |   |   |--- petal width (cm) >  1.55\n",
      "|   |   |   |   |--- petal length (cm) <= 5.45\n",
      "|   |   |   |   |   |--- class: Versicolor\n",
      "|   |   |   |   |--- petal length (cm) >  5.45\n",
      "|   |   |   |   |   |--- class: Virginica\n",
      "|   |   |--- petal width (cm) >  1.70\n",
      "|   |   |   |--- class: Virginica\n",
      "\n"
     ]
    }
   ],
   "source": [
    "from sklearn.tree import export_text\n",
    "\n",
    "feature_names = ['sepal length (cm)', 'sepal width (cm)', 'petal length (cm)', 'petal width (cm)']\n",
    "\n",
    "tree_to_print = export_text(dtc, feature_names=feature_names)\n",
    "print(tree_to_print)"
   ],
   "metadata": {
    "collapsed": false,
    "pycharm": {
     "name": "#%%\n"
    }
   }
  },
  {
   "cell_type": "markdown",
   "source": [
    "e) Dokonaj ewaluacji klasyfikatora: sprawdź jak drzewo poradzi sobie z rekordami\n",
    "ze zbioru testowego. Wyświetl dokładność klasyfikatora, czyli procent\n",
    "poprawnych odpowiedzi. Wykorzystaj do tego funkcję score lub predict."
   ],
   "metadata": {
    "collapsed": false
   }
  },
  {
   "cell_type": "code",
   "execution_count": 166,
   "outputs": [
    {
     "name": "stdout",
     "output_type": "stream",
     "text": [
      "0.9111111111111111\n",
      "['Versicolor' 'Virginica' 'Setosa' 'Virginica' 'Setosa' 'Versicolor'\n",
      " 'Versicolor' 'Virginica' 'Virginica' 'Setosa' 'Setosa' 'Versicolor'\n",
      " 'Setosa' 'Setosa' 'Virginica' 'Versicolor' 'Virginica' 'Virginica'\n",
      " 'Virginica' 'Virginica' 'Virginica' 'Virginica' 'Versicolor' 'Versicolor'\n",
      " 'Virginica' 'Setosa' 'Versicolor' 'Versicolor' 'Setosa' 'Virginica'\n",
      " 'Versicolor' 'Setosa' 'Setosa' 'Virginica' 'Versicolor' 'Setosa' 'Setosa'\n",
      " 'Setosa' 'Setosa' 'Setosa' 'Versicolor' 'Setosa' 'Setosa' 'Virginica'\n",
      " 'Versicolor']\n"
     ]
    }
   ],
   "source": [
    "test_score = dtc.score(test_inputs, test_classes)\n",
    "print(test_score)\n",
    "test_predict = dtc.predict(test_inputs)\n",
    "print(test_predict)"
   ],
   "metadata": {
    "collapsed": false,
    "pycharm": {
     "name": "#%%\n"
    }
   }
  },
  {
   "cell_type": "markdown",
   "source": [
    "f) Wyświetl macierz błędów (ang. confusion matrix), która zestawia liczby\n",
    "błędnych i poprawnych odpowiedzi, dla wszystkich klas."
   ],
   "metadata": {
    "collapsed": false
   }
  },
  {
   "cell_type": "code",
   "execution_count": 215,
   "outputs": [
    {
     "data": {
      "text/plain": "array([[17,  0,  0],\n       [ 0, 12,  1],\n       [ 0,  3, 12]], dtype=int64)"
     },
     "execution_count": 215,
     "metadata": {},
     "output_type": "execute_result"
    }
   ],
   "source": [
    "from sklearn.metrics import confusion_matrix\n",
    "\n",
    "confusion_matrix(test_classes, test_predict, labels=[\"Setosa\", \"Virginica\", \"Versicolor\"])"
   ],
   "metadata": {
    "collapsed": false,
    "pycharm": {
     "name": "#%%\n"
    }
   }
  },
  {
   "cell_type": "markdown",
   "source": [
    "Czy drzewo nauczone automatycznie jest lepsze niż Twoje drzewko stworzone ręcznie\n",
    "w zadaniu 2?\n",
    "Tak, Tutaj udało się osiągnąć 97.7%.\n",
    "Ja osiągnąłem 93.3%."
   ],
   "metadata": {
    "collapsed": false
   }
  },
  {
   "cell_type": "markdown",
   "source": [
    "Zadanie 4"
   ],
   "metadata": {
    "collapsed": false
   }
  },
  {
   "cell_type": "markdown",
   "source": [
    "a), b), c)"
   ],
   "metadata": {
    "collapsed": false
   }
  },
  {
   "cell_type": "code",
   "execution_count": null,
   "outputs": [],
   "source": [
    "import pandas as pd\n",
    "\n",
    "df = pd.read_csv(\"iris.csv\")\n",
    "\n",
    "print(df.values)"
   ],
   "metadata": {
    "collapsed": false,
    "pycharm": {
     "name": "#%%\n"
    }
   }
  },
  {
   "cell_type": "markdown",
   "source": [],
   "metadata": {
    "collapsed": false
   }
  }
 ],
 "metadata": {
  "kernelspec": {
   "display_name": "Python 3",
   "language": "python",
   "name": "python3"
  },
  "language_info": {
   "codemirror_mode": {
    "name": "ipython",
    "version": 2
   },
   "file_extension": ".py",
   "mimetype": "text/x-python",
   "name": "python",
   "nbconvert_exporter": "python",
   "pygments_lexer": "ipython2",
   "version": "2.7.6"
  }
 },
 "nbformat": 4,
 "nbformat_minor": 0
}