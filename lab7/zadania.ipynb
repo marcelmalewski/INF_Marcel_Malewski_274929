{
 "cells": [
  {
   "cell_type": "markdown",
   "source": [
    "Zadanie 1\n",
    "\n",
    "a) Ściągnij plik iris.csv i umieść go w katalogu z plikami pythonowymi.\n",
    "b) Użyj paczki pandas do wczytania tego pliku do Pythona i wyświetl bazę danych.\n",
    "c) W obiekcie df mamy bazę danych typu dataframe. Żeby bezpośrednio wejść\n",
    "do danych z tej bazy trzeba odwołać się do wartości (values)."
   ],
   "metadata": {
    "collapsed": false,
    "pycharm": {
     "name": "#%% md\n"
    }
   }
  },
  {
   "cell_type": "code",
   "execution_count": 31,
   "outputs": [
    {
     "name": "stdout",
     "output_type": "stream",
     "text": [
      "[[5.1 3.5 1.4 0.2 'Setosa']\n",
      " [4.9 3.0 1.4 0.2 'Setosa']\n",
      " [4.7 3.2 1.3 0.2 'Setosa']\n",
      " [4.6 3.1 1.5 0.2 'Setosa']\n",
      " [5.0 3.6 1.4 0.2 'Setosa']\n",
      " [5.4 3.9 1.7 0.4 'Setosa']\n",
      " [4.6 3.4 1.4 0.3 'Setosa']\n",
      " [5.0 3.4 1.5 0.2 'Setosa']\n",
      " [4.4 2.9 1.4 0.2 'Setosa']\n",
      " [4.9 3.1 1.5 0.1 'Setosa']\n",
      " [5.4 3.7 1.5 0.2 'Setosa']\n",
      " [4.8 3.4 1.6 0.2 'Setosa']\n",
      " [4.8 3.0 1.4 0.1 'Setosa']\n",
      " [4.3 3.0 1.1 0.1 'Setosa']\n",
      " [5.8 4.0 1.2 0.2 'Setosa']\n",
      " [5.7 4.4 1.5 0.4 'Setosa']\n",
      " [5.4 3.9 1.3 0.4 'Setosa']\n",
      " [5.1 3.5 1.4 0.3 'Setosa']\n",
      " [5.7 3.8 1.7 0.3 'Setosa']\n",
      " [5.1 3.8 1.5 0.3 'Setosa']\n",
      " [5.4 3.4 1.7 0.2 'Setosa']\n",
      " [5.1 3.7 1.5 0.4 'Setosa']\n",
      " [4.6 3.6 1.0 0.2 'Setosa']\n",
      " [5.1 3.3 1.7 0.5 'Setosa']\n",
      " [4.8 3.4 1.9 0.2 'Setosa']\n",
      " [5.0 3.0 1.6 0.2 'Setosa']\n",
      " [5.0 3.4 1.6 0.4 'Setosa']\n",
      " [5.2 3.5 1.5 0.2 'Setosa']\n",
      " [5.2 3.4 1.4 0.2 'Setosa']\n",
      " [4.7 3.2 1.6 0.2 'Setosa']\n",
      " [4.8 3.1 1.6 0.2 'Setosa']\n",
      " [5.4 3.4 1.5 0.4 'Setosa']\n",
      " [5.2 4.1 1.5 0.1 'Setosa']\n",
      " [5.5 4.2 1.4 0.2 'Setosa']\n",
      " [4.9 3.1 1.5 0.1 'Setosa']\n",
      " [5.0 3.2 1.2 0.2 'Setosa']\n",
      " [5.5 3.5 1.3 0.2 'Setosa']\n",
      " [4.9 3.1 1.5 0.1 'Setosa']\n",
      " [4.4 3.0 1.3 0.2 'Setosa']\n",
      " [5.1 3.4 1.5 0.2 'Setosa']\n",
      " [5.0 3.5 1.3 0.3 'Setosa']\n",
      " [4.5 2.3 1.3 0.3 'Setosa']\n",
      " [4.4 3.2 1.3 0.2 'Setosa']\n",
      " [5.0 3.5 1.6 0.6 'Setosa']\n",
      " [5.1 3.8 1.9 0.4 'Setosa']\n",
      " [4.8 3.0 1.4 0.3 'Setosa']\n",
      " [5.1 3.8 1.6 0.2 'Setosa']\n",
      " [4.6 3.2 1.4 0.2 'Setosa']\n",
      " [5.3 3.7 1.5 0.2 'Setosa']\n",
      " [5.0 3.3 1.4 0.2 'Setosa']\n",
      " [7.0 3.2 4.7 1.4 'Versicolor']\n",
      " [6.4 3.2 4.5 1.5 'Versicolor']\n",
      " [6.9 3.1 4.9 1.5 'Versicolor']\n",
      " [5.5 2.3 4.0 1.3 'Versicolor']\n",
      " [6.5 2.8 4.6 1.5 'Versicolor']\n",
      " [5.7 2.8 4.5 1.3 'Versicolor']\n",
      " [6.3 3.3 4.7 1.6 'Versicolor']\n",
      " [4.9 2.4 3.3 1.0 'Versicolor']\n",
      " [6.6 2.9 4.6 1.3 'Versicolor']\n",
      " [5.2 2.7 3.9 1.4 'Versicolor']\n",
      " [5.0 2.0 3.5 1.0 'Versicolor']\n",
      " [5.9 3.0 4.2 1.5 'Versicolor']\n",
      " [6.0 2.2 4.0 1.0 'Versicolor']\n",
      " [6.1 2.9 4.7 1.4 'Versicolor']\n",
      " [5.6 2.9 3.6 1.3 'Versicolor']\n",
      " [6.7 3.1 4.4 1.4 'Versicolor']\n",
      " [5.6 3.0 4.5 1.5 'Versicolor']\n",
      " [5.8 2.7 4.1 1.0 'Versicolor']\n",
      " [6.2 2.2 4.5 1.5 'Versicolor']\n",
      " [5.6 2.5 3.9 1.1 'Versicolor']\n",
      " [5.9 3.2 4.8 1.8 'Versicolor']\n",
      " [6.1 2.8 4.0 1.3 'Versicolor']\n",
      " [6.3 2.5 4.9 1.5 'Versicolor']\n",
      " [6.1 2.8 4.7 1.2 'Versicolor']\n",
      " [6.4 2.9 4.3 1.3 'Versicolor']\n",
      " [6.6 3.0 4.4 1.4 'Versicolor']\n",
      " [6.8 2.8 4.8 1.4 'Versicolor']\n",
      " [6.7 3.0 5.0 1.7 'Versicolor']\n",
      " [6.0 2.9 4.5 1.5 'Versicolor']\n",
      " [5.7 2.6 3.5 1.0 'Versicolor']\n",
      " [5.5 2.4 3.8 1.1 'Versicolor']\n",
      " [5.5 2.4 3.7 1.0 'Versicolor']\n",
      " [5.8 2.7 3.9 1.2 'Versicolor']\n",
      " [6.0 2.7 5.1 1.6 'Versicolor']\n",
      " [5.4 3.0 4.5 1.5 'Versicolor']\n",
      " [6.0 3.4 4.5 1.6 'Versicolor']\n",
      " [6.7 3.1 4.7 1.5 'Versicolor']\n",
      " [6.3 2.3 4.4 1.3 'Versicolor']\n",
      " [5.6 3.0 4.1 1.3 'Versicolor']\n",
      " [5.5 2.5 4.0 1.3 'Versicolor']\n",
      " [5.5 2.6 4.4 1.2 'Versicolor']\n",
      " [6.1 3.0 4.6 1.4 'Versicolor']\n",
      " [5.8 2.6 4.0 1.2 'Versicolor']\n",
      " [5.0 2.3 3.3 1.0 'Versicolor']\n",
      " [5.6 2.7 4.2 1.3 'Versicolor']\n",
      " [5.7 3.0 4.2 1.2 'Versicolor']\n",
      " [5.7 2.9 4.2 1.3 'Versicolor']\n",
      " [6.2 2.9 4.3 1.3 'Versicolor']\n",
      " [5.1 2.5 3.0 1.1 'Versicolor']\n",
      " [5.7 2.8 4.1 1.3 'Versicolor']\n",
      " [6.3 3.3 6.0 2.5 'Virginica']\n",
      " [5.8 2.7 5.1 1.9 'Virginica']\n",
      " [7.1 3.0 5.9 2.1 'Virginica']\n",
      " [6.3 2.9 5.6 1.8 'Virginica']\n",
      " [6.5 3.0 5.8 2.2 'Virginica']\n",
      " [7.6 3.0 6.6 2.1 'Virginica']\n",
      " [4.9 2.5 4.5 1.7 'Virginica']\n",
      " [7.3 2.9 6.3 1.8 'Virginica']\n",
      " [6.7 2.5 5.8 1.8 'Virginica']\n",
      " [7.2 3.6 6.1 2.5 'Virginica']\n",
      " [6.5 3.2 5.1 2.0 'Virginica']\n",
      " [6.4 2.7 5.3 1.9 'Virginica']\n",
      " [6.8 3.0 5.5 2.1 'Virginica']\n",
      " [5.7 2.5 5.0 2.0 'Virginica']\n",
      " [5.8 2.8 5.1 2.4 'Virginica']\n",
      " [6.4 3.2 5.3 2.3 'Virginica']\n",
      " [6.5 3.0 5.5 1.8 'Virginica']\n",
      " [7.7 3.8 6.7 2.2 'Virginica']\n",
      " [7.7 2.6 6.9 2.3 'Virginica']\n",
      " [6.0 2.2 5.0 1.5 'Virginica']\n",
      " [6.9 3.2 5.7 2.3 'Virginica']\n",
      " [5.6 2.8 4.9 2.0 'Virginica']\n",
      " [7.7 2.8 6.7 2.0 'Virginica']\n",
      " [6.3 2.7 4.9 1.8 'Virginica']\n",
      " [6.7 3.3 5.7 2.1 'Virginica']\n",
      " [7.2 3.2 6.0 1.8 'Virginica']\n",
      " [6.2 2.8 4.8 1.8 'Virginica']\n",
      " [6.1 3.0 4.9 1.8 'Virginica']\n",
      " [6.4 2.8 5.6 2.1 'Virginica']\n",
      " [7.2 3.0 5.8 1.6 'Virginica']\n",
      " [7.4 2.8 6.1 1.9 'Virginica']\n",
      " [7.9 3.8 6.4 2.0 'Virginica']\n",
      " [6.4 2.8 5.6 2.2 'Virginica']\n",
      " [6.3 2.8 5.1 1.5 'Virginica']\n",
      " [6.1 2.6 5.6 1.4 'Virginica']\n",
      " [7.7 3.0 6.1 2.3 'Virginica']\n",
      " [6.3 3.4 5.6 2.4 'Virginica']\n",
      " [6.4 3.1 5.5 1.8 'Virginica']\n",
      " [6.0 3.0 4.8 1.8 'Virginica']\n",
      " [6.9 3.1 5.4 2.1 'Virginica']\n",
      " [6.7 3.1 5.6 2.4 'Virginica']\n",
      " [6.9 3.1 5.1 2.3 'Virginica']\n",
      " [5.8 2.7 5.1 1.9 'Virginica']\n",
      " [6.8 3.2 5.9 2.3 'Virginica']\n",
      " [6.7 3.3 5.7 2.5 'Virginica']\n",
      " [6.7 3.0 5.2 2.3 'Virginica']\n",
      " [6.3 2.5 5.0 1.9 'Virginica']\n",
      " [6.5 3.0 5.2 2.0 'Virginica']\n",
      " [6.2 3.4 5.4 2.3 'Virginica']\n",
      " [5.9 3.0 5.1 1.8 'Virginica']]\n"
     ]
    }
   ],
   "source": [
    "import pandas as pd\n",
    "import numpy as np\n",
    "\n",
    "df = pd.read_csv(\"iris.csv\")\n",
    "\n",
    "print(df.values)"
   ],
   "metadata": {
    "collapsed": false,
    "pycharm": {
     "name": "#%%\n"
    }
   }
  },
  {
   "cell_type": "markdown",
   "source": [
    "d) Spróbujmy wyświetlić różne fragmenty danych."
   ],
   "metadata": {
    "collapsed": false,
    "pycharm": {
     "name": "#%% md\n"
    }
   }
  },
  {
   "cell_type": "code",
   "execution_count": 3,
   "outputs": [
    {
     "name": "stdout",
     "output_type": "stream",
     "text": [
      "[5.1 4.9 4.7 4.6 5.0 5.4 4.6 5.0 4.4 4.9 5.4 4.8 4.8 4.3 5.8 5.7 5.4 5.1\n",
      " 5.7 5.1 5.4 5.1 4.6 5.1 4.8 5.0 5.0 5.2 5.2 4.7 4.8 5.4 5.2 5.5 4.9 5.0\n",
      " 5.5 4.9 4.4 5.1 5.0 4.5 4.4 5.0 5.1 4.8 5.1 4.6 5.3 5.0 7.0 6.4 6.9 5.5\n",
      " 6.5 5.7 6.3 4.9 6.6 5.2 5.0 5.9 6.0 6.1 5.6 6.7 5.6 5.8 6.2 5.6 5.9 6.1\n",
      " 6.3 6.1 6.4 6.6 6.8 6.7 6.0 5.7 5.5 5.5 5.8 6.0 5.4 6.0 6.7 6.3 5.6 5.5\n",
      " 5.5 6.1 5.8 5.0 5.6 5.7 5.7 6.2 5.1 5.7 6.3 5.8 7.1 6.3 6.5 7.6 4.9 7.3\n",
      " 6.7 7.2 6.5 6.4 6.8 5.7 5.8 6.4 6.5 7.7 7.7 6.0 6.9 5.6 7.7 6.3 6.7 7.2\n",
      " 6.2 6.1 6.4 7.2 7.4 7.9 6.4 6.3 6.1 7.7 6.3 6.4 6.0 6.9 6.7 6.9 5.8 6.8\n",
      " 6.7 6.7 6.3 6.5 6.2 5.9]\n",
      "[[5.4 3.9 1.7 0.4 'Setosa']\n",
      " [4.6 3.4 1.4 0.3 'Setosa']\n",
      " [5.0 3.4 1.5 0.2 'Setosa']\n",
      " [4.4 2.9 1.4 0.2 'Setosa']\n",
      " [4.9 3.1 1.5 0.1 'Setosa']\n",
      " [5.4 3.7 1.5 0.2 'Setosa']]\n",
      "Setosa\n"
     ]
    }
   ],
   "source": [
    "#wszystkie wiersze, kolumna nr 0\n",
    "print(df.values[:, 0])\n",
    "#wiersze od 5 do 10, wszystkie kolumny\n",
    "print(df.values[5:11, :])\n",
    "#dane w komórce [1,4]\n",
    "print(df.values[1, 4])"
   ],
   "metadata": {
    "collapsed": false,
    "pycharm": {
     "name": "#%%\n"
    }
   }
  },
  {
   "cell_type": "markdown",
   "source": [
    "e) Pora na podział zbioru na zbiór testowy i treningowy. Wykorzystamy do tego\n",
    "funkcję train_test_split z paczki sklearn. Dodaj na górze programu odpowiedni"
   ],
   "metadata": {
    "collapsed": false,
    "pycharm": {
     "name": "#%% md\n"
    }
   }
  },
  {
   "cell_type": "code",
   "execution_count": 4,
   "outputs": [],
   "source": [
    "from sklearn.model_selection import train_test_split"
   ],
   "metadata": {
    "collapsed": false,
    "pycharm": {
     "name": "#%%\n"
    }
   }
  },
  {
   "cell_type": "markdown",
   "source": [
    "Następnie dopisz na dole programu funckję dzielącą zbiór df.values na dwa\n",
    "kawałki w proporcjach 70% i 30%, w losowy sposób."
   ],
   "metadata": {
    "collapsed": false,
    "pycharm": {
     "name": "#%% md\n"
    }
   }
  },
  {
   "cell_type": "code",
   "execution_count": 5,
   "outputs": [],
   "source": [
    "#podzial na zbior testowy (30%) i treningowy (70%), ziarno losowosci = 13\n",
    "(train_set, test_set) = train_test_split(df.values, train_size=0.7,\n",
    "                                         random_state=274929)"
   ],
   "metadata": {
    "collapsed": false,
    "pycharm": {
     "name": "#%%\n"
    }
   }
  },
  {
   "cell_type": "markdown",
   "source": [
    "f) Sprawdź jakie rekordy znalazły się w zbiorze testowym i ile ma on rekordów."
   ],
   "metadata": {
    "collapsed": false,
    "pycharm": {
     "name": "#%% md\n"
    }
   }
  },
  {
   "cell_type": "code",
   "execution_count": 6,
   "outputs": [
    {
     "name": "stdout",
     "output_type": "stream",
     "text": [
      "[[6.1 2.8 4.7 1.2 'Versicolor']\n",
      " [6.9 3.1 4.9 1.5 'Versicolor']\n",
      " [5.0 3.4 1.6 0.4 'Setosa']\n",
      " [4.9 2.5 4.5 1.7 'Virginica']\n",
      " [5.7 3.8 1.7 0.3 'Setosa']\n",
      " [6.1 2.6 5.6 1.4 'Virginica']\n",
      " [5.6 2.9 3.6 1.3 'Versicolor']\n",
      " [6.4 3.1 5.5 1.8 'Virginica']\n",
      " [5.8 2.7 5.1 1.9 'Virginica']\n",
      " [4.7 3.2 1.3 0.2 'Setosa']\n",
      " [4.4 3.0 1.3 0.2 'Setosa']\n",
      " [5.2 2.7 3.9 1.4 'Versicolor']\n",
      " [5.1 3.4 1.5 0.2 'Setosa']\n",
      " [4.8 3.4 1.6 0.2 'Setosa']\n",
      " [6.3 2.5 4.9 1.5 'Versicolor']\n",
      " [5.8 2.7 4.1 1.0 'Versicolor']\n",
      " [7.7 3.0 6.1 2.3 'Virginica']\n",
      " [6.2 3.4 5.4 2.3 'Virginica']\n",
      " [6.7 3.0 5.0 1.7 'Versicolor']\n",
      " [6.7 3.3 5.7 2.1 'Virginica']\n",
      " [5.8 2.8 5.1 2.4 'Virginica']\n",
      " [6.3 3.4 5.6 2.4 'Virginica']\n",
      " [5.8 2.6 4.0 1.2 'Versicolor']\n",
      " [5.5 2.5 4.0 1.3 'Versicolor']\n",
      " [6.3 2.5 5.0 1.9 'Virginica']\n",
      " [4.7 3.2 1.6 0.2 'Setosa']\n",
      " [6.0 3.4 4.5 1.6 'Versicolor']\n",
      " [5.0 2.0 3.5 1.0 'Versicolor']\n",
      " [4.5 2.3 1.3 0.3 'Setosa']\n",
      " [7.2 3.6 6.1 2.5 'Virginica']\n",
      " [6.6 3.0 4.4 1.4 'Versicolor']\n",
      " [4.8 3.4 1.9 0.2 'Setosa']\n",
      " [4.4 2.9 1.4 0.2 'Setosa']\n",
      " [6.3 2.9 5.6 1.8 'Virginica']\n",
      " [6.1 2.8 4.0 1.3 'Versicolor']\n",
      " [4.6 3.1 1.5 0.2 'Setosa']\n",
      " [4.6 3.4 1.4 0.3 'Setosa']\n",
      " [5.1 3.5 1.4 0.3 'Setosa']\n",
      " [5.4 3.7 1.5 0.2 'Setosa']\n",
      " [5.0 3.4 1.5 0.2 'Setosa']\n",
      " [6.5 2.8 4.6 1.5 'Versicolor']\n",
      " [5.0 3.5 1.3 0.3 'Setosa']\n",
      " [5.5 3.5 1.3 0.2 'Setosa']\n",
      " [6.0 3.0 4.8 1.8 'Virginica']\n",
      " [6.4 3.2 4.5 1.5 'Versicolor']]\n",
      "45\n"
     ]
    }
   ],
   "source": [
    "print(test_set)\n",
    "print(test_set.shape[0])"
   ],
   "metadata": {
    "collapsed": false,
    "pycharm": {
     "name": "#%%\n"
    }
   }
  },
  {
   "cell_type": "markdown",
   "source": [
    "g) Bywa, że zbiór testowy i treningowy trzeba podzielić dodatkowo na inputy\n",
    "(kolumny numeryczne) i klasy (odmiany irysów). Wówczas z 2 zbiorów danych\n",
    "zrobią się nam cztery."
   ],
   "metadata": {
    "collapsed": false,
    "pycharm": {
     "name": "#%% md\n"
    }
   }
  },
  {
   "cell_type": "code",
   "execution_count": 7,
   "outputs": [],
   "source": [
    "train_inputs = train_set[:, 0:4]\n",
    "train_classes = train_set[:, 4]\n",
    "test_inputs = test_set[:, 0:4]\n",
    "test_classes = test_set[:, 4]"
   ],
   "metadata": {
    "collapsed": false,
    "pycharm": {
     "name": "#%%\n"
    }
   }
  },
  {
   "cell_type": "markdown",
   "source": [
    "Zadanie 2"
   ],
   "metadata": {
    "collapsed": false,
    "pycharm": {
     "name": "#%% md\n"
    }
   }
  },
  {
   "cell_type": "markdown",
   "source": [
    "a) Rozpocznij od przygotowania zbioru treningowego i testowego, tak jak w\n",
    "poprzednim zadaniu."
   ],
   "metadata": {
    "collapsed": false,
    "pycharm": {
     "name": "#%% md\n"
    }
   }
  },
  {
   "cell_type": "code",
   "execution_count": 8,
   "outputs": [],
   "source": [
    "import pandas as pd\n",
    "from sklearn.model_selection import train_test_split\n",
    "\n",
    "df = pd.read_csv(\"iris.csv\")\n",
    "(train_set, test_set) = train_test_split(df.values, train_size=0.7,\n",
    "                                         random_state=274929)"
   ],
   "metadata": {
    "collapsed": false,
    "pycharm": {
     "name": "#%%\n"
    }
   }
  },
  {
   "cell_type": "markdown",
   "source": [
    "b) Napiszemy w Pythonie funkcję, która na podstawie czterech numerycznych\n",
    "parametrów irysa odgadnie jego gatunek wykorzystując do tego jedynie dwie\n",
    "instrukcje if, elif oraz else (jednokrotnie)."
   ],
   "metadata": {
    "collapsed": false,
    "pycharm": {
     "name": "#%% md\n"
    }
   }
  },
  {
   "cell_type": "code",
   "execution_count": 9,
   "outputs": [],
   "source": [
    "def classify_iris(sl, sw, pl, pw):\n",
    "    if sl > 4:\n",
    "        return(\"Setosa\")\n",
    "    elif pl <= 5:\n",
    "        return(\"Virginica\")\n",
    "    else:\n",
    "        return(\"Versicolor\")"
   ],
   "metadata": {
    "collapsed": false,
    "pycharm": {
     "name": "#%%\n"
    }
   }
  },
  {
   "cell_type": "markdown",
   "source": [
    "c)"
   ],
   "metadata": {
    "collapsed": false,
    "pycharm": {
     "name": "#%% md\n"
    }
   }
  },
  {
   "cell_type": "code",
   "execution_count": 10,
   "outputs": [
    {
     "name": "stdout",
     "output_type": "stream",
     "text": [
      "17\n",
      "37.77777777777778 %\n"
     ]
    }
   ],
   "source": [
    "good_predictions = 0\n",
    "len = test_set.shape[0]\n",
    "\n",
    "for i in range(len):\n",
    "    if classify_iris(test_inputs[i][0], test_inputs[i][1], test_inputs[i][2], test_inputs[i][3]) == test_set[i][4]:\n",
    "        good_predictions += 1\n",
    "\n",
    "print(good_predictions)\n",
    "print(good_predictions/len*100, \"%\")"
   ],
   "metadata": {
    "collapsed": false,
    "pycharm": {
     "name": "#%%\n"
    }
   }
  },
  {
   "cell_type": "markdown",
   "source": [
    "Wyniki:\n",
    "17\n",
    "37.77777777777778 %"
   ],
   "metadata": {
    "collapsed": false,
    "pycharm": {
     "name": "#%% md\n"
    }
   }
  },
  {
   "cell_type": "markdown",
   "source": [
    "d) Poprawiony klasyfikator."
   ],
   "metadata": {
    "collapsed": false,
    "pycharm": {
     "name": "#%% md\n"
    }
   }
  },
  {
   "cell_type": "code",
   "execution_count": 11,
   "outputs": [],
   "source": [
    "def classify_iris2(sl, sw, pl, pw):\n",
    "    if pw < 1:\n",
    "        return(\"Setosa\")\n",
    "    elif pl > 4.8 and pw > 1.7:\n",
    "        return(\"Virginica\")\n",
    "    else:\n",
    "        return(\"Versicolor\")"
   ],
   "metadata": {
    "collapsed": false,
    "pycharm": {
     "name": "#%%\n"
    }
   }
  },
  {
   "cell_type": "code",
   "execution_count": 12,
   "outputs": [
    {
     "name": "stdout",
     "output_type": "stream",
     "text": [
      "[[5.0 3.6 1.4 0.2 'Setosa']\n",
      " [5.2 4.1 1.5 0.1 'Setosa']\n",
      " [5.0 3.5 1.6 0.6 'Setosa']\n",
      " [4.8 3.0 1.4 0.3 'Setosa']\n",
      " [5.5 4.2 1.4 0.2 'Setosa']\n",
      " [5.1 3.8 1.9 0.4 'Setosa']\n",
      " [5.1 3.5 1.4 0.2 'Setosa']\n",
      " [5.1 3.8 1.6 0.2 'Setosa']\n",
      " [4.8 3.0 1.4 0.1 'Setosa']\n",
      " [4.6 3.2 1.4 0.2 'Setosa']\n",
      " [4.8 3.1 1.6 0.2 'Setosa']\n",
      " [5.4 3.4 1.7 0.2 'Setosa']\n",
      " [5.0 3.2 1.2 0.2 'Setosa']\n",
      " [4.9 3.1 1.5 0.1 'Setosa']\n",
      " [5.4 3.9 1.7 0.4 'Setosa']\n",
      " [5.2 3.4 1.4 0.2 'Setosa']\n",
      " [5.1 3.7 1.5 0.4 'Setosa']\n",
      " [5.7 4.4 1.5 0.4 'Setosa']\n",
      " [4.4 3.2 1.3 0.2 'Setosa']\n",
      " [5.4 3.4 1.5 0.4 'Setosa']\n",
      " [5.1 3.3 1.7 0.5 'Setosa']\n",
      " [5.8 4.0 1.2 0.2 'Setosa']\n",
      " [4.9 3.0 1.4 0.2 'Setosa']\n",
      " [5.0 3.3 1.4 0.2 'Setosa']\n",
      " [5.0 3.0 1.6 0.2 'Setosa']\n",
      " [4.3 3.0 1.1 0.1 'Setosa']\n",
      " [5.3 3.7 1.5 0.2 'Setosa']\n",
      " [5.2 3.5 1.5 0.2 'Setosa']\n",
      " [5.4 3.9 1.3 0.4 'Setosa']\n",
      " [5.1 3.8 1.5 0.3 'Setosa']\n",
      " [4.9 3.1 1.5 0.1 'Setosa']\n",
      " [4.9 3.1 1.5 0.1 'Setosa']\n",
      " [4.6 3.6 1.0 0.2 'Setosa']\n",
      " [6.0 2.7 5.1 1.6 'Versicolor']\n",
      " [6.7 3.1 4.4 1.4 'Versicolor']\n",
      " [6.0 2.2 4.0 1.0 'Versicolor']\n",
      " [5.6 2.7 4.2 1.3 'Versicolor']\n",
      " [6.4 2.9 4.3 1.3 'Versicolor']\n",
      " [5.6 3.0 4.1 1.3 'Versicolor']\n",
      " [5.7 2.6 3.5 1.0 'Versicolor']\n",
      " [6.3 3.3 4.7 1.6 'Versicolor']\n",
      " [6.1 3.0 4.6 1.4 'Versicolor']\n",
      " [6.8 2.8 4.8 1.4 'Versicolor']\n",
      " [5.7 2.9 4.2 1.3 'Versicolor']\n",
      " [6.2 2.9 4.3 1.3 'Versicolor']\n",
      " [5.1 2.5 3.0 1.1 'Versicolor']\n",
      " [5.7 2.8 4.5 1.3 'Versicolor']\n",
      " [5.4 3.0 4.5 1.5 'Versicolor']\n",
      " [5.6 3.0 4.5 1.5 'Versicolor']\n",
      " [4.9 2.4 3.3 1.0 'Versicolor']\n",
      " [6.2 2.2 4.5 1.5 'Versicolor']\n",
      " [5.6 2.5 3.9 1.1 'Versicolor']\n",
      " [6.6 2.9 4.6 1.3 'Versicolor']\n",
      " [5.9 3.0 4.2 1.5 'Versicolor']\n",
      " [5.0 2.3 3.3 1.0 'Versicolor']\n",
      " [6.1 2.9 4.7 1.4 'Versicolor']\n",
      " [7.0 3.2 4.7 1.4 'Versicolor']\n",
      " [5.9 3.2 4.8 1.8 'Versicolor']\n",
      " [5.7 2.8 4.1 1.3 'Versicolor']\n",
      " [5.7 3.0 4.2 1.2 'Versicolor']\n",
      " [5.5 2.4 3.7 1.0 'Versicolor']\n",
      " [6.3 2.3 4.4 1.3 'Versicolor']\n",
      " [6.0 2.9 4.5 1.5 'Versicolor']\n",
      " [6.7 3.1 4.7 1.5 'Versicolor']\n",
      " [5.8 2.7 3.9 1.2 'Versicolor']\n",
      " [5.5 2.6 4.4 1.2 'Versicolor']\n",
      " [5.5 2.4 3.8 1.1 'Versicolor']\n",
      " [5.5 2.3 4.0 1.3 'Versicolor']\n",
      " [6.4 2.8 5.6 2.1 'Virginica']\n",
      " [7.7 2.8 6.7 2.0 'Virginica']\n",
      " [7.3 2.9 6.3 1.8 'Virginica']\n",
      " [6.1 3.0 4.9 1.8 'Virginica']\n",
      " [6.7 3.1 5.6 2.4 'Virginica']\n",
      " [7.2 3.0 5.8 1.6 'Virginica']\n",
      " [7.2 3.2 6.0 1.8 'Virginica']\n",
      " [6.5 3.0 5.5 1.8 'Virginica']\n",
      " [5.6 2.8 4.9 2.0 'Virginica']\n",
      " [6.7 3.0 5.2 2.3 'Virginica']\n",
      " [6.4 2.7 5.3 1.9 'Virginica']\n",
      " [6.3 2.7 4.9 1.8 'Virginica']\n",
      " [6.4 3.2 5.3 2.3 'Virginica']\n",
      " [5.9 3.0 5.1 1.8 'Virginica']\n",
      " [7.1 3.0 5.9 2.1 'Virginica']\n",
      " [7.6 3.0 6.6 2.1 'Virginica']\n",
      " [6.2 2.8 4.8 1.8 'Virginica']\n",
      " [6.3 3.3 6.0 2.5 'Virginica']\n",
      " [7.4 2.8 6.1 1.9 'Virginica']\n",
      " [6.5 3.0 5.2 2.0 'Virginica']\n",
      " [6.9 3.1 5.1 2.3 'Virginica']\n",
      " [6.0 2.2 5.0 1.5 'Virginica']\n",
      " [6.9 3.2 5.7 2.3 'Virginica']\n",
      " [6.3 2.8 5.1 1.5 'Virginica']\n",
      " [7.7 2.6 6.9 2.3 'Virginica']\n",
      " [7.7 3.8 6.7 2.2 'Virginica']\n",
      " [6.9 3.1 5.4 2.1 'Virginica']\n",
      " [5.7 2.5 5.0 2.0 'Virginica']\n",
      " [6.5 3.2 5.1 2.0 'Virginica']\n",
      " [5.8 2.7 5.1 1.9 'Virginica']\n",
      " [6.7 2.5 5.8 1.8 'Virginica']\n",
      " [6.7 3.3 5.7 2.5 'Virginica']\n",
      " [6.8 3.0 5.5 2.1 'Virginica']\n",
      " [7.9 3.8 6.4 2.0 'Virginica']\n",
      " [6.5 3.0 5.8 2.2 'Virginica']\n",
      " [6.8 3.2 5.9 2.3 'Virginica']\n",
      " [6.4 2.8 5.6 2.2 'Virginica']]\n"
     ]
    }
   ],
   "source": [
    "#sorted\n",
    "print(train_set[train_set[:, 4].argsort()])"
   ],
   "metadata": {
    "collapsed": false,
    "pycharm": {
     "name": "#%%\n"
    }
   }
  },
  {
   "cell_type": "code",
   "execution_count": 13,
   "outputs": [
    {
     "name": "stdout",
     "output_type": "stream",
     "text": [
      "42\n",
      "93.33333333333333 %\n"
     ]
    }
   ],
   "source": [
    "good_predictions2 = 0\n",
    "len = test_set.shape[0]\n",
    "\n",
    "for i in range(len):\n",
    "    if classify_iris2(test_inputs[i][0], test_inputs[i][1], test_inputs[i][2], test_inputs[i][3]) == test_set[i][4]:\n",
    "        good_predictions2 += 1\n",
    "\n",
    "print(good_predictions2)\n",
    "print(good_predictions2/len*100, \"%\")"
   ],
   "metadata": {
    "collapsed": false,
    "pycharm": {
     "name": "#%%\n"
    }
   }
  },
  {
   "cell_type": "markdown",
   "source": [
    "Wyniki:\n",
    "42\n",
    "93.3%"
   ],
   "metadata": {
    "collapsed": false,
    "pycharm": {
     "name": "#%% md\n"
    }
   }
  },
  {
   "cell_type": "markdown",
   "source": [
    "zadanie 3"
   ],
   "metadata": {
    "collapsed": false,
    "pycharm": {
     "name": "#%% md\n"
    }
   }
  },
  {
   "cell_type": "markdown",
   "source": [
    "a) Podziel w losowy sposób bazę danych irysów na zbiór treningowy i zbiór\n",
    "testowy w proporcjach 70%/30%. Wyświetl oba zbiory. Podziel te zbiory na\n",
    "cztery części (inputy i class), jeśli jest taka potrzeba."
   ],
   "metadata": {
    "collapsed": false,
    "pycharm": {
     "name": "#%% md\n"
    }
   }
  },
  {
   "cell_type": "code",
   "execution_count": 14,
   "outputs": [],
   "source": [
    "df = pd.read_csv(\"iris.csv\")\n",
    "(train_set, test_set) = train_test_split(df.values, train_size=0.7,\n",
    "                                         random_state=274929)\n",
    "\n",
    "train_inputs = train_set[:, 0:4]\n",
    "train_classes = train_set[:, 4]\n",
    "test_inputs = test_set[:, 0:4]\n",
    "test_classes = test_set[:, 4]"
   ],
   "metadata": {
    "collapsed": false,
    "pycharm": {
     "name": "#%%\n"
    }
   }
  },
  {
   "cell_type": "markdown",
   "source": [
    "b) Zainicjuj drzewo decyzyjne metodą DecisionTreeClassifier."
   ],
   "metadata": {
    "collapsed": false,
    "pycharm": {
     "name": "#%% md\n"
    }
   }
  },
  {
   "cell_type": "code",
   "execution_count": 15,
   "outputs": [],
   "source": [
    "from sklearn.tree import DecisionTreeClassifier\n",
    "\n",
    "dtc = DecisionTreeClassifier()"
   ],
   "metadata": {
    "collapsed": false,
    "pycharm": {
     "name": "#%%\n"
    }
   }
  },
  {
   "cell_type": "markdown",
   "source": [
    "c) Wytrenuj drzewo decyzyjne na zbiorze treningowym, wykorzystując funkcję fit."
   ],
   "metadata": {
    "collapsed": false,
    "pycharm": {
     "name": "#%% md\n"
    }
   }
  },
  {
   "cell_type": "code",
   "execution_count": 16,
   "outputs": [
    {
     "data": {
      "text/plain": "DecisionTreeClassifier()"
     },
     "execution_count": 16,
     "metadata": {},
     "output_type": "execute_result"
    }
   ],
   "source": [
    "dtc.fit(train_inputs, train_classes)"
   ],
   "metadata": {
    "collapsed": false,
    "pycharm": {
     "name": "#%%\n"
    }
   }
  },
  {
   "cell_type": "markdown",
   "source": [
    "d) Wyświetl drzewo w formie tekstowej i/lub w formie graficznej. Jeśli masz\n",
    "problemy z tym podpunktem – pomiń go."
   ],
   "metadata": {
    "collapsed": false,
    "pycharm": {
     "name": "#%% md\n"
    }
   }
  },
  {
   "cell_type": "code",
   "execution_count": 17,
   "outputs": [
    {
     "name": "stdout",
     "output_type": "stream",
     "text": [
      "|--- petal length (cm) <= 2.45\n",
      "|   |--- class: Setosa\n",
      "|--- petal length (cm) >  2.45\n",
      "|   |--- petal length (cm) <= 4.85\n",
      "|   |   |--- petal width (cm) <= 1.70\n",
      "|   |   |   |--- class: Versicolor\n",
      "|   |   |--- petal width (cm) >  1.70\n",
      "|   |   |   |--- sepal length (cm) <= 6.05\n",
      "|   |   |   |   |--- class: Versicolor\n",
      "|   |   |   |--- sepal length (cm) >  6.05\n",
      "|   |   |   |   |--- class: Virginica\n",
      "|   |--- petal length (cm) >  4.85\n",
      "|   |   |--- petal width (cm) <= 1.70\n",
      "|   |   |   |--- petal width (cm) <= 1.55\n",
      "|   |   |   |   |--- class: Virginica\n",
      "|   |   |   |--- petal width (cm) >  1.55\n",
      "|   |   |   |   |--- sepal length (cm) <= 6.60\n",
      "|   |   |   |   |   |--- class: Versicolor\n",
      "|   |   |   |   |--- sepal length (cm) >  6.60\n",
      "|   |   |   |   |   |--- class: Virginica\n",
      "|   |   |--- petal width (cm) >  1.70\n",
      "|   |   |   |--- class: Virginica\n",
      "\n"
     ]
    }
   ],
   "source": [
    "from sklearn.tree import export_text\n",
    "\n",
    "feature_names = ['sepal length (cm)', 'sepal width (cm)', 'petal length (cm)', 'petal width (cm)']\n",
    "\n",
    "tree_to_print = export_text(dtc, feature_names=feature_names)\n",
    "print(tree_to_print)"
   ],
   "metadata": {
    "collapsed": false,
    "pycharm": {
     "name": "#%%\n"
    }
   }
  },
  {
   "cell_type": "markdown",
   "source": [
    "e) Dokonaj ewaluacji klasyfikatora: sprawdź jak drzewo poradzi sobie z rekordami\n",
    "ze zbioru testowego. Wyświetl dokładność klasyfikatora, czyli procent\n",
    "poprawnych odpowiedzi. Wykorzystaj do tego funkcję score lub predict."
   ],
   "metadata": {
    "collapsed": false,
    "pycharm": {
     "name": "#%% md\n"
    }
   }
  },
  {
   "cell_type": "code",
   "execution_count": 18,
   "outputs": [
    {
     "name": "stdout",
     "output_type": "stream",
     "text": [
      "0.8888888888888888\n",
      "['Versicolor' 'Virginica' 'Setosa' 'Versicolor' 'Setosa' 'Virginica'\n",
      " 'Versicolor' 'Virginica' 'Virginica' 'Setosa' 'Setosa' 'Versicolor'\n",
      " 'Setosa' 'Setosa' 'Virginica' 'Versicolor' 'Virginica' 'Virginica'\n",
      " 'Virginica' 'Virginica' 'Virginica' 'Virginica' 'Versicolor' 'Versicolor'\n",
      " 'Virginica' 'Setosa' 'Versicolor' 'Versicolor' 'Setosa' 'Virginica'\n",
      " 'Versicolor' 'Setosa' 'Setosa' 'Virginica' 'Versicolor' 'Setosa' 'Setosa'\n",
      " 'Setosa' 'Setosa' 'Setosa' 'Versicolor' 'Setosa' 'Setosa' 'Versicolor'\n",
      " 'Versicolor']\n"
     ]
    }
   ],
   "source": [
    "test_score = dtc.score(test_inputs, test_classes)\n",
    "print(test_score)\n",
    "test_predict = dtc.predict(test_inputs)\n",
    "print(test_predict)"
   ],
   "metadata": {
    "collapsed": false,
    "pycharm": {
     "name": "#%%\n"
    }
   }
  },
  {
   "cell_type": "markdown",
   "source": [
    "f) Wyświetl macierz błędów (ang. confusion matrix), która zestawia liczby\n",
    "błędnych i poprawnych odpowiedzi, dla wszystkich klas."
   ],
   "metadata": {
    "collapsed": false,
    "pycharm": {
     "name": "#%% md\n"
    }
   }
  },
  {
   "cell_type": "code",
   "execution_count": 19,
   "outputs": [
    {
     "data": {
      "text/plain": "array([[17,  0,  0],\n       [ 0, 11,  2],\n       [ 0,  3, 12]], dtype=int64)"
     },
     "execution_count": 19,
     "metadata": {},
     "output_type": "execute_result"
    }
   ],
   "source": [
    "from sklearn.metrics import confusion_matrix\n",
    "\n",
    "confusion_matrix(test_classes, test_predict, labels=[\"Setosa\", \"Virginica\", \"Versicolor\"])"
   ],
   "metadata": {
    "collapsed": false,
    "pycharm": {
     "name": "#%%\n"
    }
   }
  },
  {
   "cell_type": "markdown",
   "source": [
    "Czy drzewo nauczone automatycznie jest lepsze niż Twoje drzewko stworzone ręcznie\n",
    "w zadaniu 2?\n",
    "Tak, Tutaj udało się osiągnąć 97.7%.\n",
    "Ja osiągnąłem 93.3%."
   ],
   "metadata": {
    "collapsed": false,
    "pycharm": {
     "name": "#%% md\n"
    }
   }
  },
  {
   "cell_type": "markdown",
   "source": [
    "Zadanie 4"
   ],
   "metadata": {
    "collapsed": false,
    "pycharm": {
     "name": "#%% md\n"
    }
   }
  },
  {
   "cell_type": "markdown",
   "source": [
    "Najpierw mój klasyfikator:"
   ],
   "metadata": {
    "collapsed": false,
    "pycharm": {
     "name": "#%% md\n"
    }
   }
  },
  {
   "cell_type": "code",
   "execution_count": 62,
   "outputs": [],
   "source": [
    "def classify_diabetes(pt, gc, bp, st, insulin, mi, pf, age):\n",
    "    if age > 35 and gc > 123:\n",
    "        return \"tested_positive\"\n",
    "    else:\n",
    "        return \"tested_negative\""
   ],
   "metadata": {
    "collapsed": false,
    "pycharm": {
     "name": "#%%\n"
    }
   }
  },
  {
   "cell_type": "code",
   "execution_count": 63,
   "outputs": [
    {
     "name": "stdout",
     "output_type": "stream",
     "text": [
      "163\n",
      "70.56277056277057 %\n"
     ]
    }
   ],
   "source": [
    "df2 = pd.read_csv(\"diabetes.csv\")\n",
    "(train_set2, test_set2) = train_test_split(df2.values, train_size=0.7,\n",
    "                                         random_state=274929)\n",
    "\n",
    "train_inputs2 = train_set2[:, 0:8]\n",
    "train_classes2 = train_set2[:, 8]\n",
    "test_inputs2 = test_set2[:, 0:8]\n",
    "test_classes2 = test_set2[:, 8]\n",
    "\n",
    "good_predictions = 0\n",
    "len = test_set2.shape[0]\n",
    "\n",
    "for i in range(len):\n",
    "    if classify_diabetes(test_inputs2[i][0], test_inputs2[i][1], test_inputs2[i][2], test_inputs2[i][3], test_inputs2[i][4], test_inputs2[i][5], test_inputs2[i][6], test_inputs2[i][7]) == test_set2[i][8]:\n",
    "        good_predictions += 1\n",
    "\n",
    "print(good_predictions)\n",
    "print(good_predictions/len*100, \"%\")"
   ],
   "metadata": {
    "collapsed": false,
    "pycharm": {
     "name": "#%%\n"
    }
   }
  },
  {
   "cell_type": "markdown",
   "source": [
    "Wyniki:\n",
    "163\n",
    "70.56%"
   ],
   "metadata": {
    "collapsed": false,
    "pycharm": {
     "name": "#%% md\n"
    }
   }
  },
  {
   "cell_type": "markdown",
   "source": [
    "Wypisanie posortowanych danych dla ułatwienia znajdywania zależności gołym okiem."
   ],
   "metadata": {
    "collapsed": false,
    "pycharm": {
     "name": "#%% md\n"
    }
   }
  },
  {
   "cell_type": "code",
   "execution_count": 32,
   "outputs": [
    {
     "name": "stdout",
     "output_type": "stream",
     "text": [
      "[[1 116 70 28 0 27.4 0.204 21 'tested_negative']\n",
      " [4 118 70 0 0 44.5 0.904 26 'tested_negative']\n",
      " [6 103 72 32 190 37.7 0.324 55 'tested_negative']\n",
      " [1 87 68 34 77 37.6 0.401 24 'tested_negative']\n",
      " [1 81 74 41 57 46.3 1.096 32 'tested_negative']\n",
      " [1 79 75 30 0 32.0 0.396 22 'tested_negative']\n",
      " [2 122 52 43 158 36.2 0.816 28 'tested_negative']\n",
      " [0 137 70 38 0 33.2 0.17 22 'tested_negative']\n",
      " [4 129 86 20 270 35.1 0.231 23 'tested_negative']\n",
      " [3 116 74 15 105 26.3 0.107 24 'tested_negative']\n",
      " [4 112 78 40 0 39.4 0.236 38 'tested_negative']\n",
      " [0 108 68 20 0 27.3 0.787 32 'tested_negative']\n",
      " [3 106 72 0 0 25.8 0.207 27 'tested_negative']\n",
      " [3 148 66 25 0 32.5 0.256 22 'tested_negative']\n",
      " [2 175 88 0 0 22.9 0.326 22 'tested_negative']\n",
      " [3 103 72 30 152 27.6 0.73 27 'tested_negative']\n",
      " [4 97 60 23 0 28.2 0.443 22 'tested_negative']\n",
      " [8 126 88 36 108 38.5 0.349 49 'tested_negative']\n",
      " [7 94 64 25 79 33.3 0.738 41 'tested_negative']\n",
      " [4 129 60 12 231 27.5 0.527 31 'tested_negative']\n",
      " [1 144 82 40 0 41.3 0.607 28 'tested_negative']\n",
      " [2 119 0 0 0 19.6 0.832 72 'tested_negative']\n",
      " [5 126 78 27 22 29.6 0.439 40 'tested_negative']\n",
      " [1 97 70 15 0 18.2 0.147 21 'tested_negative']\n",
      " [0 165 90 33 680 52.3 0.427 23 'tested_negative']\n",
      " [1 0 68 35 0 32.0 0.389 22 'tested_negative']\n",
      " [7 105 0 0 0 0.0 0.305 24 'tested_negative']\n",
      " [1 106 70 28 135 34.2 0.142 22 'tested_negative']\n",
      " [5 106 82 30 0 39.5 0.286 38 'tested_negative']\n",
      " [2 125 60 20 140 33.8 0.088 31 'tested_negative']\n",
      " [4 99 72 17 0 25.6 0.294 28 'tested_negative']\n",
      " [0 126 84 29 215 30.7 0.52 24 'tested_negative']\n",
      " [5 143 78 0 0 45.0 0.19 47 'tested_negative']\n",
      " [5 128 80 0 0 34.6 0.144 45 'tested_negative']\n",
      " [4 128 70 0 0 34.3 0.303 24 'tested_negative']\n",
      " [10 75 82 0 0 33.3 0.263 38 'tested_negative']\n",
      " [1 90 62 12 43 27.2 0.58 24 'tested_negative']\n",
      " [3 78 70 0 0 32.5 0.27 39 'tested_negative']\n",
      " [1 143 86 30 330 30.1 0.892 23 'tested_negative']\n",
      " [1 88 78 29 76 32.0 0.365 29 'tested_negative']\n",
      " [2 56 56 28 45 24.2 0.332 22 'tested_negative']\n",
      " [0 107 76 0 0 45.3 0.686 24 'tested_negative']\n",
      " [7 142 60 33 190 28.8 0.687 61 'tested_negative']\n",
      " [5 103 108 37 0 39.2 0.305 65 'tested_negative']\n",
      " [6 111 64 39 0 34.2 0.26 24 'tested_negative']\n",
      " [0 93 60 0 0 35.3 0.263 25 'tested_negative']\n",
      " [1 71 48 18 76 20.4 0.323 22 'tested_negative']\n",
      " [3 82 70 0 0 21.1 0.389 25 'tested_negative']\n",
      " [11 85 74 0 0 30.1 0.3 35 'tested_negative']\n",
      " [2 100 68 25 71 38.5 0.324 26 'tested_negative']\n",
      " [1 89 76 34 37 31.2 0.192 23 'tested_negative']\n",
      " [0 95 80 45 92 36.5 0.33 26 'tested_negative']\n",
      " [1 136 74 50 204 37.4 0.399 24 'tested_negative']\n",
      " [1 119 44 47 63 35.5 0.28 25 'tested_negative']\n",
      " [0 123 88 37 0 35.2 0.197 29 'tested_negative']\n",
      " [8 110 76 0 0 27.8 0.237 58 'tested_negative']\n",
      " [6 107 88 0 0 36.8 0.727 31 'tested_negative']\n",
      " [13 106 72 54 0 36.6 0.178 45 'tested_negative']\n",
      " [4 144 58 28 140 29.5 0.287 37 'tested_negative']\n",
      " [0 139 62 17 210 22.1 0.207 21 'tested_negative']\n",
      " [1 120 80 48 200 38.9 1.162 41 'tested_negative']\n",
      " [1 117 60 23 106 33.8 0.466 27 'tested_negative']\n",
      " [2 94 76 18 66 31.6 0.649 23 'tested_negative']\n",
      " [1 93 56 11 0 22.5 0.417 22 'tested_negative']\n",
      " [2 101 58 17 265 24.2 0.614 23 'tested_negative']\n",
      " [3 126 88 41 235 39.3 0.704 27 'tested_negative']\n",
      " [0 93 100 39 72 43.4 1.021 35 'tested_negative']\n",
      " [0 120 74 18 63 30.5 0.285 26 'tested_negative']\n",
      " [0 105 68 22 0 20.0 0.236 22 'tested_negative']\n",
      " [10 179 70 0 0 35.1 0.2 37 'tested_negative']\n",
      " [6 165 68 26 168 33.6 0.631 49 'tested_negative']\n",
      " [2 87 58 16 52 32.7 0.166 25 'tested_negative']\n",
      " [1 109 38 18 120 23.1 0.407 26 'tested_negative']\n",
      " [0 101 64 17 0 21.0 0.252 21 'tested_negative']\n",
      " [1 112 80 45 132 34.8 0.217 24 'tested_negative']\n",
      " [6 103 66 0 0 24.3 0.249 29 'tested_negative']\n",
      " [0 95 64 39 105 44.6 0.366 22 'tested_negative']\n",
      " [1 107 72 30 82 30.8 0.821 24 'tested_negative']\n",
      " [3 100 68 23 81 31.6 0.949 28 'tested_negative']\n",
      " [0 86 68 32 0 35.8 0.238 25 'tested_negative']\n",
      " [2 88 58 26 16 28.4 0.766 22 'tested_negative']\n",
      " [4 120 68 0 0 29.6 0.709 34 'tested_negative']\n",
      " [2 99 60 17 160 36.6 0.453 21 'tested_negative']\n",
      " [1 90 68 8 0 24.5 1.138 36 'tested_negative']\n",
      " [5 78 48 0 0 33.7 0.654 25 'tested_negative']\n",
      " [6 93 50 30 64 28.7 0.356 23 'tested_negative']\n",
      " [4 114 64 0 0 28.9 0.126 24 'tested_negative']\n",
      " [3 102 44 20 94 30.8 0.4 26 'tested_negative']\n",
      " [1 114 66 36 200 38.1 0.289 21 'tested_negative']\n",
      " [1 80 55 0 0 19.1 0.258 21 'tested_negative']\n",
      " [5 116 74 0 0 25.6 0.201 30 'tested_negative']\n",
      " [5 95 72 33 0 37.7 0.37 27 'tested_negative']\n",
      " [3 84 72 32 0 37.2 0.267 28 'tested_negative']\n",
      " [0 104 76 0 0 18.4 0.582 27 'tested_negative']\n",
      " [6 109 60 27 0 25.0 0.206 27 'tested_negative']\n",
      " [0 137 68 14 148 24.8 0.143 21 'tested_negative']\n",
      " [1 143 74 22 61 26.2 0.256 21 'tested_negative']\n",
      " [2 129 0 0 0 38.5 0.304 41 'tested_negative']\n",
      " [2 92 76 20 0 24.2 1.698 28 'tested_negative']\n",
      " [0 102 64 46 78 40.6 0.496 21 'tested_negative']\n",
      " [4 147 74 25 293 34.9 0.385 30 'tested_negative']\n",
      " [5 109 75 26 0 36.0 0.546 60 'tested_negative']\n",
      " [3 111 58 31 44 29.5 0.43 22 'tested_negative']\n",
      " [3 102 74 0 0 29.5 0.121 32 'tested_negative']\n",
      " [5 122 86 0 0 34.7 0.29 33 'tested_negative']\n",
      " [10 129 76 28 122 35.9 0.28 39 'tested_negative']\n",
      " [0 78 88 29 40 36.9 0.434 21 'tested_negative']\n",
      " [2 110 74 29 125 32.4 0.698 27 'tested_negative']\n",
      " [5 86 68 28 71 30.2 0.364 24 'tested_negative']\n",
      " [2 81 72 15 76 30.1 0.547 25 'tested_negative']\n",
      " [2 89 90 30 0 33.5 0.292 42 'tested_negative']\n",
      " [1 97 70 40 0 38.1 0.218 30 'tested_negative']\n",
      " [2 71 70 27 0 28.0 0.586 22 'tested_negative']\n",
      " [2 88 74 19 53 29.0 0.229 22 'tested_negative']\n",
      " [5 121 72 23 112 26.2 0.245 30 'tested_negative']\n",
      " [8 126 74 38 75 25.9 0.162 39 'tested_negative']\n",
      " [3 115 66 39 140 38.1 0.15 28 'tested_negative']\n",
      " [6 80 80 36 0 39.8 0.177 28 'tested_negative']\n",
      " [7 137 90 41 0 32.0 0.391 39 'tested_negative']\n",
      " [2 157 74 35 440 39.4 0.134 30 'tested_negative']\n",
      " [8 99 84 0 0 35.4 0.388 50 'tested_negative']\n",
      " [0 67 76 0 0 45.3 0.194 46 'tested_negative']\n",
      " [4 117 64 27 120 33.2 0.23 24 'tested_negative']\n",
      " [1 95 66 13 38 19.6 0.334 25 'tested_negative']\n",
      " [5 99 54 28 83 34.0 0.499 30 'tested_negative']\n",
      " [9 124 70 33 402 35.4 0.282 34 'tested_negative']\n",
      " [1 139 46 19 83 28.7 0.654 22 'tested_negative']\n",
      " [3 191 68 15 130 30.9 0.299 34 'tested_negative']\n",
      " [2 87 0 23 0 28.9 0.773 25 'tested_negative']\n",
      " [8 74 70 40 49 35.3 0.705 39 'tested_negative']\n",
      " [2 108 62 32 56 25.2 0.128 21 'tested_negative']\n",
      " [2 99 0 0 0 22.2 0.108 23 'tested_negative']\n",
      " [8 65 72 23 0 32.0 0.6 42 'tested_negative']\n",
      " [2 90 80 14 55 24.4 0.249 24 'tested_negative']\n",
      " [3 111 56 39 0 30.1 0.557 30 'tested_negative']\n",
      " [2 92 62 28 0 31.6 0.13 24 'tested_negative']\n",
      " [2 122 70 27 0 36.8 0.34 27 'tested_negative']\n",
      " [0 106 70 37 148 39.4 0.605 22 'tested_negative']\n",
      " [4 85 58 22 49 27.8 0.306 28 'tested_negative']\n",
      " [0 101 65 28 0 24.6 0.237 22 'tested_negative']\n",
      " [0 117 80 31 53 45.2 0.089 24 'tested_negative']\n",
      " [1 93 70 31 0 30.4 0.315 23 'tested_negative']\n",
      " [0 102 86 17 105 29.3 0.695 27 'tested_negative']\n",
      " [3 158 64 13 387 31.2 0.295 24 'tested_negative']\n",
      " [1 128 82 17 183 27.5 0.115 22 'tested_negative']\n",
      " [10 94 72 18 0 23.1 0.595 56 'tested_negative']\n",
      " [4 146 85 27 100 28.9 0.189 27 'tested_negative']\n",
      " [12 88 74 40 54 35.3 0.378 48 'tested_negative']\n",
      " [0 57 60 0 0 21.7 0.735 67 'tested_negative']\n",
      " [2 95 54 14 88 26.1 0.748 22 'tested_negative']\n",
      " [1 131 64 14 415 23.7 0.389 21 'tested_negative']\n",
      " [6 102 90 39 0 35.7 0.674 28 'tested_negative']\n",
      " [1 118 58 36 94 33.3 0.261 23 'tested_negative']\n",
      " [4 114 65 0 0 21.9 0.432 37 'tested_negative']\n",
      " [0 93 60 25 92 28.7 0.532 22 'tested_negative']\n",
      " [7 119 0 0 0 25.2 0.209 37 'tested_negative']\n",
      " [2 81 60 22 0 27.7 0.29 25 'tested_negative']\n",
      " [2 83 66 23 50 32.2 0.497 22 'tested_negative']\n",
      " [0 118 64 23 89 0.0 1.731 21 'tested_negative']\n",
      " [2 83 65 28 66 36.8 0.629 24 'tested_negative']\n",
      " [1 79 60 42 48 43.5 0.678 23 'tested_negative']\n",
      " [3 124 80 33 130 33.2 0.305 26 'tested_negative']\n",
      " [1 126 56 29 152 28.7 0.801 21 'tested_negative']\n",
      " [9 120 72 22 56 20.8 0.733 48 'tested_negative']\n",
      " [3 89 74 16 85 30.4 0.551 38 'tested_negative']\n",
      " [1 90 62 18 59 25.1 1.268 25 'tested_negative']\n",
      " [4 154 62 31 284 32.8 0.237 23 'tested_negative']\n",
      " [1 106 76 0 0 37.5 0.197 26 'tested_negative']\n",
      " [4 151 90 38 0 29.7 0.294 36 'tested_negative']\n",
      " [6 105 80 28 0 32.5 0.878 26 'tested_negative']\n",
      " [2 82 52 22 115 28.5 1.699 25 'tested_negative']\n",
      " [0 99 0 0 0 25.0 0.253 22 'tested_negative']\n",
      " [1 97 66 15 140 23.2 0.487 22 'tested_negative']\n",
      " [5 44 62 0 0 25.0 0.587 36 'tested_negative']\n",
      " [2 121 70 32 95 39.1 0.886 23 'tested_negative']\n",
      " [6 151 62 31 120 35.5 0.692 28 'tested_negative']\n",
      " [1 107 68 19 0 26.5 0.165 24 'tested_negative']\n",
      " [7 114 76 17 110 23.8 0.466 31 'tested_negative']\n",
      " [6 108 44 20 130 24.0 0.813 35 'tested_negative']\n",
      " [0 117 66 31 188 30.8 0.493 22 'tested_negative']\n",
      " [0 127 80 37 210 36.3 0.804 23 'tested_negative']\n",
      " [0 98 82 15 84 25.2 0.299 22 'tested_negative']\n",
      " [9 91 68 0 0 24.2 0.2 58 'tested_negative']\n",
      " [1 111 62 13 182 24.0 0.138 23 'tested_negative']\n",
      " [1 100 72 12 70 25.3 0.658 28 'tested_negative']\n",
      " [2 112 68 22 94 34.1 0.315 26 'tested_negative']\n",
      " [8 95 72 0 0 36.8 0.485 57 'tested_negative']\n",
      " [1 108 88 19 0 27.1 0.4 24 'tested_negative']\n",
      " [10 139 80 0 0 27.1 1.441 57 'tested_negative']\n",
      " [1 116 78 29 180 36.1 0.496 25 'tested_negative']\n",
      " [1 105 58 0 0 24.3 0.187 21 'tested_negative']\n",
      " [1 71 62 0 0 21.8 0.416 26 'tested_negative']\n",
      " [5 88 66 21 23 24.4 0.342 30 'tested_negative']\n",
      " [12 140 85 33 0 37.4 0.244 41 'tested_negative']\n",
      " [8 112 72 0 0 23.6 0.84 58 'tested_negative']\n",
      " [2 120 76 37 105 39.7 0.215 29 'tested_negative']\n",
      " [2 75 64 24 55 29.7 0.37 33 'tested_negative']\n",
      " [2 94 68 18 76 26.0 0.561 21 'tested_negative']\n",
      " [10 68 106 23 49 35.5 0.285 47 'tested_negative']\n",
      " [3 106 54 21 158 30.9 0.292 24 'tested_negative']\n",
      " [0 141 84 26 0 32.4 0.433 22 'tested_negative']\n",
      " [2 114 68 22 0 28.7 0.092 25 'tested_negative']\n",
      " [5 136 82 0 0 0.0 0.64 69 'tested_negative']\n",
      " [3 87 60 18 0 21.8 0.444 21 'tested_negative']\n",
      " [1 80 74 11 60 30.0 0.527 22 'tested_negative']\n",
      " [5 110 68 0 0 26.0 0.292 30 'tested_negative']\n",
      " [2 129 84 0 0 28.0 0.284 27 'tested_negative']\n",
      " [9 106 52 0 0 31.2 0.38 42 'tested_negative']\n",
      " [5 155 84 44 545 38.7 0.619 34 'tested_negative']\n",
      " [5 147 78 0 0 33.7 0.218 65 'tested_negative']\n",
      " [2 91 62 0 0 27.3 0.525 22 'tested_negative']\n",
      " [0 125 68 0 0 24.7 0.206 21 'tested_negative']\n",
      " [6 117 96 0 0 28.7 0.157 30 'tested_negative']\n",
      " [6 80 66 30 0 26.2 0.313 41 'tested_negative']\n",
      " [2 101 58 35 90 21.8 0.155 22 'tested_negative']\n",
      " [13 76 60 0 0 32.8 0.18 41 'tested_negative']\n",
      " [4 137 84 0 0 31.2 0.252 30 'tested_negative']\n",
      " [3 96 78 39 0 37.3 0.238 40 'tested_negative']\n",
      " [6 105 70 32 68 30.8 0.122 37 'tested_negative']\n",
      " [3 108 62 24 0 26.0 0.223 25 'tested_negative']\n",
      " [1 124 60 32 0 35.8 0.514 21 'tested_negative']\n",
      " [1 103 30 38 83 43.3 0.183 33 'tested_negative']\n",
      " [8 84 74 31 0 38.3 0.457 39 'tested_negative']\n",
      " [11 138 76 0 0 33.2 0.42 35 'tested_negative']\n",
      " [0 126 86 27 120 27.4 0.515 21 'tested_negative']\n",
      " [12 121 78 17 0 26.5 0.259 62 'tested_negative']\n",
      " [6 154 74 32 193 29.3 0.839 39 'tested_negative']\n",
      " [2 122 60 18 106 29.8 0.717 22 'tested_negative']\n",
      " [5 132 80 0 0 26.8 0.186 69 'tested_negative']\n",
      " [5 96 74 18 67 33.6 0.997 43 'tested_negative']\n",
      " [0 117 0 0 0 33.8 0.932 44 'tested_negative']\n",
      " [7 62 78 0 0 32.6 0.391 41 'tested_negative']\n",
      " [1 99 72 30 18 38.6 0.412 21 'tested_negative']\n",
      " [0 84 64 22 66 35.8 0.545 21 'tested_negative']\n",
      " [6 166 74 0 0 26.6 0.304 66 'tested_negative']\n",
      " [2 122 76 27 200 35.9 0.483 26 'tested_negative']\n",
      " [7 106 92 18 0 22.7 0.235 48 'tested_negative']\n",
      " [0 147 85 54 0 42.8 0.375 24 'tested_negative']\n",
      " [4 103 60 33 192 24.0 0.966 33 'tested_negative']\n",
      " [3 113 50 10 85 29.5 0.626 25 'tested_negative']\n",
      " [3 80 0 0 0 0.0 0.174 22 'tested_negative']\n",
      " [9 72 78 25 0 31.6 0.28 38 'tested_negative']\n",
      " [6 129 90 7 326 19.6 0.582 60 'tested_negative']\n",
      " [7 81 78 40 48 46.7 0.261 42 'tested_negative']\n",
      " [7 159 64 0 0 27.4 0.294 40 'tested_negative']\n",
      " [4 76 62 0 0 34.0 0.391 25 'tested_negative']\n",
      " [5 147 75 0 0 29.9 0.434 28 'tested_negative']\n",
      " [2 100 70 52 57 40.5 0.677 25 'tested_negative']\n",
      " [0 165 76 43 255 47.9 0.259 26 'tested_negative']\n",
      " [4 127 88 11 155 34.5 0.598 28 'tested_negative']\n",
      " [1 82 64 13 95 21.2 0.415 23 'tested_negative']\n",
      " [1 88 62 24 44 29.9 0.422 23 'tested_negative']\n",
      " [1 92 62 25 41 19.5 0.482 25 'tested_negative']\n",
      " [3 150 76 0 0 21.0 0.207 37 'tested_negative']\n",
      " [8 85 55 20 0 24.4 0.136 42 'tested_negative']\n",
      " [1 99 58 10 0 25.4 0.551 21 'tested_negative']\n",
      " [4 154 72 29 126 31.3 0.338 37 'tested_negative']\n",
      " [1 84 64 23 115 36.9 0.471 28 'tested_negative']\n",
      " [4 141 74 0 0 27.6 0.244 40 'tested_negative']\n",
      " [0 94 0 0 0 0.0 0.256 25 'tested_negative']\n",
      " [1 0 74 20 23 27.7 0.299 21 'tested_negative']\n",
      " [0 84 82 31 125 38.2 0.233 23 'tested_negative']\n",
      " [2 127 58 24 275 27.7 1.6 25 'tested_negative']\n",
      " [0 134 58 20 291 26.4 0.352 21 'tested_negative']\n",
      " [1 87 60 37 75 37.2 0.509 22 'tested_negative']\n",
      " [1 89 24 19 25 27.8 0.559 21 'tested_negative']\n",
      " [2 112 78 50 140 39.4 0.175 24 'tested_negative']\n",
      " [3 123 100 35 240 57.3 0.88 22 'tested_negative']\n",
      " [4 94 65 22 0 24.7 0.148 21 'tested_negative']\n",
      " [0 102 52 0 0 25.1 0.078 21 'tested_negative']\n",
      " [3 125 58 0 0 31.6 0.151 24 'tested_negative']\n",
      " [1 95 74 21 73 25.9 0.673 36 'tested_negative']\n",
      " [0 91 68 32 210 39.9 0.381 25 'tested_negative']\n",
      " [3 96 56 34 115 24.7 0.944 39 'tested_negative']\n",
      " [6 183 94 0 0 40.8 1.461 45 'tested_negative']\n",
      " [6 92 92 0 0 19.9 0.188 28 'tested_negative']\n",
      " [1 151 60 0 0 26.1 0.179 22 'tested_negative']\n",
      " [6 154 78 41 140 46.1 0.571 27 'tested_negative']\n",
      " [6 87 80 0 0 23.2 0.084 32 'tested_negative']\n",
      " [1 111 86 19 0 30.1 0.143 23 'tested_negative']\n",
      " [1 83 68 0 0 18.2 0.624 27 'tested_negative']\n",
      " [3 113 44 13 0 22.4 0.14 22 'tested_negative']\n",
      " [2 128 64 42 0 40.0 1.101 24 'tested_negative']\n",
      " [1 101 50 15 36 24.2 0.526 26 'tested_negative']\n",
      " [1 107 50 19 0 28.3 0.181 29 'tested_negative']\n",
      " [2 99 52 15 94 24.6 0.637 21 'tested_negative']\n",
      " [0 97 64 36 100 36.8 0.6 25 'tested_negative']\n",
      " [2 84 0 0 0 0.0 0.304 21 'tested_negative']\n",
      " [2 99 70 16 44 20.4 0.235 27 'tested_negative']\n",
      " [2 105 75 0 0 23.3 0.56 53 'tested_negative']\n",
      " [6 85 78 0 0 31.2 0.382 42 'tested_negative']\n",
      " [5 139 64 35 140 28.6 0.411 26 'tested_negative']\n",
      " [2 112 86 42 160 38.4 0.246 28 'tested_negative']\n",
      " [1 111 94 0 0 32.8 0.265 45 'tested_negative']\n",
      " [1 86 66 52 65 41.3 0.917 29 'tested_negative']\n",
      " [1 77 56 30 56 33.3 1.251 24 'tested_negative']\n",
      " [5 104 74 0 0 28.8 0.153 48 'tested_negative']\n",
      " [1 81 72 18 40 26.6 0.283 24 'tested_negative']\n",
      " [4 131 68 21 166 33.1 0.16 28 'tested_negative']\n",
      " [7 179 95 31 0 34.2 0.164 60 'tested_negative']\n",
      " [0 102 75 23 0 0.0 0.572 21 'tested_negative']\n",
      " [1 97 64 19 82 18.2 0.299 21 'tested_negative']\n",
      " [4 83 86 19 0 29.3 0.317 34 'tested_negative']\n",
      " [0 100 70 26 50 30.8 0.597 21 'tested_negative']\n",
      " [1 193 50 16 375 25.9 0.655 24 'tested_negative']\n",
      " [7 83 78 26 71 29.3 0.767 36 'tested_negative']\n",
      " [6 114 88 0 0 27.8 0.247 66 'tested_negative']\n",
      " [0 161 50 0 0 21.9 0.254 65 'tested_negative']\n",
      " [4 91 70 32 88 33.1 0.446 22 'tested_negative']\n",
      " [6 92 62 32 126 32.0 0.085 46 'tested_negative']\n",
      " [1 96 64 27 87 33.2 0.289 21 'tested_negative']\n",
      " [7 133 84 0 0 40.2 0.696 37 'tested_negative']\n",
      " [12 100 84 33 105 30.0 0.488 46 'tested_negative']\n",
      " [1 135 54 0 0 26.7 0.687 62 'tested_negative']\n",
      " [4 189 110 31 0 28.5 0.68 37 'tested_negative']\n",
      " [4 95 60 32 0 35.4 0.284 28 'tested_negative']\n",
      " [2 107 74 30 100 33.6 0.404 23 'tested_negative']\n",
      " [3 99 80 11 64 19.3 0.284 30 'tested_negative']\n",
      " [2 108 52 26 63 32.5 0.318 22 'tested_negative']\n",
      " [6 137 61 0 0 24.2 0.151 55 'tested_negative']\n",
      " [5 105 72 29 325 36.9 0.159 28 'tested_negative']\n",
      " [0 74 52 10 36 27.8 0.269 22 'tested_negative']\n",
      " [10 101 76 48 180 32.9 0.171 63 'tested_negative']\n",
      " [4 122 68 0 0 35.0 0.394 29 'tested_negative']\n",
      " [2 105 58 40 94 34.9 0.225 25 'tested_negative']\n",
      " [3 61 82 28 0 34.4 0.243 46 'tested_negative']\n",
      " [3 83 58 31 18 34.3 0.336 25 'tested_negative']\n",
      " [0 104 64 23 116 27.8 0.454 23 'tested_negative']\n",
      " [1 96 122 0 0 22.4 0.207 27 'tested_negative']\n",
      " [1 91 54 25 100 25.2 0.234 23 'tested_negative']\n",
      " [2 146 76 35 194 38.2 0.329 29 'tested_negative']\n",
      " [8 120 78 0 0 25.0 0.409 64 'tested_negative']\n",
      " [4 90 88 47 54 37.7 0.362 29 'tested_negative']\n",
      " [6 96 0 0 0 23.7 0.19 28 'tested_negative']\n",
      " [2 100 54 28 105 37.8 0.498 24 'tested_negative']\n",
      " [5 88 78 30 0 27.6 0.258 37 'tested_negative']\n",
      " [3 120 70 30 135 42.9 0.452 30 'tested_negative']\n",
      " [0 173 78 32 265 46.5 1.159 58 'tested_negative']\n",
      " [12 106 80 0 0 23.6 0.137 44 'tested_negative']\n",
      " [0 132 78 0 0 32.4 0.393 21 'tested_negative']\n",
      " [6 123 72 45 230 33.6 0.733 34 'tested_negative']\n",
      " [3 74 68 28 45 29.7 0.293 23 'tested_negative']\n",
      " [0 125 96 0 0 22.5 0.262 21 'tested_negative']\n",
      " [2 108 64 0 0 30.8 0.158 21 'tested_negative']\n",
      " [2 74 0 0 0 0.0 0.102 22 'tested_negative']\n",
      " [1 130 70 13 105 25.9 0.472 22 'tested_negative']\n",
      " [4 197 70 39 744 36.7 2.329 31 'tested_negative']\n",
      " [2 155 74 17 96 26.6 0.433 27 'tested_positive']\n",
      " [9 171 110 24 240 45.4 0.721 54 'tested_positive']\n",
      " [5 112 66 0 0 37.8 0.261 41 'tested_positive']\n",
      " [0 121 66 30 165 34.3 0.203 33 'tested_positive']\n",
      " [11 143 94 33 146 36.6 0.254 51 'tested_positive']\n",
      " [4 115 72 0 0 28.9 0.376 46 'tested_positive']\n",
      " [5 168 64 0 0 32.9 0.135 41 'tested_positive']\n",
      " [5 144 82 26 285 32.0 0.452 58 'tested_positive']\n",
      " [0 180 90 26 90 36.5 0.314 35 'tested_positive']\n",
      " [0 198 66 32 274 41.3 0.502 28 'tested_positive']\n",
      " [3 132 80 0 0 34.4 0.402 44 'tested_positive']\n",
      " [1 119 86 39 220 45.6 0.808 29 'tested_positive']\n",
      " [1 95 82 25 180 35.0 0.233 43 'tested_positive']\n",
      " [11 135 0 0 0 52.3 0.578 40 'tested_positive']\n",
      " [7 168 88 42 321 38.2 0.787 40 'tested_positive']\n",
      " [1 128 98 41 58 32.0 1.321 33 'tested_positive']\n",
      " [8 155 62 26 495 34.0 0.543 46 'tested_positive']\n",
      " [5 109 62 41 129 35.8 0.514 25 'tested_positive']\n",
      " [4 158 78 0 0 32.9 0.803 31 'tested_positive']\n",
      " [1 133 102 28 140 32.8 0.234 45 'tested_positive']\n",
      " [0 177 60 29 478 34.6 1.072 21 'tested_positive']\n",
      " [6 119 50 22 176 27.1 1.318 33 'tested_positive']\n",
      " [7 184 84 33 0 35.5 0.355 41 'tested_positive']\n",
      " [9 119 80 35 0 29.0 0.263 29 'tested_positive']\n",
      " [0 131 0 0 0 43.2 0.27 26 'tested_positive']\n",
      " [4 117 62 12 0 29.7 0.38 30 'tested_positive']\n",
      " [8 120 86 0 0 28.4 0.259 22 'tested_positive']\n",
      " [1 113 64 35 0 33.6 0.543 21 'tested_positive']\n",
      " [11 136 84 35 130 28.3 0.26 42 'tested_positive']\n",
      " [3 162 52 38 0 37.2 0.652 24 'tested_positive']\n",
      " [7 150 78 29 126 35.2 0.692 54 'tested_positive']\n",
      " [5 137 108 0 0 48.8 0.227 37 'tested_positive']\n",
      " [7 181 84 21 192 35.9 0.586 51 'tested_positive']\n",
      " [1 173 74 0 0 36.8 0.088 38 'tested_positive']\n",
      " [7 195 70 33 145 25.1 0.163 55 'tested_positive']\n",
      " [10 125 70 26 115 31.1 0.205 41 'tested_positive']\n",
      " [8 143 66 0 0 34.9 0.129 41 'tested_positive']\n",
      " [12 92 62 7 258 27.6 0.926 44 'tested_positive']\n",
      " [7 152 88 44 0 50.0 0.337 36 'tested_positive']\n",
      " [3 112 74 30 0 31.6 0.197 25 'tested_positive']\n",
      " [8 176 90 34 300 33.7 0.467 58 'tested_positive']\n",
      " [8 183 64 0 0 23.3 0.672 32 'tested_positive']\n",
      " [10 101 86 37 0 45.6 1.136 38 'tested_positive']\n",
      " [4 144 82 32 0 38.5 0.554 37 'tested_positive']\n",
      " [2 93 64 32 160 38.0 0.674 23 'tested_positive']\n",
      " [12 151 70 40 271 41.8 0.742 38 'tested_positive']\n",
      " [6 115 60 39 0 33.7 0.245 40 'tested_positive']\n",
      " [0 167 0 0 0 32.3 0.839 30 'tested_positive']\n",
      " [8 125 96 0 0 0.0 0.232 54 'tested_positive']\n",
      " [0 180 66 39 0 42.0 1.893 25 'tested_positive']\n",
      " [2 108 80 0 0 27.0 0.259 52 'tested_positive']\n",
      " [0 107 62 30 74 36.6 0.757 25 'tested_positive']\n",
      " [9 112 82 24 0 28.2 1.282 50 'tested_positive']\n",
      " [1 181 78 42 293 40.0 1.258 22 'tested_positive']\n",
      " [3 182 74 0 0 30.5 0.345 29 'tested_positive']\n",
      " [4 148 60 27 318 30.9 0.15 29 'tested_positive']\n",
      " [3 174 58 22 194 32.9 0.593 36 'tested_positive']\n",
      " [2 146 70 38 360 28.0 0.337 29 'tested_positive']\n",
      " [7 97 76 32 91 40.9 0.871 32 'tested_positive']\n",
      " [12 140 82 43 325 39.2 0.528 58 'tested_positive']\n",
      " [5 139 80 35 160 31.6 0.361 25 'tested_positive']\n",
      " [1 122 90 51 220 49.7 0.325 31 'tested_positive']\n",
      " [5 166 72 19 175 25.8 0.587 51 'tested_positive']\n",
      " [8 167 106 46 231 37.6 0.165 43 'tested_positive']\n",
      " [10 161 68 23 132 25.5 0.326 47 'tested_positive']\n",
      " [9 130 70 0 0 34.2 0.652 45 'tested_positive']\n",
      " [7 196 90 0 0 39.8 0.451 41 'tested_positive']\n",
      " [10 111 70 27 0 27.5 0.141 40 'tested_positive']\n",
      " [2 174 88 37 120 44.5 0.646 24 'tested_positive']\n",
      " [8 186 90 35 225 34.5 0.423 37 'tested_positive']\n",
      " [9 102 76 37 0 32.9 0.665 46 'tested_positive']\n",
      " [3 158 76 36 245 31.6 0.851 28 'tested_positive']\n",
      " [4 184 78 39 277 37.0 0.264 31 'tested_positive']\n",
      " [0 179 50 36 159 37.8 0.455 22 'tested_positive']\n",
      " [5 162 104 0 0 37.7 0.151 52 'tested_positive']\n",
      " [1 196 76 36 249 36.5 0.875 29 'tested_positive']\n",
      " [4 142 86 0 0 44.0 0.645 22 'tested_positive']\n",
      " [7 109 80 31 0 35.9 1.127 43 'tested_positive']\n",
      " [3 130 78 23 79 28.4 0.323 34 'tested_positive']\n",
      " [7 129 68 49 125 38.5 0.439 43 'tested_positive']\n",
      " [14 175 62 30 0 33.6 0.212 38 'tested_positive']\n",
      " [6 147 80 0 0 29.5 0.178 50 'tested_positive']\n",
      " [5 115 76 0 0 31.2 0.343 44 'tested_positive']\n",
      " [8 151 78 32 210 42.9 0.516 36 'tested_positive']\n",
      " [0 95 85 25 36 37.4 0.247 24 'tested_positive']\n",
      " [4 123 62 0 0 32.0 0.226 35 'tested_positive']\n",
      " [3 107 62 13 48 22.9 0.678 23 'tested_positive']\n",
      " [10 148 84 48 237 37.6 1.001 51 'tested_positive']\n",
      " [4 183 0 0 0 28.4 0.212 36 'tested_positive']\n",
      " [2 146 0 0 0 27.5 0.24 28 'tested_positive']\n",
      " [1 149 68 29 127 29.3 0.349 42 'tested_positive']\n",
      " [3 121 52 0 0 36.0 0.127 25 'tested_positive']\n",
      " [0 188 82 14 185 32.0 0.682 22 'tested_positive']\n",
      " [3 139 54 0 0 25.6 0.402 22 'tested_positive']\n",
      " [8 154 78 32 0 32.4 0.443 45 'tested_positive']\n",
      " [1 163 72 0 0 39.0 1.222 33 'tested_positive']\n",
      " [0 140 65 26 130 42.6 0.431 24 'tested_positive']\n",
      " [1 125 50 40 167 33.3 0.962 28 'tested_positive']\n",
      " [6 0 68 41 0 39.0 0.727 41 'tested_positive']\n",
      " [9 164 78 0 0 32.8 0.148 45 'tested_positive']\n",
      " [6 148 72 35 0 33.6 0.627 50 'tested_positive']\n",
      " [0 146 70 0 0 37.9 0.334 28 'tested_positive']\n",
      " [6 194 78 0 0 23.5 0.129 59 'tested_positive']\n",
      " [7 114 66 0 0 32.8 0.258 42 'tested_positive']\n",
      " [6 124 72 0 0 27.6 0.368 29 'tested_positive']\n",
      " [1 172 68 49 579 42.4 0.702 28 'tested_positive']\n",
      " [7 147 76 0 0 39.4 0.257 43 'tested_positive']\n",
      " [0 179 90 27 0 44.1 0.686 23 'tested_positive']\n",
      " [1 181 64 30 180 34.1 0.328 38 'tested_positive']\n",
      " [7 161 86 0 0 30.4 0.165 47 'tested_positive']\n",
      " [1 115 70 30 96 34.6 0.529 32 'tested_positive']\n",
      " [6 162 62 0 0 24.3 0.178 50 'tested_positive']\n",
      " [1 189 60 23 846 30.1 0.398 59 'tested_positive']\n",
      " [0 135 68 42 250 42.3 0.365 24 'tested_positive']\n",
      " [3 163 70 18 105 31.6 0.268 28 'tested_positive']\n",
      " [7 103 66 32 0 39.1 0.344 31 'tested_positive']\n",
      " [0 131 66 40 0 34.3 0.196 22 'tested_positive']\n",
      " [5 166 76 0 0 45.7 0.34 27 'tested_positive']\n",
      " [6 102 82 0 0 30.8 0.18 36 'tested_positive']\n",
      " [1 128 48 45 194 40.5 0.613 24 'tested_positive']\n",
      " [1 168 88 29 0 35.0 0.905 52 'tested_positive']\n",
      " [3 129 92 49 155 36.4 0.968 32 'tested_positive']\n",
      " [8 100 74 40 215 39.4 0.661 43 'tested_positive']\n",
      " [7 187 68 39 304 37.7 0.254 41 'tested_positive']\n",
      " [10 90 85 32 0 34.9 0.825 56 'tested_positive']\n",
      " [4 95 64 0 0 32.0 0.161 31 'tested_positive']\n",
      " [8 133 72 0 0 32.9 0.27 39 'tested_positive']\n",
      " [2 124 68 28 205 32.9 0.875 30 'tested_positive']\n",
      " [0 141 0 0 0 42.4 0.205 29 'tested_positive']\n",
      " [9 152 78 34 171 34.2 0.893 33 'tested_positive']\n",
      " [0 138 60 35 167 34.6 0.534 21 'tested_positive']\n",
      " [3 176 86 27 156 33.3 1.154 52 'tested_positive']\n",
      " [5 0 80 32 0 41.0 0.346 37 'tested_positive']\n",
      " [8 124 76 24 600 28.7 0.687 52 'tested_positive']\n",
      " [8 105 100 36 0 43.3 0.239 45 'tested_positive']\n",
      " [5 136 84 41 88 35.0 0.286 35 'tested_positive']\n",
      " [11 111 84 40 0 46.8 0.925 45 'tested_positive']\n",
      " [2 100 66 20 90 32.9 0.867 28 'tested_positive']\n",
      " [3 187 70 22 200 36.4 0.408 36 'tested_positive']\n",
      " [3 129 64 29 115 26.4 0.219 28 'tested_positive']\n",
      " [1 88 30 42 99 55.0 0.496 26 'tested_positive']\n",
      " [0 119 0 0 0 32.4 0.141 24 'tested_positive']\n",
      " [7 106 60 24 0 26.5 0.296 29 'tested_positive']\n",
      " [0 137 40 35 168 43.1 2.288 33 'tested_positive']\n",
      " [8 108 70 0 0 30.5 0.955 33 'tested_positive']\n",
      " [2 118 80 0 0 42.9 0.693 21 'tested_positive']\n",
      " [11 155 76 28 150 33.3 1.353 51 'tested_positive']\n",
      " [8 188 78 0 0 47.9 0.137 43 'tested_positive']\n",
      " [9 122 56 0 0 33.3 1.114 33 'tested_positive']\n",
      " [4 125 80 0 0 32.3 0.536 27 'tested_positive']\n",
      " [0 105 84 0 0 27.9 0.741 62 'tested_positive']\n",
      " [3 80 82 31 70 34.2 1.292 27 'tested_positive']\n",
      " [1 117 88 24 145 34.5 0.403 40 'tested_positive']\n",
      " [0 189 104 25 0 34.3 0.435 41 'tested_positive']\n",
      " [0 145 0 0 0 44.2 0.63 31 'tested_positive']\n",
      " [2 155 52 27 540 38.7 0.24 25 'tested_positive']\n",
      " [12 84 72 31 0 29.7 0.297 46 'tested_positive']\n",
      " [3 141 0 0 0 30.0 0.761 27 'tested_positive']\n",
      " [7 142 90 24 480 30.4 0.128 43 'tested_positive']\n",
      " [2 90 68 42 0 38.2 0.503 27 'tested_positive']\n",
      " [2 128 78 37 182 43.3 1.224 31 'tested_positive']\n",
      " [9 165 88 0 0 30.4 0.302 49 'tested_positive']\n",
      " [4 134 72 0 0 23.8 0.277 60 'tested_positive']\n",
      " [0 162 76 56 100 53.2 0.759 25 'tested_positive']\n",
      " [1 126 60 0 0 30.1 0.349 47 'tested_positive']\n",
      " [3 173 84 33 474 35.7 0.258 22 'tested_positive']\n",
      " [4 171 72 0 0 43.6 0.479 26 'tested_positive']\n",
      " [1 144 82 46 180 46.1 0.335 46 'tested_positive']\n",
      " [8 181 68 36 495 30.1 0.615 60 'tested_positive']\n",
      " [4 145 82 18 0 32.5 0.235 70 'tested_positive']\n",
      " [1 147 94 41 0 49.3 0.358 27 'tested_positive']\n",
      " [7 114 64 0 0 27.4 0.732 34 'tested_positive']\n",
      " [6 190 92 0 0 35.5 0.278 66 'tested_positive']\n",
      " [10 108 66 0 0 32.4 0.272 42 'tested_positive']\n",
      " [3 173 82 48 465 38.4 2.137 25 'tested_positive']\n",
      " [4 146 92 0 0 31.2 0.539 61 'tested_positive']\n",
      " [15 136 70 32 110 37.1 0.153 43 'tested_positive']\n",
      " [1 122 64 32 156 35.1 0.692 30 'tested_positive']\n",
      " [0 113 76 0 0 33.3 0.278 23 'tested_positive']\n",
      " [2 105 80 45 191 33.7 0.711 29 'tested_positive']\n",
      " [4 132 0 0 0 32.9 0.302 23 'tested_positive']\n",
      " [5 158 84 41 210 39.4 0.395 29 'tested_positive']\n",
      " [0 118 84 47 230 45.8 0.551 31 'tested_positive']\n",
      " [9 156 86 0 0 24.8 0.23 53 'tested_positive']\n",
      " [5 115 98 0 0 52.9 0.209 28 'tested_positive']\n",
      " [10 168 74 0 0 38.0 0.537 34 'tested_positive']\n",
      " [3 78 50 32 88 31.0 0.248 26 'tested_positive']\n",
      " [10 115 0 0 0 0.0 0.261 30 'tested_positive']\n",
      " [2 197 70 99 0 34.7 0.575 62 'tested_positive']\n",
      " [9 145 80 46 130 37.9 0.637 40 'tested_positive']]\n"
     ]
    }
   ],
   "source": [
    "# jest to potrzebne, by wyświetlić wszystkie rzędy\n",
    "with np.printoptions(threshold=np.inf):\n",
    "    print(train_set2[train_set2[:, 8].argsort()])"
   ],
   "metadata": {
    "collapsed": false,
    "pycharm": {
     "name": "#%%\n"
    }
   }
  },
  {
   "cell_type": "markdown",
   "source": [
    "a) Podziel w losowy sposób bazę danych irysów na zbiór treningowy i zbiór\n",
    "testowy w proporcjach 70%/30%. Wyświetl oba zbiory. Podziel te zbiory na\n",
    "cztery części (inputy i class), jeśli jest taka potrzeba."
   ],
   "metadata": {
    "collapsed": false,
    "pycharm": {
     "name": "#%% md\n"
    }
   }
  },
  {
   "cell_type": "code",
   "execution_count": 23,
   "outputs": [],
   "source": [
    "df2 = pd.read_csv(\"diabetes.csv\")\n",
    "(train_set2, test_set2) = train_test_split(df2.values, train_size=0.7,\n",
    "                                         random_state=274929)\n",
    "\n",
    "\n",
    "train_inputs2 = train_set2[:, 0:8]\n",
    "train_classes2 = train_set2[:, 8]\n",
    "test_inputs2 = test_set2[:, 0:8]\n",
    "test_classes2 = test_set2[:, 8]"
   ],
   "metadata": {
    "collapsed": false,
    "pycharm": {
     "name": "#%%\n"
    }
   }
  },
  {
   "cell_type": "markdown",
   "source": [],
   "metadata": {
    "collapsed": false,
    "pycharm": {
     "name": "#%% md\n"
    }
   }
  },
  {
   "cell_type": "markdown",
   "source": [
    "b) Zainicjuj drzewo decyzyjne metodą DecisionTreeClassifier"
   ],
   "metadata": {
    "collapsed": false,
    "pycharm": {
     "name": "#%% md\n"
    }
   }
  },
  {
   "cell_type": "code",
   "execution_count": 24,
   "outputs": [],
   "source": [
    "dtc2 = DecisionTreeClassifier()"
   ],
   "metadata": {
    "collapsed": false,
    "pycharm": {
     "name": "#%%\n"
    }
   }
  },
  {
   "cell_type": "markdown",
   "source": [
    "c) Wytrenuj drzewo decyzyjne na zbiorze treningowym, wykorzystując funkcję fit."
   ],
   "metadata": {
    "collapsed": false,
    "pycharm": {
     "name": "#%% md\n"
    }
   }
  },
  {
   "cell_type": "code",
   "execution_count": 25,
   "outputs": [
    {
     "data": {
      "text/plain": "DecisionTreeClassifier()"
     },
     "execution_count": 25,
     "metadata": {},
     "output_type": "execute_result"
    }
   ],
   "source": [
    "dtc2.fit(train_inputs2, train_classes2)"
   ],
   "metadata": {
    "collapsed": false,
    "pycharm": {
     "name": "#%%\n"
    }
   }
  },
  {
   "cell_type": "markdown",
   "source": [
    "d) Wyświetl drzewo w formie tekstowej i/lub w formie graficznej. Jeśli masz\n",
    "problemy z tym podpunktem – pomiń go."
   ],
   "metadata": {
    "collapsed": false,
    "pycharm": {
     "name": "#%% md\n"
    }
   }
  },
  {
   "cell_type": "code",
   "execution_count": 26,
   "outputs": [
    {
     "name": "stdout",
     "output_type": "stream",
     "text": [
      "|--- glucose-concentr <= 129.50\n",
      "|   |--- age <= 28.50\n",
      "|   |   |--- mass-index <= 30.95\n",
      "|   |   |   |--- spregnant-times <= 7.50\n",
      "|   |   |   |   |--- glucose-concentr <= 128.50\n",
      "|   |   |   |   |   |--- pedigree-func <= 0.67\n",
      "|   |   |   |   |   |   |--- class: tested_negative\n",
      "|   |   |   |   |   |--- pedigree-func >  0.67\n",
      "|   |   |   |   |   |   |--- pedigree-func <= 0.69\n",
      "|   |   |   |   |   |   |   |--- class: tested_positive\n",
      "|   |   |   |   |   |   |--- pedigree-func >  0.69\n",
      "|   |   |   |   |   |   |   |--- class: tested_negative\n",
      "|   |   |   |   |--- glucose-concentr >  128.50\n",
      "|   |   |   |   |   |--- skin-thickness <= 14.50\n",
      "|   |   |   |   |   |   |--- class: tested_negative\n",
      "|   |   |   |   |   |--- skin-thickness >  14.50\n",
      "|   |   |   |   |   |   |--- class: tested_positive\n",
      "|   |   |   |--- spregnant-times >  7.50\n",
      "|   |   |   |   |--- class: tested_positive\n",
      "|   |   |--- mass-index >  30.95\n",
      "|   |   |   |--- blood-pressure <= 51.00\n",
      "|   |   |   |   |--- insulin <= 75.50\n",
      "|   |   |   |   |   |--- spregnant-times <= 0.50\n",
      "|   |   |   |   |   |   |--- class: tested_positive\n",
      "|   |   |   |   |   |--- spregnant-times >  0.50\n",
      "|   |   |   |   |   |   |--- class: tested_negative\n",
      "|   |   |   |   |--- insulin >  75.50\n",
      "|   |   |   |   |   |--- class: tested_positive\n",
      "|   |   |   |--- blood-pressure >  51.00\n",
      "|   |   |   |   |--- skin-thickness <= 5.50\n",
      "|   |   |   |   |   |--- blood-pressure <= 78.00\n",
      "|   |   |   |   |   |   |--- blood-pressure <= 55.00\n",
      "|   |   |   |   |   |   |   |--- class: tested_positive\n",
      "|   |   |   |   |   |   |--- blood-pressure >  55.00\n",
      "|   |   |   |   |   |   |   |--- age <= 23.50\n",
      "|   |   |   |   |   |   |   |   |--- class: tested_positive\n",
      "|   |   |   |   |   |   |   |--- age >  23.50\n",
      "|   |   |   |   |   |   |   |   |--- class: tested_negative\n",
      "|   |   |   |   |   |--- blood-pressure >  78.00\n",
      "|   |   |   |   |   |   |--- class: tested_positive\n",
      "|   |   |   |   |--- skin-thickness >  5.50\n",
      "|   |   |   |   |   |--- pedigree-func <= 1.27\n",
      "|   |   |   |   |   |   |--- pedigree-func <= 0.50\n",
      "|   |   |   |   |   |   |   |--- mass-index <= 31.80\n",
      "|   |   |   |   |   |   |   |   |--- glucose-concentr <= 102.00\n",
      "|   |   |   |   |   |   |   |   |   |--- class: tested_negative\n",
      "|   |   |   |   |   |   |   |   |--- glucose-concentr >  102.00\n",
      "|   |   |   |   |   |   |   |   |   |--- class: tested_positive\n",
      "|   |   |   |   |   |   |   |--- mass-index >  31.80\n",
      "|   |   |   |   |   |   |   |   |--- blood-pressure <= 83.50\n",
      "|   |   |   |   |   |   |   |   |   |--- class: tested_negative\n",
      "|   |   |   |   |   |   |   |   |--- blood-pressure >  83.50\n",
      "|   |   |   |   |   |   |   |   |   |--- blood-pressure <= 85.50\n",
      "|   |   |   |   |   |   |   |   |   |   |--- class: tested_positive\n",
      "|   |   |   |   |   |   |   |   |   |--- blood-pressure >  85.50\n",
      "|   |   |   |   |   |   |   |   |   |   |--- class: tested_negative\n",
      "|   |   |   |   |   |   |--- pedigree-func >  0.50\n",
      "|   |   |   |   |   |   |   |--- blood-pressure <= 69.00\n",
      "|   |   |   |   |   |   |   |   |--- glucose-concentr <= 88.50\n",
      "|   |   |   |   |   |   |   |   |   |--- class: tested_negative\n",
      "|   |   |   |   |   |   |   |   |--- glucose-concentr >  88.50\n",
      "|   |   |   |   |   |   |   |   |   |--- glucose-concentr <= 117.50\n",
      "|   |   |   |   |   |   |   |   |   |   |--- pedigree-func <= 0.91\n",
      "|   |   |   |   |   |   |   |   |   |   |   |--- truncated branch of depth 3\n",
      "|   |   |   |   |   |   |   |   |   |   |--- pedigree-func >  0.91\n",
      "|   |   |   |   |   |   |   |   |   |   |   |--- class: tested_negative\n",
      "|   |   |   |   |   |   |   |   |   |--- glucose-concentr >  117.50\n",
      "|   |   |   |   |   |   |   |   |   |   |--- class: tested_negative\n",
      "|   |   |   |   |   |   |   |--- blood-pressure >  69.00\n",
      "|   |   |   |   |   |   |   |   |--- class: tested_negative\n",
      "|   |   |   |   |   |--- pedigree-func >  1.27\n",
      "|   |   |   |   |   |   |--- class: tested_positive\n",
      "|   |--- age >  28.50\n",
      "|   |   |--- mass-index <= 26.35\n",
      "|   |   |   |--- mass-index <= 9.65\n",
      "|   |   |   |   |--- class: tested_positive\n",
      "|   |   |   |--- mass-index >  9.65\n",
      "|   |   |   |   |--- class: tested_negative\n",
      "|   |   |--- mass-index >  26.35\n",
      "|   |   |   |--- glucose-concentr <= 89.50\n",
      "|   |   |   |   |--- glucose-concentr <= 30.50\n",
      "|   |   |   |   |   |--- class: tested_positive\n",
      "|   |   |   |   |--- glucose-concentr >  30.50\n",
      "|   |   |   |   |   |--- spregnant-times <= 11.50\n",
      "|   |   |   |   |   |   |--- class: tested_negative\n",
      "|   |   |   |   |   |--- spregnant-times >  11.50\n",
      "|   |   |   |   |   |   |--- mass-index <= 31.25\n",
      "|   |   |   |   |   |   |   |--- class: tested_positive\n",
      "|   |   |   |   |   |   |--- mass-index >  31.25\n",
      "|   |   |   |   |   |   |   |--- class: tested_negative\n",
      "|   |   |   |--- glucose-concentr >  89.50\n",
      "|   |   |   |   |--- pedigree-func <= 0.61\n",
      "|   |   |   |   |   |--- age <= 47.50\n",
      "|   |   |   |   |   |   |--- blood-pressure <= 58.00\n",
      "|   |   |   |   |   |   |   |--- class: tested_negative\n",
      "|   |   |   |   |   |   |--- blood-pressure >  58.00\n",
      "|   |   |   |   |   |   |   |--- blood-pressure <= 67.00\n",
      "|   |   |   |   |   |   |   |   |--- insulin <= 63.00\n",
      "|   |   |   |   |   |   |   |   |   |--- class: tested_positive\n",
      "|   |   |   |   |   |   |   |   |--- insulin >  63.00\n",
      "|   |   |   |   |   |   |   |   |   |--- blood-pressure <= 64.00\n",
      "|   |   |   |   |   |   |   |   |   |   |--- class: tested_negative\n",
      "|   |   |   |   |   |   |   |   |   |--- blood-pressure >  64.00\n",
      "|   |   |   |   |   |   |   |   |   |   |--- class: tested_positive\n",
      "|   |   |   |   |   |   |   |--- blood-pressure >  67.00\n",
      "|   |   |   |   |   |   |   |   |--- mass-index <= 43.10\n",
      "|   |   |   |   |   |   |   |   |   |--- mass-index <= 35.10\n",
      "|   |   |   |   |   |   |   |   |   |   |--- insulin <= 110.00\n",
      "|   |   |   |   |   |   |   |   |   |   |   |--- truncated branch of depth 5\n",
      "|   |   |   |   |   |   |   |   |   |   |--- insulin >  110.00\n",
      "|   |   |   |   |   |   |   |   |   |   |   |--- class: tested_positive\n",
      "|   |   |   |   |   |   |   |   |   |--- mass-index >  35.10\n",
      "|   |   |   |   |   |   |   |   |   |   |--- blood-pressure <= 69.00\n",
      "|   |   |   |   |   |   |   |   |   |   |   |--- class: tested_positive\n",
      "|   |   |   |   |   |   |   |   |   |   |--- blood-pressure >  69.00\n",
      "|   |   |   |   |   |   |   |   |   |   |   |--- class: tested_negative\n",
      "|   |   |   |   |   |   |   |   |--- mass-index >  43.10\n",
      "|   |   |   |   |   |   |   |   |   |--- class: tested_positive\n",
      "|   |   |   |   |   |--- age >  47.50\n",
      "|   |   |   |   |   |   |--- spregnant-times <= 3.50\n",
      "|   |   |   |   |   |   |   |--- class: tested_positive\n",
      "|   |   |   |   |   |   |--- spregnant-times >  3.50\n",
      "|   |   |   |   |   |   |   |--- class: tested_negative\n",
      "|   |   |   |   |--- pedigree-func >  0.61\n",
      "|   |   |   |   |   |--- spregnant-times <= 7.50\n",
      "|   |   |   |   |   |   |--- age <= 33.50\n",
      "|   |   |   |   |   |   |   |--- skin-thickness <= 21.00\n",
      "|   |   |   |   |   |   |   |   |--- class: tested_negative\n",
      "|   |   |   |   |   |   |   |--- skin-thickness >  21.00\n",
      "|   |   |   |   |   |   |   |   |--- class: tested_positive\n",
      "|   |   |   |   |   |   |--- age >  33.50\n",
      "|   |   |   |   |   |   |   |--- mass-index <= 28.75\n",
      "|   |   |   |   |   |   |   |   |--- class: tested_positive\n",
      "|   |   |   |   |   |   |   |--- mass-index >  28.75\n",
      "|   |   |   |   |   |   |   |   |--- pedigree-func <= 1.07\n",
      "|   |   |   |   |   |   |   |   |   |--- class: tested_negative\n",
      "|   |   |   |   |   |   |   |   |--- pedigree-func >  1.07\n",
      "|   |   |   |   |   |   |   |   |   |--- mass-index <= 37.40\n",
      "|   |   |   |   |   |   |   |   |   |   |--- class: tested_positive\n",
      "|   |   |   |   |   |   |   |   |   |--- mass-index >  37.40\n",
      "|   |   |   |   |   |   |   |   |   |   |--- class: tested_negative\n",
      "|   |   |   |   |   |--- spregnant-times >  7.50\n",
      "|   |   |   |   |   |   |--- class: tested_positive\n",
      "|--- glucose-concentr >  129.50\n",
      "|   |--- mass-index <= 29.95\n",
      "|   |   |--- age <= 26.50\n",
      "|   |   |   |--- spregnant-times <= 2.50\n",
      "|   |   |   |   |--- class: tested_negative\n",
      "|   |   |   |--- spregnant-times >  2.50\n",
      "|   |   |   |   |--- insulin <= 70.00\n",
      "|   |   |   |   |   |--- class: tested_positive\n",
      "|   |   |   |   |--- insulin >  70.00\n",
      "|   |   |   |   |   |--- class: tested_negative\n",
      "|   |   |--- age >  26.50\n",
      "|   |   |   |--- age <= 60.50\n",
      "|   |   |   |   |--- mass-index <= 28.45\n",
      "|   |   |   |   |   |--- insulin <= 39.50\n",
      "|   |   |   |   |   |   |--- glucose-concentr <= 160.50\n",
      "|   |   |   |   |   |   |   |--- glucose-concentr <= 135.50\n",
      "|   |   |   |   |   |   |   |   |--- class: tested_positive\n",
      "|   |   |   |   |   |   |   |--- glucose-concentr >  135.50\n",
      "|   |   |   |   |   |   |   |   |--- blood-pressure <= 30.50\n",
      "|   |   |   |   |   |   |   |   |   |--- class: tested_positive\n",
      "|   |   |   |   |   |   |   |   |--- blood-pressure >  30.50\n",
      "|   |   |   |   |   |   |   |   |   |--- blood-pressure <= 83.00\n",
      "|   |   |   |   |   |   |   |   |   |   |--- class: tested_negative\n",
      "|   |   |   |   |   |   |   |   |   |--- blood-pressure >  83.00\n",
      "|   |   |   |   |   |   |   |   |   |   |--- class: tested_positive\n",
      "|   |   |   |   |   |   |--- glucose-concentr >  160.50\n",
      "|   |   |   |   |   |   |   |--- class: tested_positive\n",
      "|   |   |   |   |   |--- insulin >  39.50\n",
      "|   |   |   |   |   |   |--- class: tested_positive\n",
      "|   |   |   |   |--- mass-index >  28.45\n",
      "|   |   |   |   |   |--- age <= 40.50\n",
      "|   |   |   |   |   |   |--- class: tested_negative\n",
      "|   |   |   |   |   |--- age >  40.50\n",
      "|   |   |   |   |   |   |--- class: tested_positive\n",
      "|   |   |   |--- age >  60.50\n",
      "|   |   |   |   |--- class: tested_negative\n",
      "|   |--- mass-index >  29.95\n",
      "|   |   |--- glucose-concentr <= 165.50\n",
      "|   |   |   |--- age <= 30.50\n",
      "|   |   |   |   |--- blood-pressure <= 61.00\n",
      "|   |   |   |   |   |--- class: tested_positive\n",
      "|   |   |   |   |--- blood-pressure >  61.00\n",
      "|   |   |   |   |   |--- insulin <= 252.50\n",
      "|   |   |   |   |   |   |--- glucose-concentr <= 156.00\n",
      "|   |   |   |   |   |   |   |--- blood-pressure <= 85.50\n",
      "|   |   |   |   |   |   |   |   |--- blood-pressure <= 72.00\n",
      "|   |   |   |   |   |   |   |   |   |--- spregnant-times <= 1.50\n",
      "|   |   |   |   |   |   |   |   |   |   |--- pedigree-func <= 0.18\n",
      "|   |   |   |   |   |   |   |   |   |   |   |--- class: tested_negative\n",
      "|   |   |   |   |   |   |   |   |   |   |--- pedigree-func >  0.18\n",
      "|   |   |   |   |   |   |   |   |   |   |   |--- class: tested_positive\n",
      "|   |   |   |   |   |   |   |   |   |--- spregnant-times >  1.50\n",
      "|   |   |   |   |   |   |   |   |   |   |--- class: tested_negative\n",
      "|   |   |   |   |   |   |   |   |--- blood-pressure >  72.00\n",
      "|   |   |   |   |   |   |   |   |   |--- spregnant-times <= 4.50\n",
      "|   |   |   |   |   |   |   |   |   |   |--- class: tested_negative\n",
      "|   |   |   |   |   |   |   |   |   |--- spregnant-times >  4.50\n",
      "|   |   |   |   |   |   |   |   |   |   |--- pedigree-func <= 0.47\n",
      "|   |   |   |   |   |   |   |   |   |   |   |--- class: tested_positive\n",
      "|   |   |   |   |   |   |   |   |   |   |--- pedigree-func >  0.47\n",
      "|   |   |   |   |   |   |   |   |   |   |   |--- class: tested_negative\n",
      "|   |   |   |   |   |   |   |--- blood-pressure >  85.50\n",
      "|   |   |   |   |   |   |   |   |--- class: tested_positive\n",
      "|   |   |   |   |   |   |--- glucose-concentr >  156.00\n",
      "|   |   |   |   |   |   |   |--- class: tested_positive\n",
      "|   |   |   |   |   |--- insulin >  252.50\n",
      "|   |   |   |   |   |   |--- class: tested_negative\n",
      "|   |   |   |--- age >  30.50\n",
      "|   |   |   |   |--- insulin <= 520.00\n",
      "|   |   |   |   |   |--- insulin <= 169.50\n",
      "|   |   |   |   |   |   |--- blood-pressure <= 91.00\n",
      "|   |   |   |   |   |   |   |--- blood-pressure <= 89.00\n",
      "|   |   |   |   |   |   |   |   |--- skin-thickness <= 34.00\n",
      "|   |   |   |   |   |   |   |   |   |--- insulin <= 159.00\n",
      "|   |   |   |   |   |   |   |   |   |   |--- skin-thickness <= 32.50\n",
      "|   |   |   |   |   |   |   |   |   |   |   |--- truncated branch of depth 4\n",
      "|   |   |   |   |   |   |   |   |   |   |--- skin-thickness >  32.50\n",
      "|   |   |   |   |   |   |   |   |   |   |   |--- class: tested_negative\n",
      "|   |   |   |   |   |   |   |   |   |--- insulin >  159.00\n",
      "|   |   |   |   |   |   |   |   |   |   |--- class: tested_negative\n",
      "|   |   |   |   |   |   |   |   |--- skin-thickness >  34.00\n",
      "|   |   |   |   |   |   |   |   |   |--- class: tested_positive\n",
      "|   |   |   |   |   |   |   |--- blood-pressure >  89.00\n",
      "|   |   |   |   |   |   |   |   |--- class: tested_negative\n",
      "|   |   |   |   |   |   |--- blood-pressure >  91.00\n",
      "|   |   |   |   |   |   |   |--- class: tested_positive\n",
      "|   |   |   |   |   |--- insulin >  169.50\n",
      "|   |   |   |   |   |   |--- class: tested_positive\n",
      "|   |   |   |   |--- insulin >  520.00\n",
      "|   |   |   |   |   |--- class: tested_negative\n",
      "|   |   |--- glucose-concentr >  165.50\n",
      "|   |   |   |--- pedigree-func <= 1.16\n",
      "|   |   |   |   |--- pedigree-func <= 0.31\n",
      "|   |   |   |   |   |--- mass-index <= 35.30\n",
      "|   |   |   |   |   |   |--- blood-pressure <= 66.00\n",
      "|   |   |   |   |   |   |   |--- class: tested_positive\n",
      "|   |   |   |   |   |   |--- blood-pressure >  66.00\n",
      "|   |   |   |   |   |   |   |--- class: tested_negative\n",
      "|   |   |   |   |   |--- mass-index >  35.30\n",
      "|   |   |   |   |   |   |--- class: tested_positive\n",
      "|   |   |   |   |--- pedigree-func >  0.31\n",
      "|   |   |   |   |   |--- class: tested_positive\n",
      "|   |   |   |--- pedigree-func >  1.16\n",
      "|   |   |   |   |--- age <= 28.00\n",
      "|   |   |   |   |   |--- class: tested_positive\n",
      "|   |   |   |   |--- age >  28.00\n",
      "|   |   |   |   |   |--- class: tested_negative\n",
      "\n"
     ]
    }
   ],
   "source": [
    "from sklearn.tree import export_text\n",
    "\n",
    "feature_names2 = ['spregnant-times', 'glucose-concentr', 'blood-pressure', 'skin-thickness', 'insulin', 'mass-index', 'pedigree-func', 'age']\n",
    "\n",
    "tree_to_print2 = export_text(dtc2, feature_names=feature_names2)\n",
    "print(tree_to_print2)"
   ],
   "metadata": {
    "collapsed": false,
    "pycharm": {
     "name": "#%%\n"
    }
   }
  },
  {
   "cell_type": "markdown",
   "source": [
    "e) Dokonaj ewaluacji klasyfikatora: sprawdź jak drzewo poradzi sobie z rekordami ze zbioru testowego. Wyświetl dokładność klasyfikatora, czyli procent poprawnych odpowiedzi. Wykorzystaj do tego funkcję score lub predict."
   ],
   "metadata": {
    "collapsed": false,
    "pycharm": {
     "name": "#%% md\n"
    }
   }
  },
  {
   "cell_type": "code",
   "execution_count": 27,
   "outputs": [
    {
     "name": "stdout",
     "output_type": "stream",
     "text": [
      "0.7316017316017316\n",
      "['tested_negative' 'tested_negative' 'tested_negative' 'tested_negative'\n",
      " 'tested_negative' 'tested_positive' 'tested_negative' 'tested_negative'\n",
      " 'tested_negative' 'tested_negative' 'tested_negative' 'tested_negative'\n",
      " 'tested_negative' 'tested_positive' 'tested_negative' 'tested_negative'\n",
      " 'tested_negative' 'tested_negative' 'tested_positive' 'tested_negative'\n",
      " 'tested_negative' 'tested_negative' 'tested_positive' 'tested_negative'\n",
      " 'tested_positive' 'tested_negative' 'tested_negative' 'tested_negative'\n",
      " 'tested_negative' 'tested_positive' 'tested_positive' 'tested_positive'\n",
      " 'tested_negative' 'tested_negative' 'tested_negative' 'tested_positive'\n",
      " 'tested_positive' 'tested_negative' 'tested_positive' 'tested_negative'\n",
      " 'tested_negative' 'tested_positive' 'tested_negative' 'tested_positive'\n",
      " 'tested_negative' 'tested_positive' 'tested_negative' 'tested_positive'\n",
      " 'tested_negative' 'tested_negative' 'tested_negative' 'tested_negative'\n",
      " 'tested_negative' 'tested_negative' 'tested_positive' 'tested_negative'\n",
      " 'tested_positive' 'tested_positive' 'tested_negative' 'tested_positive'\n",
      " 'tested_negative' 'tested_negative' 'tested_positive' 'tested_negative'\n",
      " 'tested_negative' 'tested_negative' 'tested_negative' 'tested_positive'\n",
      " 'tested_positive' 'tested_negative' 'tested_positive' 'tested_negative'\n",
      " 'tested_negative' 'tested_negative' 'tested_negative' 'tested_positive'\n",
      " 'tested_positive' 'tested_positive' 'tested_positive' 'tested_positive'\n",
      " 'tested_negative' 'tested_positive' 'tested_negative' 'tested_negative'\n",
      " 'tested_negative' 'tested_positive' 'tested_negative' 'tested_positive'\n",
      " 'tested_positive' 'tested_negative' 'tested_negative' 'tested_negative'\n",
      " 'tested_negative' 'tested_positive' 'tested_positive' 'tested_negative'\n",
      " 'tested_positive' 'tested_negative' 'tested_negative' 'tested_negative'\n",
      " 'tested_negative' 'tested_negative' 'tested_negative' 'tested_negative'\n",
      " 'tested_positive' 'tested_positive' 'tested_negative' 'tested_positive'\n",
      " 'tested_negative' 'tested_positive' 'tested_positive' 'tested_negative'\n",
      " 'tested_negative' 'tested_negative' 'tested_negative' 'tested_negative'\n",
      " 'tested_negative' 'tested_positive' 'tested_positive' 'tested_negative'\n",
      " 'tested_negative' 'tested_negative' 'tested_positive' 'tested_negative'\n",
      " 'tested_negative' 'tested_negative' 'tested_positive' 'tested_negative'\n",
      " 'tested_negative' 'tested_negative' 'tested_negative' 'tested_negative'\n",
      " 'tested_negative' 'tested_negative' 'tested_positive' 'tested_negative'\n",
      " 'tested_positive' 'tested_negative' 'tested_negative' 'tested_negative'\n",
      " 'tested_negative' 'tested_positive' 'tested_negative' 'tested_negative'\n",
      " 'tested_positive' 'tested_positive' 'tested_negative' 'tested_negative'\n",
      " 'tested_negative' 'tested_positive' 'tested_negative' 'tested_negative'\n",
      " 'tested_negative' 'tested_negative' 'tested_negative' 'tested_negative'\n",
      " 'tested_negative' 'tested_positive' 'tested_negative' 'tested_negative'\n",
      " 'tested_positive' 'tested_negative' 'tested_negative' 'tested_negative'\n",
      " 'tested_negative' 'tested_negative' 'tested_negative' 'tested_negative'\n",
      " 'tested_negative' 'tested_negative' 'tested_negative' 'tested_negative'\n",
      " 'tested_positive' 'tested_negative' 'tested_negative' 'tested_negative'\n",
      " 'tested_negative' 'tested_negative' 'tested_negative' 'tested_negative'\n",
      " 'tested_negative' 'tested_negative' 'tested_positive' 'tested_positive'\n",
      " 'tested_negative' 'tested_negative' 'tested_negative' 'tested_positive'\n",
      " 'tested_negative' 'tested_negative' 'tested_positive' 'tested_negative'\n",
      " 'tested_negative' 'tested_positive' 'tested_negative' 'tested_negative'\n",
      " 'tested_negative' 'tested_positive' 'tested_positive' 'tested_negative'\n",
      " 'tested_negative' 'tested_positive' 'tested_negative' 'tested_negative'\n",
      " 'tested_negative' 'tested_negative' 'tested_positive' 'tested_negative'\n",
      " 'tested_positive' 'tested_negative' 'tested_positive' 'tested_negative'\n",
      " 'tested_positive' 'tested_positive' 'tested_negative' 'tested_positive'\n",
      " 'tested_positive' 'tested_negative' 'tested_negative' 'tested_negative'\n",
      " 'tested_negative' 'tested_positive' 'tested_negative' 'tested_negative'\n",
      " 'tested_positive' 'tested_positive' 'tested_positive' 'tested_positive'\n",
      " 'tested_positive' 'tested_positive' 'tested_positive']\n"
     ]
    }
   ],
   "source": [
    "test_score2 = dtc2.score(test_inputs2, test_classes2)\n",
    "print(test_score2)\n",
    "test_predict2 = dtc2.predict(test_inputs2)\n",
    "print(test_predict2)"
   ],
   "metadata": {
    "collapsed": false,
    "pycharm": {
     "name": "#%%\n"
    }
   }
  },
  {
   "cell_type": "markdown",
   "source": [
    "Wynik:\n",
    "73.1%"
   ],
   "metadata": {
    "collapsed": false,
    "pycharm": {
     "name": "#%% md\n"
    }
   }
  },
  {
   "cell_type": "markdown",
   "source": [
    "f) Wyświetl macierz błędów (ang. confusion matrix), która zestawia liczby\n",
    "błędnych i poprawnych odpowiedzi, dla wszystkich klas."
   ],
   "metadata": {
    "collapsed": false,
    "pycharm": {
     "name": "#%% md\n"
    }
   }
  },
  {
   "cell_type": "code",
   "execution_count": 28,
   "outputs": [
    {
     "data": {
      "text/plain": "array([[ 46,  32],\n       [ 30, 123]], dtype=int64)"
     },
     "execution_count": 28,
     "metadata": {},
     "output_type": "execute_result"
    }
   ],
   "source": [
    "confusion_matrix(test_classes2, test_predict2, labels=['tested_positive', 'tested_negative'])"
   ],
   "metadata": {
    "collapsed": false,
    "pycharm": {
     "name": "#%%\n"
    }
   }
  },
  {
   "cell_type": "markdown",
   "source": [
    "Czy drzewo nauczone automatycznie jest lepsze niż Twoje drzewko stworzone ręcznie\n",
    "w zadaniu 2? Ponownie Tak, choć tylko trochę.\n",
    "Maszyna -> 73.1%\n",
    "Moja funkcja -> 70.56%"
   ],
   "metadata": {
    "collapsed": false,
    "pycharm": {
     "name": "#%% md\n"
    }
   }
  }
 ],
 "metadata": {
  "kernelspec": {
   "display_name": "Python 3",
   "language": "python",
   "name": "python3"
  },
  "language_info": {
   "codemirror_mode": {
    "name": "ipython",
    "version": 2
   },
   "file_extension": ".py",
   "mimetype": "text/x-python",
   "name": "python",
   "nbconvert_exporter": "python",
   "pygments_lexer": "ipython2",
   "version": "2.7.6"
  }
 },
 "nbformat": 4,
 "nbformat_minor": 0
}