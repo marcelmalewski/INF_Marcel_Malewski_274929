{
 "cells": [
  {
   "cell_type": "markdown",
   "source": [
    "zadanie 1\n",
    "a) Policz ile jest w bazie brakujących lub nieuzupełnionych danych. Wyświetl\n",
    "statystyki bazy danych z błędami."
   ],
   "metadata": {
    "collapsed": false
   }
  },
  {
   "cell_type": "markdown",
   "source": [
    "import"
   ],
   "metadata": {
    "collapsed": false
   }
  },
  {
   "cell_type": "code",
   "execution_count": 1,
   "metadata": {
    "collapsed": true
   },
   "outputs": [],
   "source": [
    "import pandas as pd\n",
    "import numpy as np"
   ]
  },
  {
   "cell_type": "code",
   "execution_count": 12,
   "outputs": [
    {
     "name": "stdout",
     "output_type": "stream",
     "text": [
      "sepal.length    2\n",
      "sepal.width     1\n",
      "petal.length    1\n",
      "petal.width     1\n",
      "variety         0\n",
      "dtype: int64\n"
     ]
    }
   ],
   "source": [
    "missing_values = [\"NA\", \"-\"]\n",
    "df = pd.read_csv(\"iris_with_errors.csv\", na_values = missing_values)\n",
    "# powinno byc piec\n",
    "print(df.isnull().sum())"
   ],
   "metadata": {
    "collapsed": false,
    "pycharm": {
     "name": "#%%\n"
    }
   }
  },
  {
   "cell_type": "markdown",
   "source": [
    "b) Sprawdź czy wszystkie dane numeryczne są z zakresu (0; 15). Dane spoza\n",
    "zakresu muszą być poprawione. Możesz tutaj użyć metody: za błędne dane\n",
    "podstaw średnią (lub medianę) z danej kolumny."
   ],
   "metadata": {
    "collapsed": false,
    "pycharm": {
     "name": "#%% md\n"
    }
   }
  },
  {
   "cell_type": "code",
   "execution_count": 50,
   "outputs": [
    {
     "name": "stdout",
     "output_type": "stream",
     "text": [
      "    sepal.length sepal.width       petal.length petal.width    variety\n",
      "0            5.1         3.5                1.4         0.2     Setosa\n",
      "1            4.9         3.0                1.4         0.2     Setosa\n",
      "2            4.7         3.2                1.3         0.2     Setosa\n",
      "3            4.6         3.1                1.5         0.2     Setosa\n",
      "4            5.0         3.6                1.4         0.2     Setosa\n",
      "..           ...         ...                ...         ...        ...\n",
      "145          6.7         3.0                5.2         2.3  Virginica\n",
      "146          6.3         2.5                5.0         1.9  Virginica\n",
      "147          6.5         3.0                5.2         2.0  Virginica\n",
      "148          6.2         3.4  3.758666666666669         2.3  Virginica\n",
      "149          5.9         3.0                5.1         1.8  Virginica\n",
      "\n",
      "[150 rows x 5 columns]\n"
     ]
    }
   ],
   "source": [
    "missing_values = [\"NA\", \"-\"]\n",
    "df = pd.read_csv(\"iris_with_errors.csv\", na_values = missing_values)\n",
    "df[\"sepal.length\"].fillna(-1, inplace=True)\n",
    "df[\"sepal.width\"].fillna(-1, inplace=True)\n",
    "df[\"petal.length\"].fillna(-1, inplace=True)\n",
    "df[\"petal.width\"].fillna(-1, inplace=True)\n",
    "# sepal length----------------------------------------------------------------------\n",
    "sum = 0\n",
    "cnt = 0\n",
    "for row in df[\"sepal.length\"]:\n",
    "    if float(df.loc[cnt, \"sepal.length\"]) > 0 or float(df.loc[cnt, \"sepal.length\"]) < 15:\n",
    "        sum += float(df.loc[cnt, \"sepal.length\"])\n",
    "    cnt += 1\n",
    "\n",
    "mediana = sum/150\n",
    "\n",
    "cnt = 0\n",
    "for row in df[\"sepal.length\"]:\n",
    "    if float(df.loc[cnt, \"sepal.length\"]) <= 0 or float(df.loc[cnt, \"sepal.length\"]) >= 15:\n",
    "        sum += float(df.loc[cnt, \"sepal.length\"])\n",
    "        df.loc[cnt,'sepal.length'] = str(mediana)\n",
    "    cnt += 1\n",
    "\n",
    "# sepal.width----------------------------------------------------------------------\n",
    "sum = 0\n",
    "cnt = 0\n",
    "for row in df[\"sepal.width\"]:\n",
    "    if float(df.loc[cnt, \"sepal.width\"]) > 0 or float(df.loc[cnt, \"sepal.width\"]) < 15:\n",
    "        sum += float(df.loc[cnt, \"sepal.width\"])\n",
    "    cnt += 1\n",
    "\n",
    "mediana = sum/150\n",
    "\n",
    "cnt = 0\n",
    "for row in df[\"sepal.width\"]:\n",
    "    if float(df.loc[cnt, \"sepal.width\"]) <= 0 or float(df.loc[cnt, \"sepal.width\"]) >= 15:\n",
    "        sum += float(df.loc[cnt, \"sepal.width\"])\n",
    "        df.loc[cnt,'sepal.width'] = str(mediana)\n",
    "    cnt += 1\n",
    "\n",
    "# petal.length----------------------------------------------------------------------\n",
    "sum = 0\n",
    "cnt = 0\n",
    "for row in df[\"petal.length\"]:\n",
    "    if float(df.loc[cnt, \"petal.length\"]) > 0 or float(df.loc[cnt, \"petal.length\"]) < 15:\n",
    "        sum += float(df.loc[cnt, \"petal.length\"])\n",
    "    cnt += 1\n",
    "\n",
    "mediana = sum/150\n",
    "\n",
    "cnt = 0\n",
    "for row in df[\"petal.length\"]:\n",
    "    if float(df.loc[cnt, \"petal.length\"]) <= 0 or float(df.loc[cnt, \"petal.length\"]) >= 15:\n",
    "        sum += float(df.loc[cnt, \"petal.length\"])\n",
    "        df.loc[cnt,'petal.length'] = str(mediana)\n",
    "    cnt += 1\n",
    "\n",
    "# petal.width----------------------------------------------------------------------\n",
    "sum = 0\n",
    "cnt = 0\n",
    "for row in df[\"petal.width\"]:\n",
    "    if float(df.loc[cnt, \"petal.width\"]) > 0 or float(df.loc[cnt, \"petal.width\"]) < 15:\n",
    "        sum += float(df.loc[cnt, \"petal.width\"])\n",
    "    cnt += 1\n",
    "\n",
    "mediana = sum/150\n",
    "\n",
    "cnt = 0\n",
    "for row in df[\"petal.width\"]:\n",
    "    if float(df.loc[cnt, \"petal.width\"]) <= 0 or float(df.loc[cnt, \"petal.width\"]) >= 15:\n",
    "        sum += float(df.loc[cnt, \"petal.width\"])\n",
    "        df.loc[cnt,'petal.width'] = str(mediana)\n",
    "    cnt += 1\n",
    "\n",
    "print(df)"
   ],
   "metadata": {
    "collapsed": false,
    "pycharm": {
     "name": "#%%\n"
    }
   }
  },
  {
   "cell_type": "markdown",
   "source": [
    "c)Sprawdź czy wszystkie gatunki są napisami: „Setosa”, „Versicolor” lub „Virginica”.\n",
    "Jeśli nie, wskaż jakie popełniono błędy i popraw je własną (sensowną) metodą."
   ],
   "metadata": {
    "collapsed": false
   }
  },
  {
   "cell_type": "code",
   "execution_count": 64,
   "outputs": [
    {
     "name": "stdout",
     "output_type": "stream",
     "text": [
      "0\n",
      "0\n"
     ]
    }
   ],
   "source": [
    "correct_names = [\"Setosa\", \"Versicolor\", \"Virginica\"]\n",
    "\n",
    "numberOfWrongNames = 0\n",
    "cnt = 0\n",
    "for row in df[\"variety\"]:\n",
    "    if df.loc[cnt, \"variety\"] not in correct_names:\n",
    "        numberOfWrongNames += 1\n",
    "    cnt += 1\n",
    "\n",
    "print(numberOfWrongNames) # 7\n",
    "\n",
    "# test = \"fdsADDFV\"\n",
    "# print(test.lower().capitalize())\n",
    "cnt = 0\n",
    "for row in df[\"variety\"]:\n",
    "    if df.loc[cnt, \"variety\"] not in correct_names:\n",
    "        # powiększamy pierwszą literkę\n",
    "        correct_name = str(df.loc[cnt, \"variety\"]).capitalize()\n",
    "\n",
    "        # usuwamy u\n",
    "        correct_name = \"Versicolor\" if correct_name == \"Versicolour\" else correct_name\n",
    "\n",
    "        df.loc[cnt,'variety'] = correct_name\n",
    "    cnt += 1\n",
    "\n",
    "# i ponownie liczymy dla pewności\n",
    "numberOfWrongNames = 0\n",
    "cnt = 0\n",
    "for row in df[\"variety\"]:\n",
    "    if df.loc[cnt, \"variety\"] not in correct_names:\n",
    "        numberOfWrongNames += 1\n",
    "    cnt += 1\n",
    "\n",
    "print(numberOfWrongNames) # 0"
   ],
   "metadata": {
    "collapsed": false,
    "pycharm": {
     "name": "#%%\n"
    }
   }
  },
  {
   "cell_type": "markdown",
   "source": [
    "Popełnione błędy:\n",
    "* pierwsza litera jest mała\n",
    "* jest \"Versicolour\" zamiast \"Versicolor\""
   ],
   "metadata": {
    "collapsed": false
   }
  },
  {
   "cell_type": "markdown",
   "source": [
    "Zadanie 2"
   ],
   "metadata": {
    "collapsed": false
   }
  },
  {
   "cell_type": "code",
   "execution_count": null,
   "outputs": [],
   "source": [
    "df = pd.read_csv(\"iris.csv\")\n",
    "\n"
   ],
   "metadata": {
    "collapsed": false,
    "pycharm": {
     "name": "#%%\n"
    }
   }
  }
 ],
 "metadata": {
  "kernelspec": {
   "display_name": "Python 3",
   "language": "python",
   "name": "python3"
  },
  "language_info": {
   "codemirror_mode": {
    "name": "ipython",
    "version": 2
   },
   "file_extension": ".py",
   "mimetype": "text/x-python",
   "name": "python",
   "nbconvert_exporter": "python",
   "pygments_lexer": "ipython2",
   "version": "2.7.6"
  }
 },
 "nbformat": 4,
 "nbformat_minor": 0
}