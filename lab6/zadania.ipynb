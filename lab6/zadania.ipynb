{
 "cells": [
  {
   "cell_type": "markdown",
   "source": [
    "zadanie 1\n",
    "a) Policz ile jest w bazie brakujących lub nieuzupełnionych danych. Wyświetl\n",
    "statystyki bazy danych z błędami."
   ],
   "metadata": {
    "collapsed": false,
    "pycharm": {
     "name": "#%% md\n"
    }
   }
  },
  {
   "cell_type": "markdown",
   "source": [
    "import"
   ],
   "metadata": {
    "collapsed": false,
    "pycharm": {
     "name": "#%% md\n"
    }
   }
  },
  {
   "cell_type": "code",
   "execution_count": 2,
   "metadata": {
    "collapsed": true,
    "pycharm": {
     "name": "#%%\n"
    }
   },
   "outputs": [],
   "source": [
    "import pandas as pd\n",
    "import numpy as np"
   ]
  },
  {
   "cell_type": "code",
   "execution_count": 12,
   "outputs": [
    {
     "name": "stdout",
     "output_type": "stream",
     "text": [
      "sepal.length    2\n",
      "sepal.width     1\n",
      "petal.length    1\n",
      "petal.width     1\n",
      "variety         0\n",
      "dtype: int64\n"
     ]
    }
   ],
   "source": [
    "missing_values = [\"NA\", \"-\"]\n",
    "df = pd.read_csv(\"iris_with_errors.csv\", na_values = missing_values)\n",
    "# powinno byc piec\n",
    "print(df.isnull().sum())"
   ],
   "metadata": {
    "collapsed": false,
    "pycharm": {
     "name": "#%%\n"
    }
   }
  },
  {
   "cell_type": "markdown",
   "source": [
    "b) Sprawdź czy wszystkie dane numeryczne są z zakresu (0; 15). Dane spoza\n",
    "zakresu muszą być poprawione. Możesz tutaj użyć metody: za błędne dane\n",
    "podstaw średnią (lub medianę) z danej kolumny."
   ],
   "metadata": {
    "collapsed": false,
    "pycharm": {
     "name": "#%% md\n"
    }
   }
  },
  {
   "cell_type": "code",
   "execution_count": 50,
   "outputs": [
    {
     "name": "stdout",
     "output_type": "stream",
     "text": [
      "    sepal.length sepal.width       petal.length petal.width    variety\n",
      "0            5.1         3.5                1.4         0.2     Setosa\n",
      "1            4.9         3.0                1.4         0.2     Setosa\n",
      "2            4.7         3.2                1.3         0.2     Setosa\n",
      "3            4.6         3.1                1.5         0.2     Setosa\n",
      "4            5.0         3.6                1.4         0.2     Setosa\n",
      "..           ...         ...                ...         ...        ...\n",
      "145          6.7         3.0                5.2         2.3  Virginica\n",
      "146          6.3         2.5                5.0         1.9  Virginica\n",
      "147          6.5         3.0                5.2         2.0  Virginica\n",
      "148          6.2         3.4  3.758666666666669         2.3  Virginica\n",
      "149          5.9         3.0                5.1         1.8  Virginica\n",
      "\n",
      "[150 rows x 5 columns]\n"
     ]
    }
   ],
   "source": [
    "missing_values = [\"NA\", \"-\"]\n",
    "df = pd.read_csv(\"iris_with_errors.csv\", na_values = missing_values)\n",
    "df[\"sepal.length\"].fillna(-1, inplace=True)\n",
    "df[\"sepal.width\"].fillna(-1, inplace=True)\n",
    "df[\"petal.length\"].fillna(-1, inplace=True)\n",
    "df[\"petal.width\"].fillna(-1, inplace=True)\n",
    "# sepal length----------------------------------------------------------------------\n",
    "sum = 0\n",
    "cnt = 0\n",
    "for row in df[\"sepal.length\"]:\n",
    "    if float(df.loc[cnt, \"sepal.length\"]) > 0 or float(df.loc[cnt, \"sepal.length\"]) < 15:\n",
    "        sum += float(df.loc[cnt, \"sepal.length\"])\n",
    "    cnt += 1\n",
    "\n",
    "mediana = sum/150\n",
    "\n",
    "cnt = 0\n",
    "for row in df[\"sepal.length\"]:\n",
    "    if float(df.loc[cnt, \"sepal.length\"]) <= 0 or float(df.loc[cnt, \"sepal.length\"]) >= 15:\n",
    "        sum += float(df.loc[cnt, \"sepal.length\"])\n",
    "        df.loc[cnt,'sepal.length'] = str(mediana)\n",
    "    cnt += 1\n",
    "\n",
    "# sepal.width----------------------------------------------------------------------\n",
    "sum = 0\n",
    "cnt = 0\n",
    "for row in df[\"sepal.width\"]:\n",
    "    if float(df.loc[cnt, \"sepal.width\"]) > 0 or float(df.loc[cnt, \"sepal.width\"]) < 15:\n",
    "        sum += float(df.loc[cnt, \"sepal.width\"])\n",
    "    cnt += 1\n",
    "\n",
    "mediana = sum/150\n",
    "\n",
    "cnt = 0\n",
    "for row in df[\"sepal.width\"]:\n",
    "    if float(df.loc[cnt, \"sepal.width\"]) <= 0 or float(df.loc[cnt, \"sepal.width\"]) >= 15:\n",
    "        sum += float(df.loc[cnt, \"sepal.width\"])\n",
    "        df.loc[cnt,'sepal.width'] = str(mediana)\n",
    "    cnt += 1\n",
    "\n",
    "# petal.length----------------------------------------------------------------------\n",
    "sum = 0\n",
    "cnt = 0\n",
    "for row in df[\"petal.length\"]:\n",
    "    if float(df.loc[cnt, \"petal.length\"]) > 0 or float(df.loc[cnt, \"petal.length\"]) < 15:\n",
    "        sum += float(df.loc[cnt, \"petal.length\"])\n",
    "    cnt += 1\n",
    "\n",
    "mediana = sum/150\n",
    "\n",
    "cnt = 0\n",
    "for row in df[\"petal.length\"]:\n",
    "    if float(df.loc[cnt, \"petal.length\"]) <= 0 or float(df.loc[cnt, \"petal.length\"]) >= 15:\n",
    "        sum += float(df.loc[cnt, \"petal.length\"])\n",
    "        df.loc[cnt,'petal.length'] = str(mediana)\n",
    "    cnt += 1\n",
    "\n",
    "# petal.width----------------------------------------------------------------------\n",
    "sum = 0\n",
    "cnt = 0\n",
    "for row in df[\"petal.width\"]:\n",
    "    if float(df.loc[cnt, \"petal.width\"]) > 0 or float(df.loc[cnt, \"petal.width\"]) < 15:\n",
    "        sum += float(df.loc[cnt, \"petal.width\"])\n",
    "    cnt += 1\n",
    "\n",
    "mediana = sum/150\n",
    "\n",
    "cnt = 0\n",
    "for row in df[\"petal.width\"]:\n",
    "    if float(df.loc[cnt, \"petal.width\"]) <= 0 or float(df.loc[cnt, \"petal.width\"]) >= 15:\n",
    "        sum += float(df.loc[cnt, \"petal.width\"])\n",
    "        df.loc[cnt,'petal.width'] = str(mediana)\n",
    "    cnt += 1\n",
    "\n",
    "print(df)"
   ],
   "metadata": {
    "collapsed": false,
    "pycharm": {
     "name": "#%%\n"
    }
   }
  },
  {
   "cell_type": "markdown",
   "source": [
    "c)Sprawdź czy wszystkie gatunki są napisami: „Setosa”, „Versicolor” lub „Virginica”.\n",
    "Jeśli nie, wskaż jakie popełniono błędy i popraw je własną (sensowną) metodą."
   ],
   "metadata": {
    "collapsed": false,
    "pycharm": {
     "name": "#%% md\n"
    }
   }
  },
  {
   "cell_type": "code",
   "execution_count": 64,
   "outputs": [
    {
     "name": "stdout",
     "output_type": "stream",
     "text": [
      "0\n",
      "0\n"
     ]
    }
   ],
   "source": [
    "correct_names = [\"Setosa\", \"Versicolor\", \"Virginica\"]\n",
    "\n",
    "numberOfWrongNames = 0\n",
    "cnt = 0\n",
    "for row in df[\"variety\"]:\n",
    "    if df.loc[cnt, \"variety\"] not in correct_names:\n",
    "        numberOfWrongNames += 1\n",
    "    cnt += 1\n",
    "\n",
    "print(numberOfWrongNames) # 7\n",
    "\n",
    "# test = \"fdsADDFV\"\n",
    "# print(test.lower().capitalize())\n",
    "cnt = 0\n",
    "for row in df[\"variety\"]:\n",
    "    if df.loc[cnt, \"variety\"] not in correct_names:\n",
    "        # powiększamy pierwszą literkę\n",
    "        correct_name = str(df.loc[cnt, \"variety\"]).capitalize()\n",
    "\n",
    "        # usuwamy u\n",
    "        correct_name = \"Versicolor\" if correct_name == \"Versicolour\" else correct_name\n",
    "\n",
    "        df.loc[cnt,'variety'] = correct_name\n",
    "    cnt += 1\n",
    "\n",
    "# i ponownie liczymy dla pewności\n",
    "numberOfWrongNames = 0\n",
    "cnt = 0\n",
    "for row in df[\"variety\"]:\n",
    "    if df.loc[cnt, \"variety\"] not in correct_names:\n",
    "        numberOfWrongNames += 1\n",
    "    cnt += 1\n",
    "\n",
    "print(numberOfWrongNames) # 0"
   ],
   "metadata": {
    "collapsed": false,
    "pycharm": {
     "name": "#%%\n"
    }
   }
  },
  {
   "cell_type": "markdown",
   "source": [
    "Popełnione błędy:\n",
    "* pierwsza litera jest mała\n",
    "* jest \"Versicolour\" zamiast \"Versicolor\""
   ],
   "metadata": {
    "collapsed": false,
    "pycharm": {
     "name": "#%% md\n"
    }
   }
  },
  {
   "cell_type": "markdown",
   "source": [
    "Zadanie 2\n",
    "a)\n",
    "b) Dokonaj PCA na bazie danych. Przyjrzyj się nowym kolumnom i wariancjom. Ile\n",
    "kolumn można usunąć, tak aby zachować minimum 80% wariancji (strata\n",
    "informacji nie może być większa niż 20%)? Korzystając z poniższego wzoru,\n",
    "swoją odpowiedź uzasadnij."
   ],
   "metadata": {
    "collapsed": false,
    "pycharm": {
     "name": "#%% md\n"
    }
   }
  },
  {
   "cell_type": "code",
   "execution_count": 55,
   "outputs": [
    {
     "data": {
      "text/plain": "array([0.72770452, 0.23030523, 0.03683832])"
     },
     "execution_count": 55,
     "metadata": {},
     "output_type": "execute_result"
    }
   ],
   "source": [
    "import matplotlib.pylab as plt\n",
    "from sklearn.preprocessing import StandardScaler\n",
    "\n",
    "url = \"https://archive.ics.uci.edu/ml/machine-learning-databases/iris/iris.data\"\n",
    "\n",
    "# load dataset into Pandas DataFrame\n",
    "df = pd.read_csv(url, names=['sepal length','sepal width','petal length','petal width','target'])\n",
    "\n",
    "features = ['sepal length', 'sepal width', 'petal length', 'petal width']\n",
    "\n",
    "# Separating out the features\n",
    "x = df.loc[:, features].values\n",
    "\n",
    "# Separating out the target\n",
    "y = df.loc[:,['target']].values\n",
    "\n",
    "# Standardizing the features\n",
    "x = StandardScaler().fit_transform(x)\n",
    "\n",
    "# print(df)\n",
    "# print(x)\n",
    "\n",
    "from sklearn.decomposition import PCA\n",
    "\n",
    "# pca2\n",
    "pca = PCA(n_components=2)\n",
    "principalComponents = pca.fit_transform(x)\n",
    "principalDf = pd.DataFrame(data = principalComponents\n",
    "                           , columns = ['principal component 1', 'principal component 2'])\n",
    "\n",
    "finalDf = pd.concat([principalDf, df[['target']]], axis = 1)\n",
    "\n",
    "# print(finalDf)\n",
    "\n",
    "# pca3\n",
    "pca3 = PCA(n_components=3)\n",
    "principalComponents3 = pca3.fit_transform(x)\n",
    "principalDf3 = pd.DataFrame(data = principalComponents3\n",
    "                           , columns = ['principal component 1', 'principal component 2', 'principal component 3'])\n",
    "\n",
    "finalDf3 = pd.concat([principalDf3, df[['target']]], axis = 1)\n",
    "\n",
    "# pca1\n",
    "pca1 = PCA(n_components=1)\n",
    "principalComponents1 = pca1.fit_transform(x)\n",
    "principalDf1 = pd.DataFrame(data = principalComponents1\n",
    "                            , columns = ['principal component 1'])\n",
    "\n",
    "finalDf1 = pd.concat([principalDf, df[['target']]], axis = 1)\n",
    "\n",
    "# print(finalDf)\n",
    "# print(\"pca do 2 kolumn\")\n",
    "# print(pca.explained_variance_ratio_)\n",
    "# print(\"--------------------------\")\n",
    "# print(\"pca do 3 kolumn\")\n",
    "# print(pca3.explained_variance_ratio_)\n",
    "# print(\"--------------------------\")\n",
    "# print(\"pca do 1 kolumny\")\n",
    "# print(pca1.explained_variance_ratio_)\n",
    "pca3.explained_variance_ratio_"
   ],
   "metadata": {
    "collapsed": false,
    "pycharm": {
     "name": "#%%\n"
    }
   }
  },
  {
   "cell_type": "markdown",
   "source": [
    "\"~=\" - oznacza, w zaokrągleniu\n",
    "\n",
    "Kolumna1, wariancja ~= 72.77%\n",
    "Kolumna2, wariancja ~= 23.03%\n",
    "Kolumna3, wariancja ~= 3.68%\n",
    "\n",
    "Po usunięciu jednej kolumny, strata ~= 0.52%\n",
    "Po usunięciu dwóch kolumn, strata ~= 4.2%\n",
    "Po usunięciu trzech kolumn, strata ~= 27.23%\n",
    "Czyli możemy usunąć maksymalnie dwie kolumny, przy tzeciej przekraczamy 20% straty."
   ],
   "metadata": {
    "collapsed": false,
    "pycharm": {
     "name": "#%% md\n"
    }
   }
  },
  {
   "cell_type": "markdown",
   "source": [
    "PCA do 2 kolumn wizualizacja"
   ],
   "metadata": {
    "collapsed": false,
    "pycharm": {
     "name": "#%% md\n"
    }
   }
  },
  {
   "cell_type": "code",
   "execution_count": 47,
   "outputs": [
    {
     "data": {
      "text/plain": "<Figure size 576x576 with 1 Axes>",
      "image/png": "[encoded data removed]"
     },
     "metadata": {},
     "output_type": "display_data"
    }
   ],
   "source": [
    "fig = plt.figure(figsize = (8,8))\n",
    "ax = fig.add_subplot(1,1,1)\n",
    "ax.set_xlabel('Principal Component 1', fontsize = 15)\n",
    "ax.set_ylabel('Principal Component 2', fontsize = 15)\n",
    "ax.set_title('2 component PCA', fontsize = 20)\n",
    "targets = ['Iris-setosa', 'Iris-versicolor', 'Iris-virginica']\n",
    "colors = ['r', 'g', 'b']\n",
    "for target, color in zip(targets,colors):\n",
    "    indicesToKeep = finalDf['target'] == target\n",
    "    ax.scatter(finalDf.loc[indicesToKeep, 'principal component 1']\n",
    "               , finalDf.loc[indicesToKeep, 'principal component 2']\n",
    "               , c = color\n",
    "               , s = 50)\n",
    "ax.legend(targets)\n",
    "ax.grid()"
   ],
   "metadata": {
    "collapsed": false,
    "pycharm": {
     "name": "#%%\n"
    }
   }
  },
  {
   "cell_type": "markdown",
   "source": [
    "PCA do 3 kolumn wizualizacja"
   ],
   "metadata": {
    "collapsed": false,
    "pycharm": {
     "name": "#%% md\n"
    }
   }
  },
  {
   "cell_type": "code",
   "execution_count": 48,
   "outputs": [
    {
     "name": "stderr",
     "output_type": "stream",
     "text": [
      "C:\\Users\\mmale\\AppData\\Local\\Temp\\ipykernel_15948\\2588137704.py:14: FutureWarning: In a future version of pandas all arguments of DataFrame.drop except for the argument 'labels' will be keyword-only.\n",
      "  df3D = df3D.drop('species', 1)\n"
     ]
    },
    {
     "data": {
      "text/plain": "<Figure size 480x480 with 0 Axes>"
     },
     "metadata": {},
     "output_type": "display_data"
    },
    {
     "data": {
      "text/plain": "<Figure size 432x288 with 1 Axes>",
      "image/png": "[encoded data removed]"
     },
     "metadata": {},
     "output_type": "display_data"
    }
   ],
   "source": [
    "import seaborn as sns\n",
    "\n",
    "# Get the iris dataset\n",
    "sns.set_style(\"white\")\n",
    "df3D = sns.load_dataset('iris')\n",
    "\n",
    "# create figure\n",
    "my_dpi=96\n",
    "plt.figure(figsize=(480/my_dpi, 480/my_dpi), dpi=my_dpi)\n",
    "\n",
    "# Keep the 'species' column appart + make it numeric for coloring\n",
    "df3D['species']=pd.Categorical(df3D['species'])\n",
    "my_color=df3D['species'].cat.codes\n",
    "df3D = df3D.drop('species', 1)\n",
    "\n",
    "# Run The PCA\n",
    "pca = PCA(n_components=3)\n",
    "pca.fit(df3D)\n",
    "\n",
    "# Store results of PCA in a data frame\n",
    "result=pd.DataFrame(pca.transform(df3D), columns=['PCA0', 'PCA1', 'PCA2'], index=df3D.index)\n",
    "\n",
    "# Plot initialisation\n",
    "fig = plt.figure()\n",
    "ax = fig.add_subplot(111, projection='3d')\n",
    "ax.scatter(result['PCA0'], result['PCA1'], result['PCA2'], c=my_color, cmap=\"Set2_r\", s=60)\n",
    "\n",
    "# make simple, bare axis lines through space:\n",
    "xAxisLine = ((min(result['PCA0']), max(result['PCA0'])), (0, 0), (0,0))\n",
    "ax.plot(xAxisLine[0], xAxisLine[1], xAxisLine[2], 'r')\n",
    "yAxisLine = ((0, 0), (min(result['PCA1']), max(result['PCA1'])), (0,0))\n",
    "ax.plot(yAxisLine[0], yAxisLine[1], yAxisLine[2], 'r')\n",
    "zAxisLine = ((0, 0), (0,0), (min(result['PCA2']), max(result['PCA2'])))\n",
    "ax.plot(zAxisLine[0], zAxisLine[1], zAxisLine[2], 'r')\n",
    "\n",
    "# label the axes\n",
    "ax.set_xlabel(\"PC1\")\n",
    "ax.set_ylabel(\"PC2\")\n",
    "ax.set_zlabel(\"PC3\")\n",
    "ax.set_title(\"PCA on the iris data set\")\n",
    "plt.show()"
   ],
   "metadata": {
    "collapsed": false,
    "pycharm": {
     "name": "#%%\n"
    }
   }
  }
 ],
 "metadata": {
  "kernelspec": {
   "display_name": "Python 3",
   "language": "python",
   "name": "python3"
  },
  "language_info": {
   "codemirror_mode": {
    "name": "ipython",
    "version": 2
   },
   "file_extension": ".py",
   "mimetype": "text/x-python",
   "name": "python",
   "nbconvert_exporter": "python",
   "pygments_lexer": "ipython2",
   "version": "2.7.6"
  }
 },
 "nbformat": 4,
 "nbformat_minor": 0
}