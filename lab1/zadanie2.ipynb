{
 "cells": [
  {
   "cell_type": "code",
   "execution_count": 80,
   "outputs": [],
   "source": [
    "import math\n",
    "import random\n",
    "import statistics"
   ],
   "metadata": {
    "collapsed": false,
    "pycharm": {
     "name": "#%%\n"
    }
   }
  },
  {
   "cell_type": "markdown",
   "metadata": {
    "collapsed": true,
    "pycharm": {
     "name": "#%% md\n"
    }
   },
   "source": [
    "zadanie 2\n",
    "a)"
   ]
  },
  {
   "cell_type": "code",
   "execution_count": 81,
   "outputs": [],
   "source": [
    "vector1 = [3, 8, 9, 10, 12]\n",
    "vector2 = [8, 7, 7, 5, 6]"
   ],
   "metadata": {
    "collapsed": false,
    "pycharm": {
     "name": "#%%\n"
    }
   }
  },
  {
   "cell_type": "markdown",
   "source": [
    "sumowanie po współrzędnych:"
   ],
   "metadata": {
    "collapsed": false,
    "pycharm": {
     "name": "#%% md\n"
    }
   }
  },
  {
   "cell_type": "code",
   "execution_count": 82,
   "outputs": [
    {
     "name": "stdout",
     "output_type": "stream",
     "text": [
      "[11, 15, 16, 15, 18]\n"
     ]
    }
   ],
   "source": [
    "vectors_sum = []\n",
    "\n",
    "for i in range(len(vector1)):\n",
    "    vectors_sum.append(vector1[i] + vector2[i])\n",
    "print(vectors_sum)"
   ],
   "metadata": {
    "collapsed": false,
    "pycharm": {
     "name": "#%%\n"
    }
   }
  },
  {
   "cell_type": "markdown",
   "source": [
    "iloczyn po współrzędnych:"
   ],
   "metadata": {
    "collapsed": false,
    "pycharm": {
     "name": "#%% md\n"
    }
   }
  },
  {
   "cell_type": "code",
   "execution_count": 83,
   "outputs": [
    {
     "name": "stdout",
     "output_type": "stream",
     "text": [
      "[24, 56, 63, 50, 72]\n"
     ]
    }
   ],
   "source": [
    "vectors_product = []\n",
    "\n",
    "for i in range(len(vector1)):\n",
    "    vectors_product.append(vector1[i] * vector2[i])\n",
    "print(vectors_product)"
   ],
   "metadata": {
    "collapsed": false,
    "pycharm": {
     "name": "#%%\n"
    }
   }
  },
  {
   "cell_type": "markdown",
   "source": [
    "b) iloczyn skalarny"
   ],
   "metadata": {
    "collapsed": false,
    "pycharm": {
     "name": "#%% md\n"
    }
   }
  },
  {
   "cell_type": "code",
   "execution_count": 84,
   "outputs": [
    {
     "name": "stdout",
     "output_type": "stream",
     "text": [
      "265\n"
     ]
    }
   ],
   "source": [
    "vectors_scalar_product = 0\n",
    "\n",
    "for i in range(len(vector1)):\n",
    "    vectors_scalar_product += vector1[i] * vector2[i]\n",
    "print(vectors_scalar_product)"
   ],
   "metadata": {
    "collapsed": false,
    "pycharm": {
     "name": "#%%\n"
    }
   }
  },
  {
   "cell_type": "markdown",
   "source": [
    "c) Dla powyższych wektorów podaj ich długości euklidesowe (długość wektora jako strzałki w\n",
    "przestrzeni)"
   ],
   "metadata": {
    "collapsed": false,
    "pycharm": {
     "name": "#%% md\n"
    }
   }
  },
  {
   "cell_type": "code",
   "execution_count": 85,
   "outputs": [
    {
     "name": "stdout",
     "output_type": "stream",
     "text": [
      "19.949937343260004\n",
      "14.933184523068078\n"
     ]
    }
   ],
   "source": [
    "def make_euclidean_length(vector):\n",
    "    result = 0\n",
    "    for number in vector:\n",
    "        result += number ** 2\n",
    "    return math.sqrt(result)\n",
    "\n",
    "print(make_euclidean_length(vector1))\n",
    "print(make_euclidean_length(vector2))"
   ],
   "metadata": {
    "collapsed": false,
    "pycharm": {
     "name": "#%%\n"
    }
   }
  },
  {
   "cell_type": "markdown",
   "source": [
    "d) Stwórz wektor 50 losowych liczb z zakresu od 1 do 100."
   ],
   "metadata": {
    "collapsed": false,
    "pycharm": {
     "name": "#%% md\n"
    }
   }
  },
  {
   "cell_type": "code",
   "execution_count": 86,
   "outputs": [
    {
     "name": "stdout",
     "output_type": "stream",
     "text": [
      "[58, 47, 2, 86, 69, 14, 15, 65, 49, 65, 38, 4, 89, 95, 78, 85, 76, 69, 75, 91, 97, 5, 3, 7, 41, 70, 56, 20, 100, 98, 97, 70, 80, 14, 96, 85, 32, 61, 100, 82, 2, 77, 99, 66, 56, 2, 91, 69, 92, 21]\n"
     ]
    }
   ],
   "source": [
    "random_numbers = [random.randint(1, 100) for i in range(0, 50)]\n",
    "print(random_numbers)"
   ],
   "metadata": {
    "collapsed": false,
    "pycharm": {
     "name": "#%%\n"
    }
   }
  },
  {
   "cell_type": "markdown",
   "source": [
    "e) Dla wektora z punktu (d) policz średnią z wszystkich jego liczb, min, max oraz odchylenie\n",
    "standardowe."
   ],
   "metadata": {
    "collapsed": false,
    "pycharm": {
     "name": "#%% md\n"
    }
   }
  },
  {
   "cell_type": "code",
   "execution_count": 87,
   "outputs": [
    {
     "name": "stdout",
     "output_type": "stream",
     "text": [
      "min: 2\n",
      "max: 100\n",
      "mean: 59.18\n"
     ]
    }
   ],
   "source": [
    "random_numbers_min = min(random_numbers)\n",
    "random_numbers_max = max(random_numbers)\n",
    "random_numbers_mean = statistics.mean(random_numbers)\n",
    "\n",
    "print(\"min: \" + str(random_numbers_min))\n",
    "print(\"max: \" + str(random_numbers_max))\n",
    "print(\"mean: \" + str(random_numbers_mean))"
   ],
   "metadata": {
    "collapsed": false,
    "pycharm": {
     "name": "#%%\n"
    }
   }
  },
  {
   "cell_type": "markdown",
   "source": [
    "f) Dokonaj normalizacji wektora z podpunktu (d)"
   ],
   "metadata": {
    "collapsed": false,
    "pycharm": {
     "name": "#%% md\n"
    }
   }
  },
  {
   "cell_type": "code",
   "execution_count": 88,
   "outputs": [
    {
     "name": "stdout",
     "output_type": "stream",
     "text": [
      "[0.5714285714285714, 0.45918367346938777, 0.0, 0.8571428571428571, 0.6836734693877551, 0.12244897959183673, 0.1326530612244898, 0.6428571428571429, 0.47959183673469385, 0.6428571428571429, 0.3673469387755102, 0.02040816326530612, 0.8877551020408163, 0.9489795918367347, 0.7755102040816326, 0.8469387755102041, 0.7551020408163265, 0.6836734693877551, 0.7448979591836735, 0.9081632653061225, 0.9693877551020408, 0.030612244897959183, 0.01020408163265306, 0.05102040816326531, 0.3979591836734694, 0.6938775510204082, 0.5510204081632653, 0.1836734693877551, 1.0, 0.9795918367346939, 0.9693877551020408, 0.6938775510204082, 0.7959183673469388, 0.12244897959183673, 0.9591836734693877, 0.8469387755102041, 0.30612244897959184, 0.6020408163265306, 1.0, 0.8163265306122449, 0.0, 0.7653061224489796, 0.9897959183673469, 0.6530612244897959, 0.5510204081632653, 0.0, 0.9081632653061225, 0.6836734693877551, 0.9183673469387755, 0.19387755102040816]\n"
     ]
    }
   ],
   "source": [
    "random_numbers_normalized = []\n",
    "for number in random_numbers:\n",
    "    normalized_number = (number - random_numbers_min) / (random_numbers_max - random_numbers_min)\n",
    "    random_numbers_normalized.append(normalized_number)\n",
    "\n",
    "print(random_numbers_normalized)"
   ],
   "metadata": {
    "collapsed": false,
    "pycharm": {
     "name": "#%%\n"
    }
   }
  },
  {
   "cell_type": "markdown",
   "source": [
    "W oryginalnym wektorze jakie było max?"
   ],
   "metadata": {
    "collapsed": false
   }
  },
  {
   "cell_type": "code",
   "execution_count": 89,
   "outputs": [
    {
     "name": "stdout",
     "output_type": "stream",
     "text": [
      "max: 100\n"
     ]
    }
   ],
   "source": [
    "print(\"max: \" + str(random_numbers_max))"
   ],
   "metadata": {
    "collapsed": false,
    "pycharm": {
     "name": "#%%\n"
    }
   }
  },
  {
   "cell_type": "markdown",
   "source": [
    "Na której pozycji stało?"
   ],
   "metadata": {
    "collapsed": false
   }
  },
  {
   "cell_type": "code",
   "execution_count": 90,
   "outputs": [
    {
     "name": "stdout",
     "output_type": "stream",
     "text": [
      "28\n"
     ]
    }
   ],
   "source": [
    "random_numbers_max_index = random_numbers.index(random_numbers_max)\n",
    "print(random_numbers_max_index)"
   ],
   "metadata": {
    "collapsed": false,
    "pycharm": {
     "name": "#%%\n"
    }
   }
  },
  {
   "cell_type": "markdown",
   "source": [
    "Jaka liczba stoi na tej pozycji w nowym wektorze?"
   ],
   "metadata": {
    "collapsed": false
   }
  },
  {
   "cell_type": "code",
   "execution_count": 91,
   "outputs": [
    {
     "name": "stdout",
     "output_type": "stream",
     "text": [
      "1.0\n"
     ]
    }
   ],
   "source": [
    "print(random_numbers_normalized[random_numbers_max_index])"
   ],
   "metadata": {
    "collapsed": false,
    "pycharm": {
     "name": "#%%\n"
    }
   }
  },
  {
   "cell_type": "markdown",
   "source": [
    "g) Dokonaj standaryzacji wektora z podpunktu (d)."
   ],
   "metadata": {
    "collapsed": false
   }
  },
  {
   "cell_type": "code",
   "execution_count": 92,
   "outputs": [
    {
     "name": "stdout",
     "output_type": "stream",
     "text": [
      "[-0.035793016725615655, -0.36945673196440576, -1.7344446579412742, 0.8135328038822136, 0.29787069851317444, -1.370447877680776, -1.3401148126590678, 0.17653843842634168, -0.30879060192098934, 0.17653843842634168, -0.6424543171597794, -1.6737785278978579, 0.9045319989473383, 1.0865303890775873, 0.5708682837085481, 0.7831997388605054, 0.5102021536651318, 0.29787069851317444, 0.4798690886434236, 0.9651981289907546, 1.1471965191210038, -1.6434454628761497, -1.704111592919566, -1.5827793328327333, -0.5514551220946549, 0.3282037635348826, -0.09645914676903203, -1.188449487550527, 1.2381957141861284, 1.177529584142712, 1.1471965191210038, 0.3282037635348826, 0.6315344137519645, -1.370447877680776, 1.1168634540992957, 0.7831997388605054, -0.8244527072900286, 0.055206178339508916, 1.2381957141861284, 0.6922005437953809, -1.7344446579412742, 0.54053521868684, 1.2078626491644202, 0.20687150344804986, -0.09645914676903203, -1.7344446579412742, 0.9651981289907546, 0.29787069851317444, 0.9955311940124628, -1.1581164225288187]\n"
     ]
    }
   ],
   "source": [
    "random_numbers_standardized = []\n",
    "random_numbers_standard_deviation = statistics.stdev(random_numbers)\n",
    "\n",
    "for number in random_numbers:\n",
    "    standardized_number = (number - random_numbers_mean) / random_numbers_standard_deviation\n",
    "    random_numbers_standardized.append(standardized_number)\n",
    "\n",
    "print(random_numbers_standardized)"
   ],
   "metadata": {
    "collapsed": false,
    "pycharm": {
     "name": "#%%\n"
    }
   }
  },
  {
   "cell_type": "markdown",
   "source": [
    "Jaką średnią i odchylenie standardowe ma nowy wektor z?"
   ],
   "metadata": {
    "collapsed": false
   }
  },
  {
   "cell_type": "code",
   "execution_count": 93,
   "outputs": [
    {
     "name": "stdout",
     "output_type": "stream",
     "text": [
      "srednia: 2.2343238370581277e-17\n",
      "odchylenie standardowe: 0.9999999999999999\n"
     ]
    }
   ],
   "source": [
    "print(\"srednia: \" + str(statistics.mean(random_numbers_standardized)))\n",
    "print(\"odchylenie standardowe: \" + str(statistics.stdev(random_numbers_standardized)))"
   ],
   "metadata": {
    "collapsed": false,
    "pycharm": {
     "name": "#%%\n"
    }
   }
  },
  {
   "cell_type": "markdown",
   "source": [
    "h) Dokonaj dyskretyzacji wektora z podpunktu (d). Wektor liczb zamieni się na wektora\n",
    "napisów określających przedziały: [0, 10), [10, 20), …, [90,100]. Inaczej mówiąc: liczba\n",
    "zamieni się na przedział – taki, w jakim się ta liczba znajduje. Wyświetl ten wektor."
   ],
   "metadata": {
    "collapsed": false
   }
  },
  {
   "cell_type": "code",
   "execution_count": 94,
   "outputs": [
    {
     "name": "stdout",
     "output_type": "stream",
     "text": [
      "['[50,60)', '[40,50)', '[0,10)', '[80,90)', '[60,70)', '[10,20)', '[10,20)', '[60,70)', '[40,50)', '[60,70)', '[30,40)', '[0,10)', '[80,90)', '[90,100]', '[70,80)', '[80,90)', '[70,80)', '[60,70)', '[70,80)', '[90,100]', '[90,100]', '[0,10)', '[0,10)', '[0,10)', '[40,50)', '[70,80)', '[50,60)', '[20,30)', '[90,100]', '[90,100]', '[90,100]', '[70,80)', '[80,90)', '[10,20)', '[90,100]', '[80,90)', '[30,40)', '[60,70)', '[90,100]', '[80,90)', '[0,10)', '[70,80)', '[90,100]', '[60,70)', '[50,60)', '[0,10)', '[90,100]', '[60,70)', '[90,100]', '[20,30)']\n"
     ]
    }
   ],
   "source": [
    "random_numbers_discretized = []\n",
    "\n",
    "def number_discretization(numb):\n",
    "    bottom = (numb // 10 * 10) if numb < 100 else 90\n",
    "    top = bottom + 10\n",
    "\n",
    "    return f\"[{bottom},{top}{')' if top < 100 else ']'}\"\n",
    "for number in random_numbers:\n",
    "    random_numbers_discretized.append(number_discretization(number))\n",
    "\n",
    "print(random_numbers_discretized)"
   ],
   "metadata": {
    "collapsed": false,
    "pycharm": {
     "name": "#%%\n"
    }
   }
  }
 ],
 "metadata": {
  "kernelspec": {
   "display_name": "Python 3",
   "language": "python",
   "name": "python3"
  },
  "language_info": {
   "codemirror_mode": {
    "name": "ipython",
    "version": 2
   },
   "file_extension": ".py",
   "mimetype": "text/x-python",
   "name": "python",
   "nbconvert_exporter": "python",
   "pygments_lexer": "ipython2",
   "version": "2.7.6"
  }
 },
 "nbformat": 4,
 "nbformat_minor": 0
}