{
 "cells": [
  {
   "cell_type": "code",
   "execution_count": 18,
   "outputs": [],
   "source": [
    "import math\n",
    "import random\n",
    "import statistics"
   ],
   "metadata": {
    "collapsed": false,
    "pycharm": {
     "name": "#%%\n"
    }
   }
  },
  {
   "cell_type": "markdown",
   "metadata": {
    "collapsed": true,
    "pycharm": {
     "name": "#%% md\n"
    }
   },
   "source": [
    "zadanie 2\n",
    "a)"
   ]
  },
  {
   "cell_type": "code",
   "execution_count": 19,
   "outputs": [],
   "source": [
    "vector1 = [3, 8, 9, 10, 12]\n",
    "vector2 = [8, 7, 7, 5, 6]"
   ],
   "metadata": {
    "collapsed": false,
    "pycharm": {
     "name": "#%%\n"
    }
   }
  },
  {
   "cell_type": "markdown",
   "source": [
    "sumowanie po współrzędnych:"
   ],
   "metadata": {
    "collapsed": false,
    "pycharm": {
     "name": "#%% md\n"
    }
   }
  },
  {
   "cell_type": "code",
   "execution_count": 20,
   "outputs": [
    {
     "name": "stdout",
     "output_type": "stream",
     "text": [
      "[11, 15, 16, 15, 18]\n"
     ]
    }
   ],
   "source": [
    "vectors_sum = []\n",
    "\n",
    "for i in range(len(vector1)):\n",
    "    vectors_sum.append(vector1[i] + vector2[i])\n",
    "print(vectors_sum)"
   ],
   "metadata": {
    "collapsed": false,
    "pycharm": {
     "name": "#%%\n"
    }
   }
  },
  {
   "cell_type": "markdown",
   "source": [
    "iloczyn po współrzędnych:"
   ],
   "metadata": {
    "collapsed": false,
    "pycharm": {
     "name": "#%% md\n"
    }
   }
  },
  {
   "cell_type": "code",
   "execution_count": 21,
   "outputs": [
    {
     "name": "stdout",
     "output_type": "stream",
     "text": [
      "[24, 56, 63, 50, 72]\n"
     ]
    }
   ],
   "source": [
    "vectors_product = []\n",
    "\n",
    "for i in range(len(vector1)):\n",
    "    vectors_product.append(vector1[i] * vector2[i])\n",
    "print(vectors_product)"
   ],
   "metadata": {
    "collapsed": false,
    "pycharm": {
     "name": "#%%\n"
    }
   }
  },
  {
   "cell_type": "markdown",
   "source": [
    "b) iloczyn skalarny"
   ],
   "metadata": {
    "collapsed": false,
    "pycharm": {
     "name": "#%% md\n"
    }
   }
  },
  {
   "cell_type": "code",
   "execution_count": 22,
   "outputs": [
    {
     "name": "stdout",
     "output_type": "stream",
     "text": [
      "265\n"
     ]
    }
   ],
   "source": [
    "vectors_scalar_product = 0\n",
    "\n",
    "for i in range(len(vector1)):\n",
    "    vectors_scalar_product += vector1[i] * vector2[i]\n",
    "print(vectors_scalar_product)"
   ],
   "metadata": {
    "collapsed": false,
    "pycharm": {
     "name": "#%%\n"
    }
   }
  },
  {
   "cell_type": "markdown",
   "source": [
    "c) Dla powyższych wektorów podaj ich długości euklidesowe (długość wektora jako strzałki w\n",
    "przestrzeni)"
   ],
   "metadata": {
    "collapsed": false,
    "pycharm": {
     "name": "#%% md\n"
    }
   }
  },
  {
   "cell_type": "code",
   "execution_count": 23,
   "outputs": [
    {
     "name": "stdout",
     "output_type": "stream",
     "text": [
      "19.949937343260004\n",
      "14.933184523068078\n"
     ]
    }
   ],
   "source": [
    "def make_euclidean_length(vector):\n",
    "    result = 0\n",
    "    for number in vector:\n",
    "        result += number ** 2\n",
    "    return math.sqrt(result)\n",
    "\n",
    "print(make_euclidean_length(vector1))\n",
    "print(make_euclidean_length(vector2))"
   ],
   "metadata": {
    "collapsed": false,
    "pycharm": {
     "name": "#%%\n"
    }
   }
  },
  {
   "cell_type": "markdown",
   "source": [
    "d) Stwórz wektor 50 losowych liczb z zakresu od 1 do 100."
   ],
   "metadata": {
    "collapsed": false,
    "pycharm": {
     "name": "#%% md\n"
    }
   }
  },
  {
   "cell_type": "code",
   "execution_count": 24,
   "outputs": [
    {
     "name": "stdout",
     "output_type": "stream",
     "text": [
      "[19, 5, 52, 44, 40, 99, 84, 85, 27, 86, 38, 87, 9, 94, 26, 88, 73, 55, 60, 59, 58, 38, 96, 63, 49, 35, 6, 25, 16, 29, 61, 39, 50, 35, 74, 32, 19, 77, 19, 52, 92, 10, 89, 76, 98, 22, 38, 98, 61, 37]\n"
     ]
    }
   ],
   "source": [
    "random_numbers = [random.randint(1, 100) for i in range(0, 50)]\n",
    "print(random_numbers)"
   ],
   "metadata": {
    "collapsed": false,
    "pycharm": {
     "name": "#%%\n"
    }
   }
  },
  {
   "cell_type": "markdown",
   "source": [
    "e) Dla wektora z punktu (d) policz średnią z wszystkich jego liczb, min, max oraz odchylenie\n",
    "standardowe."
   ],
   "metadata": {
    "collapsed": false,
    "pycharm": {
     "name": "#%% md\n"
    }
   }
  },
  {
   "cell_type": "code",
   "execution_count": 25,
   "outputs": [
    {
     "name": "stdout",
     "output_type": "stream",
     "text": [
      "min: 5\n",
      "max: 99\n",
      "mean: 52.48\n"
     ]
    }
   ],
   "source": [
    "random_numbers_min = min(random_numbers)\n",
    "random_numbers_max = max(random_numbers)\n",
    "random_numbers_mean = statistics.mean(random_numbers)\n",
    "\n",
    "print(\"min: \" + str(random_numbers_min))\n",
    "print(\"max: \" + str(random_numbers_max))\n",
    "print(\"mean: \" + str(random_numbers_mean))"
   ],
   "metadata": {
    "collapsed": false,
    "pycharm": {
     "name": "#%%\n"
    }
   }
  },
  {
   "cell_type": "markdown",
   "source": [
    "f) Dokonaj normalizacji wektora z podpunktu (d)"
   ],
   "metadata": {
    "collapsed": false,
    "pycharm": {
     "name": "#%% md\n"
    }
   }
  },
  {
   "cell_type": "code",
   "execution_count": 26,
   "outputs": [
    {
     "name": "stdout",
     "output_type": "stream",
     "text": [
      "[0.14893617021276595, 0.0, 0.5, 0.4148936170212766, 0.3723404255319149, 1.0, 0.8404255319148937, 0.851063829787234, 0.23404255319148937, 0.8617021276595744, 0.35106382978723405, 0.8723404255319149, 0.0425531914893617, 0.9468085106382979, 0.22340425531914893, 0.8829787234042553, 0.723404255319149, 0.5319148936170213, 0.5851063829787234, 0.574468085106383, 0.5638297872340425, 0.35106382978723405, 0.9680851063829787, 0.6170212765957447, 0.46808510638297873, 0.3191489361702128, 0.010638297872340425, 0.2127659574468085, 0.11702127659574468, 0.2553191489361702, 0.5957446808510638, 0.3617021276595745, 0.4787234042553192, 0.3191489361702128, 0.7340425531914894, 0.2872340425531915, 0.14893617021276595, 0.7659574468085106, 0.14893617021276595, 0.5, 0.925531914893617, 0.05319148936170213, 0.8936170212765957, 0.7553191489361702, 0.9893617021276596, 0.18085106382978725, 0.35106382978723405, 0.9893617021276596, 0.5957446808510638, 0.3404255319148936]\n",
      "0.18085106382978725\n"
     ]
    }
   ],
   "source": [
    "random_numbers_normalized = []\n",
    "for number in random_numbers:\n",
    "    normalized_number = (number - random_numbers_min)/(random_numbers_max - random_numbers_min)\n",
    "    random_numbers_normalized.append(normalized_number)\n",
    "\n",
    "print(random_numbers_normalized)\n",
    "print(random_numbers_normalized[45])"
   ],
   "metadata": {
    "collapsed": false,
    "pycharm": {
     "name": "#%%\n"
    }
   }
  },
  {
   "cell_type": "markdown",
   "source": [
    "W oryginalnym wektorze jakie było max?\n",
    "    max było równe 100\n",
    "Na której pozycji stało?\n",
    "    stało na pozycji 45\n",
    "Jaka liczba stoi na tej pozycji w nowym wektorze?\n",
    "    teraz stoi 1.0"
   ],
   "metadata": {
    "collapsed": false,
    "pycharm": {
     "name": "#%% md\n"
    }
   }
  },
  {
   "cell_type": "markdown",
   "source": [
    "g) Dokonaj standaryzacji wektora z podpunktu (d)."
   ],
   "metadata": {
    "collapsed": false,
    "pycharm": {
     "name": "#%% md\n"
    }
   }
  },
  {
   "cell_type": "code",
   "execution_count": 27,
   "outputs": [
    {
     "name": "stdout",
     "output_type": "stream",
     "text": [
      "[-1.177755657779913, -1.6702460762064002, -0.016885385774622303, -0.29830848201832916, -0.4390200301401826, 1.6364753046571554, 1.1088069992002052, 1.1439848862306685, -0.8963325615362062, 1.1791627732611318, -0.5093758042011093, 1.2143406602915952, -1.5295345280845467, 1.4605858695048386, -0.9315104485666695, 1.2495185473220585, 0.7218502418651082, 0.08864827531676776, 0.26453771046908453, 0.2293598234386212, 0.19418193640815784, -0.5093758042011093, 1.5309416435657655, 0.37007137156047465, -0.12241904686601238, -0.6149094652924993, -1.6350681891759367, -0.966688335597133, -1.2832893188713033, -0.8259767874752795, 0.2997155974995479, -0.47419791717064597, -0.08724115983554902, -0.6149094652924993, 0.7570281288955716, -0.7204431263838894, -1.177755657779913, 0.8625617899869616, -1.177755657779913, -0.016885385774622303, 1.390230095443912, -1.4943566410540834, 1.284696434352522, 0.8273839029564982, 1.601297417626692, -1.072221996688523, -0.5093758042011093, 1.601297417626692, 0.2997155974995479, -0.5445536912315727]\n"
     ]
    }
   ],
   "source": [
    "random_numbers_standardized = []\n",
    "random_numbers_standard_deviation = statistics.stdev(random_numbers)\n",
    "\n",
    "for number in random_numbers:\n",
    "    standardized_number = (number - random_numbers_mean) / random_numbers_standard_deviation\n",
    "    random_numbers_standardized.append(standardized_number)\n",
    "\n",
    "print(random_numbers_standardized)"
   ],
   "metadata": {
    "collapsed": false,
    "pycharm": {
     "name": "#%%\n"
    }
   }
  },
  {
   "cell_type": "code",
   "execution_count": 28,
   "outputs": [
    {
     "name": "stdout",
     "output_type": "stream",
     "text": [
      "1.0422218643668657e-16\n",
      "1.0\n"
     ]
    }
   ],
   "source": [
    "print(statistics.mean(random_numbers_standardized))\n",
    "print(statistics.stdev(random_numbers_standardized))"
   ],
   "metadata": {
    "collapsed": false,
    "pycharm": {
     "name": "#%%\n"
    }
   }
  },
  {
   "cell_type": "markdown",
   "source": [
    "Jaką średnią i odchylenie standardowe ma nowy wektor z?\n",
    "    sredni to 6.439293542825907e-17\n",
    "    odchylenie standardowe to 0.9999999999999999"
   ],
   "metadata": {
    "collapsed": false
   }
  },
  {
   "cell_type": "markdown",
   "source": [
    "h) Dokonaj dyskretyzacji wektora z podpunktu (d). Wektor liczb zamieni się na wektora\n",
    "napisów określających przedziały: [0, 10), [10, 20), …, [90,100]. Inaczej mówiąc: liczba\n",
    "zamieni się na przedział – taki, w jakim się ta liczba znajduje. Wyświetl ten wektor."
   ],
   "metadata": {
    "collapsed": false
   }
  },
  {
   "cell_type": "code",
   "execution_count": 29,
   "outputs": [
    {
     "name": "stdout",
     "output_type": "stream",
     "text": [
      "['[10,20)', '[0,10)', '[50,60)', '[40,50)', '[40,50)', '[90,100]', '[80,90)', '[80,90)', '[20,30)', '[80,90)', '[30,40)', '[80,90)', '[0,10)', '[90,100]', '[20,30)', '[80,90)', '[70,80)', '[50,60)', '[60,70)', '[50,60)', '[50,60)', '[30,40)', '[90,100]', '[60,70)', '[40,50)', '[30,40)', '[0,10)', '[20,30)', '[10,20)', '[20,30)', '[60,70)', '[30,40)', '[50,60)', '[30,40)', '[70,80)', '[30,40)', '[10,20)', '[70,80)', '[10,20)', '[50,60)', '[90,100]', '[10,20)', '[80,90)', '[70,80)', '[90,100]', '[20,30)', '[30,40)', '[90,100]', '[60,70)', '[30,40)']\n"
     ]
    }
   ],
   "source": [
    "random_numbers_discretized = []\n",
    "\n",
    "def number_discretization(numb):\n",
    "    bottom = (numb // 10 * 10) if numb < 100 else 90\n",
    "    top = bottom + 10\n",
    "\n",
    "    return f\"[{bottom},{top}{')' if top < 100 else ']'}\"\n",
    "for number in random_numbers:\n",
    "    random_numbers_discretized.append(number_discretization(number))\n",
    "\n",
    "print(random_numbers_discretized)"
   ],
   "metadata": {
    "collapsed": false,
    "pycharm": {
     "name": "#%%\n"
    }
   }
  }
 ],
 "metadata": {
  "kernelspec": {
   "display_name": "Python 3",
   "language": "python",
   "name": "python3"
  },
  "language_info": {
   "codemirror_mode": {
    "name": "ipython",
    "version": 2
   },
   "file_extension": ".py",
   "mimetype": "text/x-python",
   "name": "python",
   "nbconvert_exporter": "python",
   "pygments_lexer": "ipython2",
   "version": "2.7.6"
  }
 },
 "nbformat": 4,
 "nbformat_minor": 0
}