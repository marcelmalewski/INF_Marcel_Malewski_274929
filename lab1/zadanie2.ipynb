{
 "cells": [
  {
   "cell_type": "code",
   "execution_count": 12,
   "outputs": [],
   "source": [
    "import math\n",
    "import random\n",
    "import statistics"
   ],
   "metadata": {
    "collapsed": false,
    "pycharm": {
     "name": "#%%\n"
    }
   }
  },
  {
   "cell_type": "markdown",
   "metadata": {
    "collapsed": true,
    "pycharm": {
     "name": "#%% md\n"
    }
   },
   "source": [
    "zadanie 2\n",
    "a)"
   ]
  },
  {
   "cell_type": "code",
   "execution_count": 3,
   "outputs": [],
   "source": [
    "vector1 = [3, 8, 9, 10, 12]\n",
    "vector2 = [8, 7, 7, 5, 6]"
   ],
   "metadata": {
    "collapsed": false,
    "pycharm": {
     "name": "#%%\n"
    }
   }
  },
  {
   "cell_type": "markdown",
   "source": [
    "sumowanie po współrzędnych:"
   ],
   "metadata": {
    "collapsed": false,
    "pycharm": {
     "name": "#%% md\n"
    }
   }
  },
  {
   "cell_type": "code",
   "execution_count": 4,
   "outputs": [
    {
     "name": "stdout",
     "output_type": "stream",
     "text": [
      "[11, 15, 16, 15, 18]\n"
     ]
    }
   ],
   "source": [
    "vectors_sum = []\n",
    "\n",
    "for i in range(len(vector1)):\n",
    "    vectors_sum.append(vector1[i] + vector2[i])\n",
    "print(vectors_sum)"
   ],
   "metadata": {
    "collapsed": false,
    "pycharm": {
     "name": "#%%\n"
    }
   }
  },
  {
   "cell_type": "markdown",
   "source": [
    "iloczyn po współrzędnych:"
   ],
   "metadata": {
    "collapsed": false,
    "pycharm": {
     "name": "#%% md\n"
    }
   }
  },
  {
   "cell_type": "code",
   "execution_count": 5,
   "outputs": [
    {
     "name": "stdout",
     "output_type": "stream",
     "text": [
      "[24, 56, 63, 50, 72]\n"
     ]
    }
   ],
   "source": [
    "vectors_product = []\n",
    "\n",
    "for i in range(len(vector1)):\n",
    "    vectors_product.append(vector1[i] * vector2[i])\n",
    "print(vectors_product)"
   ],
   "metadata": {
    "collapsed": false,
    "pycharm": {
     "name": "#%%\n"
    }
   }
  },
  {
   "cell_type": "markdown",
   "source": [
    "b) iloczyn skalarny"
   ],
   "metadata": {
    "collapsed": false,
    "pycharm": {
     "name": "#%% md\n"
    }
   }
  },
  {
   "cell_type": "code",
   "execution_count": 6,
   "outputs": [
    {
     "name": "stdout",
     "output_type": "stream",
     "text": [
      "265\n"
     ]
    }
   ],
   "source": [
    "vectors_scalar_product = 0\n",
    "\n",
    "for i in range(len(vector1)):\n",
    "    vectors_scalar_product += vector1[i] * vector2[i]\n",
    "print(vectors_scalar_product)"
   ],
   "metadata": {
    "collapsed": false,
    "pycharm": {
     "name": "#%%\n"
    }
   }
  },
  {
   "cell_type": "markdown",
   "source": [
    "c) Dla powyższych wektorów podaj ich długości euklidesowe (długość wektora jako strzałki w\n",
    "przestrzeni)"
   ],
   "metadata": {
    "collapsed": false,
    "pycharm": {
     "name": "#%% md\n"
    }
   }
  },
  {
   "cell_type": "code",
   "execution_count": 8,
   "outputs": [
    {
     "name": "stdout",
     "output_type": "stream",
     "text": [
      "19.949937343260004\n",
      "14.933184523068078\n"
     ]
    }
   ],
   "source": [
    "def make_euclidean_length(vector):\n",
    "    result = 0\n",
    "    for number in vector:\n",
    "        result += number ** 2\n",
    "    return math.sqrt(result)\n",
    "\n",
    "print(make_euclidean_length(vector1))\n",
    "print(make_euclidean_length(vector2))"
   ],
   "metadata": {
    "collapsed": false,
    "pycharm": {
     "name": "#%%\n"
    }
   }
  },
  {
   "cell_type": "markdown",
   "source": [
    "d) Stwórz wektor 50 losowych liczb z zakresu od 1 do 100."
   ],
   "metadata": {
    "collapsed": false,
    "pycharm": {
     "name": "#%% md\n"
    }
   }
  },
  {
   "cell_type": "code",
   "execution_count": 9,
   "outputs": [
    {
     "name": "stdout",
     "output_type": "stream",
     "text": [
      "[75, 11, 28, 13, 36, 55, 93, 48, 89, 97, 47, 94, 9, 19, 93, 26, 92, 52, 68, 48, 60, 25, 15, 86, 80, 28, 40, 38, 5, 9, 17, 18, 65, 83, 43, 3, 12, 30, 74, 48, 71, 17, 65, 64, 95, 100, 3, 80, 94, 52]\n"
     ]
    }
   ],
   "source": [
    "random_numbers = [random.randint(1, 100) for i in range(0, 50)]\n",
    "print(random_numbers)"
   ],
   "metadata": {
    "collapsed": false,
    "pycharm": {
     "name": "#%%\n"
    }
   }
  },
  {
   "cell_type": "markdown",
   "source": [
    "e) Dla wektora z punktu (d) policz średnią z wszystkich jego liczb, min, max oraz odchylenie\n",
    "standardowe."
   ],
   "metadata": {
    "collapsed": false,
    "pycharm": {
     "name": "#%% md\n"
    }
   }
  },
  {
   "cell_type": "code",
   "execution_count": 24,
   "outputs": [
    {
     "name": "stdout",
     "output_type": "stream",
     "text": [
      "min: 3\n",
      "max: 100\n",
      "mean: 50.26\n"
     ]
    }
   ],
   "source": [
    "random_numbers_min = min(random_numbers)\n",
    "random_numbers_max = max(random_numbers)\n",
    "random_numbers_mean = statistics.mean(random_numbers)\n",
    "\n",
    "print(\"min: \" + str(random_numbers_min))\n",
    "print(\"max: \" + str(random_numbers_max))\n",
    "print(\"mean: \" + str(random_numbers_mean))"
   ],
   "metadata": {
    "collapsed": false,
    "pycharm": {
     "name": "#%%\n"
    }
   }
  },
  {
   "cell_type": "markdown",
   "source": [
    "f) Dokonaj normalizacji wektora z podpunktu (d)"
   ],
   "metadata": {
    "collapsed": false,
    "pycharm": {
     "name": "#%% md\n"
    }
   }
  },
  {
   "cell_type": "code",
   "execution_count": 25,
   "outputs": [
    {
     "name": "stdout",
     "output_type": "stream",
     "text": [
      "[0.7422680412371134, 0.08247422680412371, 0.25773195876288657, 0.10309278350515463, 0.3402061855670103, 0.5360824742268041, 0.9278350515463918, 0.4639175257731959, 0.8865979381443299, 0.9690721649484536, 0.4536082474226804, 0.9381443298969072, 0.061855670103092786, 0.16494845360824742, 0.9278350515463918, 0.23711340206185566, 0.9175257731958762, 0.5051546391752577, 0.6701030927835051, 0.4639175257731959, 0.5876288659793815, 0.2268041237113402, 0.12371134020618557, 0.8556701030927835, 0.7938144329896907, 0.25773195876288657, 0.38144329896907214, 0.36082474226804123, 0.020618556701030927, 0.061855670103092786, 0.14432989690721648, 0.15463917525773196, 0.6391752577319587, 0.8247422680412371, 0.41237113402061853, 0.0, 0.09278350515463918, 0.27835051546391754, 0.7319587628865979, 0.4639175257731959, 0.7010309278350515, 0.14432989690721648, 0.6391752577319587, 0.6288659793814433, 0.9484536082474226, 1.0, 0.0, 0.7938144329896907, 0.9381443298969072, 0.5051546391752577]\n",
      "1.0\n"
     ]
    }
   ],
   "source": [
    "random_numbers_normalized = []\n",
    "for number in random_numbers:\n",
    "    normalized_number = (number - random_numbers_min)/(random_numbers_max - random_numbers_min)\n",
    "    random_numbers_normalized.append(normalized_number)\n",
    "\n",
    "print(random_numbers_normalized)\n",
    "print(random_numbers_normalized[45])"
   ],
   "metadata": {
    "collapsed": false,
    "pycharm": {
     "name": "#%%\n"
    }
   }
  },
  {
   "cell_type": "markdown",
   "source": [
    "W oryginalnym wektorze jakie było max?\n",
    "    max było równe 100\n",
    "Na której pozycji stało?\n",
    "    stało na pozycji 45\n",
    "Jaka liczba stoi na tej pozycji w nowym wektorze?\n",
    "    teraz stoi 1.0"
   ],
   "metadata": {
    "collapsed": false,
    "pycharm": {
     "name": "#%% md\n"
    }
   }
  },
  {
   "cell_type": "markdown",
   "source": [
    "g) Dokonaj standaryzacji wektora z podpunktu (d)."
   ],
   "metadata": {
    "collapsed": false,
    "pycharm": {
     "name": "#%% md\n"
    }
   }
  },
  {
   "cell_type": "code",
   "execution_count": 26,
   "outputs": [
    {
     "name": "stdout",
     "output_type": "stream",
     "text": [
      "[0.7977882377307417, -1.2660131856632544, -0.7178159325742243, -1.201519391182192, -0.4598407546499747, 0.1528502929201179, 1.3782323880603031, -0.07287798776360042, 1.2492447990981783, 1.507219977022428, -0.10512488500413161, 1.4104792853008343, -1.3305069801443168, -1.008038007739005, 1.3782323880603031, -0.7823097270552866, 1.345985490819772, 0.05610960119852434, 0.5720599570470234, -0.07287798776360042, 0.3140847791227739, -0.8145566242958178, -1.1370255967011298, 1.1525041073765847, 0.9590227239333976, -0.7178159325742243, -0.33085316568784995, -0.39534696016891235, -1.4594945691064416, -1.3305069801443168, -1.0725318022200674, -1.0402849049795362, 0.4753192653254298, 1.0557634156549913, -0.23411247396625637, -1.523988363587504, -1.2337662884227232, -0.6533221380931619, 0.7655413404902105, -0.07287798776360042, 0.668800648768617, -1.0725318022200674, 0.4753192653254298, 0.44307236808489864, 1.4427261825413655, 1.6039606687440215, -1.523988363587504, 0.9590227239333976, 1.4104792853008343, 0.05610960119852434]\n"
     ]
    }
   ],
   "source": [
    "random_numbers_standardized = []\n",
    "random_numbers_standard_deviation = statistics.stdev(random_numbers)\n",
    "\n",
    "for number in random_numbers:\n",
    "    standardized_number = (number - random_numbers_mean) / random_numbers_standard_deviation\n",
    "    random_numbers_standardized.append(standardized_number)\n",
    "\n",
    "print(random_numbers_standardized)"
   ],
   "metadata": {
    "collapsed": false,
    "pycharm": {
     "name": "#%%\n"
    }
   }
  },
  {
   "cell_type": "code",
   "execution_count": 36,
   "outputs": [
    {
     "name": "stdout",
     "output_type": "stream",
     "text": [
      "6.439293542825907e-17\n",
      "0.9999999999999999\n"
     ]
    }
   ],
   "source": [
    "print(statistics.mean(random_numbers_standardized))\n",
    "print(statistics.stdev(random_numbers_standardized))"
   ],
   "metadata": {
    "collapsed": false,
    "pycharm": {
     "name": "#%%\n"
    }
   }
  },
  {
   "cell_type": "markdown",
   "source": [
    "Jaką średnią i odchylenie standardowe ma nowy wektor z?\n",
    "    sredni to 6.439293542825907e-17\n",
    "    odchylenie standardowe to 0.9999999999999999"
   ],
   "metadata": {
    "collapsed": false
   }
  },
  {
   "cell_type": "markdown",
   "source": [
    "h) Dokonaj dyskretyzacji wektora z podpunktu (d). Wektor liczb zamieni się na wektora\n",
    "napisów określających przedziały: [0, 10), [10, 20), …, [90,100]. Inaczej mówiąc: liczba\n",
    "zamieni się na przedział – taki, w jakim się ta liczba znajduje. Wyświetl ten wektor."
   ],
   "metadata": {
    "collapsed": false
   }
  },
  {
   "cell_type": "code",
   "execution_count": 38,
   "outputs": [
    {
     "name": "stdout",
     "output_type": "stream",
     "text": [
      "75\n",
      "70\n",
      "-------------\n",
      "11\n",
      "10\n",
      "-------------\n",
      "28\n",
      "20\n",
      "-------------\n",
      "13\n",
      "10\n",
      "-------------\n",
      "36\n",
      "30\n",
      "-------------\n",
      "55\n",
      "50\n",
      "-------------\n",
      "93\n",
      "90\n",
      "-------------\n",
      "48\n",
      "40\n",
      "-------------\n",
      "89\n",
      "80\n",
      "-------------\n",
      "97\n",
      "90\n",
      "-------------\n",
      "47\n",
      "40\n",
      "-------------\n",
      "94\n",
      "90\n",
      "-------------\n",
      "9\n",
      "0\n",
      "-------------\n",
      "19\n",
      "10\n",
      "-------------\n",
      "93\n",
      "90\n",
      "-------------\n",
      "26\n",
      "20\n",
      "-------------\n",
      "92\n",
      "90\n",
      "-------------\n",
      "52\n",
      "50\n",
      "-------------\n",
      "68\n",
      "60\n",
      "-------------\n",
      "48\n",
      "40\n",
      "-------------\n",
      "60\n",
      "60\n",
      "-------------\n",
      "25\n",
      "20\n",
      "-------------\n",
      "15\n",
      "10\n",
      "-------------\n",
      "86\n",
      "80\n",
      "-------------\n",
      "80\n",
      "80\n",
      "-------------\n",
      "28\n",
      "20\n",
      "-------------\n",
      "40\n",
      "40\n",
      "-------------\n",
      "38\n",
      "30\n",
      "-------------\n",
      "5\n",
      "0\n",
      "-------------\n",
      "9\n",
      "0\n",
      "-------------\n",
      "17\n",
      "10\n",
      "-------------\n",
      "18\n",
      "10\n",
      "-------------\n",
      "65\n",
      "60\n",
      "-------------\n",
      "83\n",
      "80\n",
      "-------------\n",
      "43\n",
      "40\n",
      "-------------\n",
      "3\n",
      "0\n",
      "-------------\n",
      "12\n",
      "10\n",
      "-------------\n",
      "30\n",
      "30\n",
      "-------------\n",
      "74\n",
      "70\n",
      "-------------\n",
      "48\n",
      "40\n",
      "-------------\n",
      "71\n",
      "70\n",
      "-------------\n",
      "17\n",
      "10\n",
      "-------------\n",
      "65\n",
      "60\n",
      "-------------\n",
      "64\n",
      "60\n",
      "-------------\n",
      "95\n",
      "90\n",
      "-------------\n",
      "100\n",
      "90\n",
      "-------------\n",
      "3\n",
      "0\n",
      "-------------\n",
      "80\n",
      "80\n",
      "-------------\n",
      "94\n",
      "90\n",
      "-------------\n",
      "52\n",
      "50\n",
      "-------------\n"
     ]
    }
   ],
   "source": [
    "random_numbers_discretized = []\n",
    "\n",
    "def number_discretization(numb):\n",
    "    bottom = numb // 10 * 10 if numb < 100 else 90\n",
    "    print(numb)\n",
    "    print(bottom)\n",
    "    print(\"-------------\")\n",
    "\n",
    "for number in random_numbers:\n",
    "    number_discretization(number)"
   ],
   "metadata": {
    "collapsed": false,
    "pycharm": {
     "name": "#%%\n"
    }
   }
  }
 ],
 "metadata": {
  "kernelspec": {
   "display_name": "Python 3",
   "language": "python",
   "name": "python3"
  },
  "language_info": {
   "codemirror_mode": {
    "name": "ipython",
    "version": 2
   },
   "file_extension": ".py",
   "mimetype": "text/x-python",
   "name": "python",
   "nbconvert_exporter": "python",
   "pygments_lexer": "ipython2",
   "version": "2.7.6"
  }
 },
 "nbformat": 4,
 "nbformat_minor": 0
}