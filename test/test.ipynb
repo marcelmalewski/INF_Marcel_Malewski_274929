{
 "cells": [
  {
   "cell_type": "code",
   "execution_count": 3,
   "metadata": {
    "collapsed": true,
    "pycharm": {
     "name": "#%%\n"
    }
   },
   "outputs": [
    {
     "name": "stdout",
     "output_type": "stream",
     "text": [
      "                 AuthorID                       Author                Date  \\\n",
      "0      423844039121436673          KapitanDrabina#1513  30-Jun-18 12:52 PM   \n",
      "1      305677024855457805       Pokój Wytrzeźwień#2137  30-Jun-18 04:22 PM   \n",
      "2      423844039121436673          KapitanDrabina#1513  30-Jun-18 04:23 PM   \n",
      "3      305677024855457805       Pokój Wytrzeźwień#2137  30-Jun-18 05:14 PM   \n",
      "4      423844039121436673          KapitanDrabina#1513  30-Jun-18 05:14 PM   \n",
      "...                   ...                          ...                 ...   \n",
      "75628  130029607603666944                     Fee#1290  31-May-22 02:56 PM   \n",
      "75629  130029607603666944                     Fee#1290  31-May-22 02:56 PM   \n",
      "75630  206047147588583424  Prussian From The Moon#6892  31-May-22 03:17 PM   \n",
      "75631  130029607603666944                     Fee#1290  31-May-22 03:17 PM   \n",
      "75632  466036283332886528                 PixPire#9992  31-May-22 08:19 PM   \n",
      "\n",
      "                                 Content Attachments Reactions  \n",
      "0                                   Test         NaN       NaN  \n",
      "1                     Joined the server.         NaN       NaN  \n",
      "2                                      😃         NaN       NaN  \n",
      "3                           Twoja babcia         NaN       NaN  \n",
      "4                                      😃         NaN       NaN  \n",
      "...                                  ...         ...       ...  \n",
      "75628            @Prussian From The Moon         NaN       NaN  \n",
      "75629    chyba tez w bialymstoku prawda?         NaN       NaN  \n",
      "75630                                Tak         NaN       NaN  \n",
      "75631  to zapraszam w sobote na herbatke         NaN       NaN  \n",
      "75632                     ktoś coś lola?         NaN     👍 (2)  \n",
      "\n",
      "[75633 rows x 6 columns]\n"
     ]
    }
   ],
   "source": [
    "import pandas as pd\n",
    "\n",
    "df = pd.read_csv ('discordMessages.csv')\n",
    "\n",
    "print(df)"
   ]
  },
  {
   "cell_type": "code",
   "execution_count": 20,
   "outputs": [
    {
     "name": "stdout",
     "output_type": "stream",
     "text": [
      "                     Date\n",
      "AuthorID                 \n",
      "462739739531804674  18442\n",
      "310854643582238722  15361\n",
      "423844039121436673  14989\n",
      "466036283332886528   9103\n",
      "515945693903454213   5828\n",
      "130029607603666944   5100\n",
      "515955106798370817   1213\n",
      "604755973550112768   1180\n",
      "294214832704585728   1139\n",
      "235088799074484224    671\n",
      "206047147588583424    581\n",
      "581518783236014103    536\n",
      "305677024855457805    259\n",
      "503190912705363971    221\n",
      "484791877439324161    174\n",
      "243146252831686656    159\n",
      "477918243559047184    156\n",
      "461361233644355595     90\n",
      "354712509195878404     70\n",
      "526871902921162762     58\n",
      "479014229505212442     46\n",
      "723301446283690046     37\n",
      "159985870458322944     28\n",
      "364036462221459456     24\n",
      "293888622061682689     23\n",
      "169863012503650304     21\n",
      "703735976371028050     20\n",
      "361569267927482370     17\n",
      "232243138922676225     15\n",
      "394565133659013132     14\n",
      "401412300323684354      9\n",
      "477005835784945674      6\n",
      "471757795465625621      5\n",
      "472847445194178581      5\n",
      "479257538521464843      4\n",
      "585935390322589699      3\n",
      "448934033263689728      3\n",
      "398827467227267073      3\n",
      "460866560668598276      3\n",
      "485761412745134080      2\n",
      "238385646505426945      2\n",
      "165500878298546176      2\n",
      "723108419753607238      2\n",
      "405658023722352640      2\n",
      "409790782388568066      1\n",
      "279657838895431680      1\n",
      "515950898531401748      1\n",
      "303245013524021258      1\n",
      "226310648617893888      1\n",
      "471758645911224333      1\n",
      "589052485881298944      1\n"
     ]
    }
   ],
   "source": [
    "df2 = df.groupby('AuthorID')[['Date']].count()\n",
    "df2.sort_values('Date', ascending=False, inplace=True)\n",
    "\n",
    "print(df2)"
   ],
   "metadata": {
    "collapsed": false,
    "pycharm": {
     "name": "#%%\n"
    }
   }
  },
  {
   "cell_type": "code",
   "execution_count": 19,
   "outputs": [
    {
     "name": "stdout",
     "output_type": "stream",
     "text": [
      "                                 Date\n",
      "Author                               \n",
      "Mr. P#7657                      18442\n",
      "Christopher Quack#8078          15361\n",
      "KapitanDrabina#1513             14989\n",
      "PixPire#9992                     9103\n",
      "Dameredet#0958                   5828\n",
      "Fee#1290                         5100\n",
      "Admirał RoboMurlok#0850          1213\n",
      "Inquisitor#9410                  1180\n",
      "Ziemniaczek#0878                 1139\n",
      "Rythm#3722                        671\n",
      "Prussian From The Moon#6892       581\n",
      "Zander#1732                       536\n",
      "Pokój Wytrzeźwień#2137            259\n",
      "Krychol#6591                      221\n",
      "MaciejDużyKot#4929                174\n",
      "Raphaël Ambrosius Costeau#4990    159\n",
      "Gruby Harry#3989                  156\n",
      "Roast-Bot#0168                     90\n",
      "DoubleYou#7771                     70\n",
      "Euler#5212                         58\n",
      "czarnykaloryferr#9835              46\n",
      "lord model#8403                    37\n",
      "MEE6#4876                          28\n",
      "PoMcZsZe#6365                      24\n",
      "MieczMaNn#7483                     23\n",
      "Idirr#7362                         21\n",
      "marcin#4313                        20\n",
      "Chudy#2802                         17\n",
      "MrReksiu#7394                      15\n",
      "Ultrmia#0313                       14\n",
      "Marcin#1538                         9\n",
      "GruszkaLuszka#1949                  6\n",
      "Idirr#8289                          5\n",
      "Patryk Ekonomiuk#4766               5\n",
      "trumat#5224                         4\n",
      "ShadowRaven#4965                    3\n",
      "Domrages#9085                       3\n",
      "Bheyar//Zuzia#9321                  3\n",
      "Anandani#5038                       3\n",
      "*しろ*#7086                           2\n",
      "SamuelHEE#5038                      2\n",
      "HurDur1337#7211                     2\n",
      "ARGmasterPlay#0082                  2\n",
      "!AleksandeR#4378                    2\n",
      "MaxiKaz40611#5531                   1\n",
      "Rafal#0570                          1\n",
      "RayZ#9902                           1\n",
      "Kapitan Drabina#7359                1\n",
      "JaHada#3213                         1\n",
      "Divo#9864                           1\n",
      "alex gaming#7038                    1\n"
     ]
    }
   ],
   "source": [
    "df2 = df.groupby('Author')[['Date']].count()\n",
    "df2.sort_values('Date', ascending=False, inplace=True)\n",
    "\n",
    "print(df2)"
   ],
   "metadata": {
    "collapsed": false,
    "pycharm": {
     "name": "#%%\n"
    }
   }
  },
  {
   "cell_type": "code",
   "execution_count": 38,
   "outputs": [],
   "source": [
    "df_without_nan = df\n",
    "\n",
    "for i in df_without_nan.index:\n",
    "    cont = df_without_nan.loc[i, 'Content']\n",
    "    if cont != cont:\n",
    "        print(\"yes\")\n",
    "        df_without_nan.loc[i, 'Content'] = 'NaN'"
   ],
   "metadata": {
    "collapsed": false,
    "pycharm": {
     "name": "#%%\n"
    }
   }
  },
  {
   "cell_type": "code",
   "execution_count": 39,
   "outputs": [
    {
     "name": "stdout",
     "output_type": "stream",
     "text": [
      "                        Date\n",
      "Author                      \n",
      "Christopher Quack#8078    37\n",
      "Fee#1290                  18\n",
      "KapitanDrabina#1513       14\n",
      "Inquisitor#9410           11\n",
      "Dameredet#0958             7\n",
      "Mr. P#7657                 4\n",
      "Pokój Wytrzeźwień#2137     2\n",
      "Ziemniaczek#0878           2\n",
      "Krychol#6591               1\n",
      "MieczMaNn#7483             1\n"
     ]
    }
   ],
   "source": [
    "df4 = df_without_nan[(df_without_nan['Content'].str.contains('kurwa'))]\n",
    "\n",
    "df_kurwa = df4.groupby('Author')[['Date']].count()\n",
    "df_kurwa.sort_values('Date', ascending=False, inplace=True)\n",
    "\n",
    "print(df_kurwa)\n",
    "\n",
    "# for i in df4.index:\n",
    "#     print(df4.loc[i, 'Author'])\n",
    "#     print(df4.loc[i, 'Content'])"
   ],
   "metadata": {
    "collapsed": false,
    "pycharm": {
     "name": "#%%\n"
    }
   }
  },
  {
   "cell_type": "code",
   "execution_count": 44,
   "outputs": [
    {
     "name": "stdout",
     "output_type": "stream",
     "text": [
      "                         Date\n",
      "Author                       \n",
      "KapitanDrabina#1513        75\n",
      "Christopher Quack#8078     67\n",
      "Mr. P#7657                 48\n",
      "Dameredet#0958             20\n",
      "PixPire#9992               15\n",
      "Admirał RoboMurlok#0850     2\n",
      "Fee#1290                    2\n",
      "Inquisitor#9410             2\n",
      "Ziemniaczek#0878            2\n",
      "MaciejDużyKot#4929          1\n"
     ]
    }
   ],
   "source": [
    "df_fck = df_without_nan[(df_without_nan['Content'].str.contains('jednego'))]\n",
    "\n",
    "df_fck = df_fck.groupby('Author')[['Date']].count()\n",
    "df_fck.sort_values('Date', ascending=False, inplace=True)\n",
    "\n",
    "print(df_fck)"
   ],
   "metadata": {
    "collapsed": false,
    "pycharm": {
     "name": "#%%\n"
    }
   }
  }
 ],
 "metadata": {
  "kernelspec": {
   "display_name": "Python 3",
   "language": "python",
   "name": "python3"
  },
  "language_info": {
   "codemirror_mode": {
    "name": "ipython",
    "version": 2
   },
   "file_extension": ".py",
   "mimetype": "text/x-python",
   "name": "python",
   "nbconvert_exporter": "python",
   "pygments_lexer": "ipython2",
   "version": "2.7.6"
  }
 },
 "nbformat": 4,
 "nbformat_minor": 0
}